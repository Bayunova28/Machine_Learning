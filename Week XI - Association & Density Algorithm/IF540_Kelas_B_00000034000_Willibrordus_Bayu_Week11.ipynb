{
 "cells": [
  {
   "cell_type": "code",
   "execution_count": 1,
   "id": "aa3dc64f",
   "metadata": {},
   "outputs": [
    {
     "name": "stdout",
     "output_type": "stream",
     "text": [
      "Populating the interactive namespace from numpy and matplotlib\n"
     ]
    }
   ],
   "source": [
    "#import library\n",
    "import warnings\n",
    "warnings.filterwarnings('ignore')\n",
    "import numpy as np\n",
    "import pandas as pd\n",
    "import seaborn as sns\n",
    "import matplotlib.pyplot as plt\n",
    "%matplotlib inline\n",
    "import matplotlib\n",
    "%pylab inline\n",
    "from sklearn.preprocessing import StandardScaler\n",
    "from mlxtend.frequent_patterns import apriori, fpgrowth\n",
    "from mlxtend.preprocessing import TransactionEncoder\n",
    "from sklearn.cluster import DBSCAN"
   ]
  },
  {
   "cell_type": "markdown",
   "id": "c7b2f83e",
   "metadata": {},
   "source": [
    "# Waiter Tips Prediction"
   ]
  },
  {
   "cell_type": "code",
   "execution_count": 2,
   "id": "847b5056",
   "metadata": {},
   "outputs": [],
   "source": [
    "#load dataset\n",
    "df_waiter = pd.read_csv('tips.csv')"
   ]
  },
  {
   "cell_type": "code",
   "execution_count": 3,
   "id": "31f49044",
   "metadata": {},
   "outputs": [
    {
     "data": {
      "text/html": [
       "<div>\n",
       "<style scoped>\n",
       "    .dataframe tbody tr th:only-of-type {\n",
       "        vertical-align: middle;\n",
       "    }\n",
       "\n",
       "    .dataframe tbody tr th {\n",
       "        vertical-align: top;\n",
       "    }\n",
       "\n",
       "    .dataframe thead th {\n",
       "        text-align: right;\n",
       "    }\n",
       "</style>\n",
       "<table border=\"1\" class=\"dataframe\">\n",
       "  <thead>\n",
       "    <tr style=\"text-align: right;\">\n",
       "      <th></th>\n",
       "      <th>total_bill</th>\n",
       "      <th>tip</th>\n",
       "      <th>sex</th>\n",
       "      <th>smoker</th>\n",
       "      <th>day</th>\n",
       "      <th>time</th>\n",
       "      <th>size</th>\n",
       "    </tr>\n",
       "  </thead>\n",
       "  <tbody>\n",
       "    <tr>\n",
       "      <th>0</th>\n",
       "      <td>16.99</td>\n",
       "      <td>1.01</td>\n",
       "      <td>Female</td>\n",
       "      <td>No</td>\n",
       "      <td>Sun</td>\n",
       "      <td>Dinner</td>\n",
       "      <td>2</td>\n",
       "    </tr>\n",
       "    <tr>\n",
       "      <th>1</th>\n",
       "      <td>10.34</td>\n",
       "      <td>1.66</td>\n",
       "      <td>Male</td>\n",
       "      <td>No</td>\n",
       "      <td>Sun</td>\n",
       "      <td>Dinner</td>\n",
       "      <td>3</td>\n",
       "    </tr>\n",
       "    <tr>\n",
       "      <th>2</th>\n",
       "      <td>21.01</td>\n",
       "      <td>3.50</td>\n",
       "      <td>Male</td>\n",
       "      <td>No</td>\n",
       "      <td>Sun</td>\n",
       "      <td>Dinner</td>\n",
       "      <td>3</td>\n",
       "    </tr>\n",
       "    <tr>\n",
       "      <th>3</th>\n",
       "      <td>23.68</td>\n",
       "      <td>3.31</td>\n",
       "      <td>Male</td>\n",
       "      <td>No</td>\n",
       "      <td>Sun</td>\n",
       "      <td>Dinner</td>\n",
       "      <td>2</td>\n",
       "    </tr>\n",
       "    <tr>\n",
       "      <th>4</th>\n",
       "      <td>24.59</td>\n",
       "      <td>3.61</td>\n",
       "      <td>Female</td>\n",
       "      <td>No</td>\n",
       "      <td>Sun</td>\n",
       "      <td>Dinner</td>\n",
       "      <td>4</td>\n",
       "    </tr>\n",
       "  </tbody>\n",
       "</table>\n",
       "</div>"
      ],
      "text/plain": [
       "   total_bill   tip     sex smoker  day    time  size\n",
       "0       16.99  1.01  Female     No  Sun  Dinner     2\n",
       "1       10.34  1.66    Male     No  Sun  Dinner     3\n",
       "2       21.01  3.50    Male     No  Sun  Dinner     3\n",
       "3       23.68  3.31    Male     No  Sun  Dinner     2\n",
       "4       24.59  3.61  Female     No  Sun  Dinner     4"
      ]
     },
     "execution_count": 3,
     "metadata": {},
     "output_type": "execute_result"
    }
   ],
   "source": [
    "#show 5 rows ahead of dataset\n",
    "df_waiter.head()"
   ]
  },
  {
   "cell_type": "markdown",
   "id": "8f42a51b",
   "metadata": {},
   "source": [
    "## Exploratory Data Analysis (EDA)"
   ]
  },
  {
   "cell_type": "code",
   "execution_count": 4,
   "id": "1884c002",
   "metadata": {},
   "outputs": [
    {
     "data": {
      "text/plain": [
       "(244, 7)"
      ]
     },
     "execution_count": 4,
     "metadata": {},
     "output_type": "execute_result"
    }
   ],
   "source": [
    "#check total rows and total columns\n",
    "df_waiter.shape"
   ]
  },
  {
   "cell_type": "code",
   "execution_count": 5,
   "id": "f53a77ea",
   "metadata": {},
   "outputs": [
    {
     "data": {
      "text/plain": [
       "total_bill    0\n",
       "tip           0\n",
       "sex           0\n",
       "smoker        0\n",
       "day           0\n",
       "time          0\n",
       "size          0\n",
       "dtype: int64"
      ]
     },
     "execution_count": 5,
     "metadata": {},
     "output_type": "execute_result"
    }
   ],
   "source": [
    "#check missing value\n",
    "df_waiter.isnull().sum()"
   ]
  },
  {
   "cell_type": "code",
   "execution_count": 6,
   "id": "a274d329",
   "metadata": {},
   "outputs": [
    {
     "name": "stdout",
     "output_type": "stream",
     "text": [
      "<class 'pandas.core.frame.DataFrame'>\n",
      "RangeIndex: 244 entries, 0 to 243\n",
      "Data columns (total 7 columns):\n",
      " #   Column      Non-Null Count  Dtype  \n",
      "---  ------      --------------  -----  \n",
      " 0   total_bill  244 non-null    float64\n",
      " 1   tip         244 non-null    float64\n",
      " 2   sex         244 non-null    object \n",
      " 3   smoker      244 non-null    object \n",
      " 4   day         244 non-null    object \n",
      " 5   time        244 non-null    object \n",
      " 6   size        244 non-null    int64  \n",
      "dtypes: float64(2), int64(1), object(4)\n",
      "memory usage: 13.5+ KB\n"
     ]
    }
   ],
   "source": [
    "#check info about dataset\n",
    "df_waiter.info()"
   ]
  },
  {
   "cell_type": "code",
   "execution_count": 7,
   "id": "6db61c51",
   "metadata": {},
   "outputs": [
    {
     "data": {
      "text/html": [
       "<div>\n",
       "<style scoped>\n",
       "    .dataframe tbody tr th:only-of-type {\n",
       "        vertical-align: middle;\n",
       "    }\n",
       "\n",
       "    .dataframe tbody tr th {\n",
       "        vertical-align: top;\n",
       "    }\n",
       "\n",
       "    .dataframe thead th {\n",
       "        text-align: right;\n",
       "    }\n",
       "</style>\n",
       "<table border=\"1\" class=\"dataframe\">\n",
       "  <thead>\n",
       "    <tr style=\"text-align: right;\">\n",
       "      <th></th>\n",
       "      <th>total_bill</th>\n",
       "      <th>tip</th>\n",
       "      <th>size</th>\n",
       "    </tr>\n",
       "  </thead>\n",
       "  <tbody>\n",
       "    <tr>\n",
       "      <th>count</th>\n",
       "      <td>244.000000</td>\n",
       "      <td>244.000000</td>\n",
       "      <td>244.000000</td>\n",
       "    </tr>\n",
       "    <tr>\n",
       "      <th>mean</th>\n",
       "      <td>19.785943</td>\n",
       "      <td>2.998279</td>\n",
       "      <td>2.569672</td>\n",
       "    </tr>\n",
       "    <tr>\n",
       "      <th>std</th>\n",
       "      <td>8.902412</td>\n",
       "      <td>1.383638</td>\n",
       "      <td>0.951100</td>\n",
       "    </tr>\n",
       "    <tr>\n",
       "      <th>min</th>\n",
       "      <td>3.070000</td>\n",
       "      <td>1.000000</td>\n",
       "      <td>1.000000</td>\n",
       "    </tr>\n",
       "    <tr>\n",
       "      <th>25%</th>\n",
       "      <td>13.347500</td>\n",
       "      <td>2.000000</td>\n",
       "      <td>2.000000</td>\n",
       "    </tr>\n",
       "    <tr>\n",
       "      <th>50%</th>\n",
       "      <td>17.795000</td>\n",
       "      <td>2.900000</td>\n",
       "      <td>2.000000</td>\n",
       "    </tr>\n",
       "    <tr>\n",
       "      <th>75%</th>\n",
       "      <td>24.127500</td>\n",
       "      <td>3.562500</td>\n",
       "      <td>3.000000</td>\n",
       "    </tr>\n",
       "    <tr>\n",
       "      <th>max</th>\n",
       "      <td>50.810000</td>\n",
       "      <td>10.000000</td>\n",
       "      <td>6.000000</td>\n",
       "    </tr>\n",
       "  </tbody>\n",
       "</table>\n",
       "</div>"
      ],
      "text/plain": [
       "       total_bill         tip        size\n",
       "count  244.000000  244.000000  244.000000\n",
       "mean    19.785943    2.998279    2.569672\n",
       "std      8.902412    1.383638    0.951100\n",
       "min      3.070000    1.000000    1.000000\n",
       "25%     13.347500    2.000000    2.000000\n",
       "50%     17.795000    2.900000    2.000000\n",
       "75%     24.127500    3.562500    3.000000\n",
       "max     50.810000   10.000000    6.000000"
      ]
     },
     "execution_count": 7,
     "metadata": {},
     "output_type": "execute_result"
    }
   ],
   "source": [
    "#describe dataset\n",
    "df_waiter.describe()"
   ]
  },
  {
   "cell_type": "code",
   "execution_count": 8,
   "id": "890b00a2",
   "metadata": {},
   "outputs": [
    {
     "data": {
      "image/png": "[encoded data removed]",
      "text/plain": [
       "<Figure size 432x288 with 2 Axes>"
      ]
     },
     "metadata": {
      "needs_background": "light"
     },
     "output_type": "display_data"
    }
   ],
   "source": [
    "#visualize correlation of each variables using pearson correlation\n",
    "sns.heatmap(df_waiter.corr(), linewidths = 0.9, annot = True, cmap = 'YlGnBu')\n",
    "plt.title('Pearson Correlation', fontsize = 15, pad = 12, fontweight = 'bold')\n",
    "plt.show()"
   ]
  },
  {
   "cell_type": "code",
   "execution_count": 9,
   "id": "a4b82eca",
   "metadata": {},
   "outputs": [
    {
     "data": {
      "text/plain": [
       "array(['Female', 'Male'], dtype=object)"
      ]
     },
     "execution_count": 9,
     "metadata": {},
     "output_type": "execute_result"
    }
   ],
   "source": [
    "#check unique of sex column\n",
    "df_waiter['sex'].unique()"
   ]
  },
  {
   "cell_type": "code",
   "execution_count": 10,
   "id": "b2a79f99",
   "metadata": {},
   "outputs": [
    {
     "data": {
      "text/plain": [
       "array(['No', 'Yes'], dtype=object)"
      ]
     },
     "execution_count": 10,
     "metadata": {},
     "output_type": "execute_result"
    }
   ],
   "source": [
    "#check unique of smoker column\n",
    "df_waiter['smoker'].unique()"
   ]
  },
  {
   "cell_type": "code",
   "execution_count": 11,
   "id": "05fa7043",
   "metadata": {},
   "outputs": [
    {
     "data": {
      "text/plain": [
       "array(['Sun', 'Sat', 'Thur', 'Fri'], dtype=object)"
      ]
     },
     "execution_count": 11,
     "metadata": {},
     "output_type": "execute_result"
    }
   ],
   "source": [
    "#check unique of day column\n",
    "df_waiter['day'].unique()"
   ]
  },
  {
   "cell_type": "code",
   "execution_count": 12,
   "id": "f69283f4",
   "metadata": {},
   "outputs": [
    {
     "data": {
      "text/plain": [
       "array(['Dinner', 'Lunch'], dtype=object)"
      ]
     },
     "execution_count": 12,
     "metadata": {},
     "output_type": "execute_result"
    }
   ],
   "source": [
    "#check unique of time column\n",
    "df_waiter['time'].unique()"
   ]
  },
  {
   "cell_type": "code",
   "execution_count": 13,
   "id": "276560ee",
   "metadata": {},
   "outputs": [
    {
     "data": {
      "image/png": "[encoded data removed]",
      "text/plain": [
       "<Figure size 720x720 with 4 Axes>"
      ]
     },
     "metadata": {
      "needs_background": "light"
     },
     "output_type": "display_data"
    }
   ],
   "source": [
    "#visualize number of each attributes of dataset\n",
    "fig = plt.figure(figsize = (10,10))\n",
    "axes = 320\n",
    "\n",
    "for i in df_waiter[['sex', 'smoker', 'day', 'time']]:\n",
    "    axes += 1\n",
    "    fig.add_subplot(axes)\n",
    "    sns.countplot(data = df_waiter, x = i, palette = 'Set1')\n",
    "    plt.xticks()\n",
    "    \n",
    "plt.show()"
   ]
  },
  {
   "cell_type": "code",
   "execution_count": 14,
   "id": "02965336",
   "metadata": {},
   "outputs": [
    {
     "data": {
      "image/png": "[encoded data removed]",
      "text/plain": [
       "<Figure size 720x576 with 3 Axes>"
      ]
     },
     "metadata": {
      "needs_background": "light"
     },
     "output_type": "display_data"
    }
   ],
   "source": [
    "#check outlier\n",
    "fig = plt.figure(figsize = (10,8))\n",
    "axes = 220\n",
    "\n",
    "for i in df_waiter[['total_bill', 'tip', 'size']]:\n",
    "    axes += 1\n",
    "    fig.add_subplot(axes)\n",
    "    sns.boxplot(data = df_waiter, x = i, color = 'darkorange')\n",
    "plt.show()"
   ]
  },
  {
   "cell_type": "code",
   "execution_count": 15,
   "id": "4461ac91",
   "metadata": {},
   "outputs": [
    {
     "data": {
      "text/html": [
       "<div>\n",
       "<style scoped>\n",
       "    .dataframe tbody tr th:only-of-type {\n",
       "        vertical-align: middle;\n",
       "    }\n",
       "\n",
       "    .dataframe tbody tr th {\n",
       "        vertical-align: top;\n",
       "    }\n",
       "\n",
       "    .dataframe thead th {\n",
       "        text-align: right;\n",
       "    }\n",
       "</style>\n",
       "<table border=\"1\" class=\"dataframe\">\n",
       "  <thead>\n",
       "    <tr style=\"text-align: right;\">\n",
       "      <th></th>\n",
       "      <th></th>\n",
       "      <th></th>\n",
       "      <th>tip</th>\n",
       "    </tr>\n",
       "    <tr>\n",
       "      <th>sex</th>\n",
       "      <th>smoker</th>\n",
       "      <th>day</th>\n",
       "      <th></th>\n",
       "    </tr>\n",
       "  </thead>\n",
       "  <tbody>\n",
       "    <tr>\n",
       "      <th rowspan=\"3\" valign=\"top\">Male</th>\n",
       "      <th rowspan=\"2\" valign=\"top\">No</th>\n",
       "      <th>Sun</th>\n",
       "      <td>133.96</td>\n",
       "    </tr>\n",
       "    <tr>\n",
       "      <th>Sat</th>\n",
       "      <td>104.21</td>\n",
       "    </tr>\n",
       "    <tr>\n",
       "      <th>Yes</th>\n",
       "      <th>Sat</th>\n",
       "      <td>77.74</td>\n",
       "    </tr>\n",
       "    <tr>\n",
       "      <th>Female</th>\n",
       "      <th>No</th>\n",
       "      <th>Thur</th>\n",
       "      <td>61.49</td>\n",
       "    </tr>\n",
       "    <tr>\n",
       "      <th rowspan=\"2\" valign=\"top\">Male</th>\n",
       "      <th>No</th>\n",
       "      <th>Thur</th>\n",
       "      <td>58.83</td>\n",
       "    </tr>\n",
       "    <tr>\n",
       "      <th>Yes</th>\n",
       "      <th>Sun</th>\n",
       "      <td>52.82</td>\n",
       "    </tr>\n",
       "    <tr>\n",
       "      <th rowspan=\"3\" valign=\"top\">Female</th>\n",
       "      <th>No</th>\n",
       "      <th>Sun</th>\n",
       "      <td>46.61</td>\n",
       "    </tr>\n",
       "    <tr>\n",
       "      <th>Yes</th>\n",
       "      <th>Sat</th>\n",
       "      <td>43.03</td>\n",
       "    </tr>\n",
       "    <tr>\n",
       "      <th>No</th>\n",
       "      <th>Sat</th>\n",
       "      <td>35.42</td>\n",
       "    </tr>\n",
       "    <tr>\n",
       "      <th rowspan=\"2\" valign=\"top\">Male</th>\n",
       "      <th rowspan=\"2\" valign=\"top\">Yes</th>\n",
       "      <th>Thur</th>\n",
       "      <td>30.58</td>\n",
       "    </tr>\n",
       "    <tr>\n",
       "      <th>Fri</th>\n",
       "      <td>21.93</td>\n",
       "    </tr>\n",
       "    <tr>\n",
       "      <th rowspan=\"4\" valign=\"top\">Female</th>\n",
       "      <th rowspan=\"3\" valign=\"top\">Yes</th>\n",
       "      <th>Thur</th>\n",
       "      <td>20.93</td>\n",
       "    </tr>\n",
       "    <tr>\n",
       "      <th>Fri</th>\n",
       "      <td>18.78</td>\n",
       "    </tr>\n",
       "    <tr>\n",
       "      <th>Sun</th>\n",
       "      <td>14.00</td>\n",
       "    </tr>\n",
       "    <tr>\n",
       "      <th>No</th>\n",
       "      <th>Fri</th>\n",
       "      <td>6.25</td>\n",
       "    </tr>\n",
       "    <tr>\n",
       "      <th>Male</th>\n",
       "      <th>No</th>\n",
       "      <th>Fri</th>\n",
       "      <td>5.00</td>\n",
       "    </tr>\n",
       "  </tbody>\n",
       "</table>\n",
       "</div>"
      ],
      "text/plain": [
       "                       tip\n",
       "sex    smoker day         \n",
       "Male   No     Sun   133.96\n",
       "              Sat   104.21\n",
       "       Yes    Sat    77.74\n",
       "Female No     Thur   61.49\n",
       "Male   No     Thur   58.83\n",
       "       Yes    Sun    52.82\n",
       "Female No     Sun    46.61\n",
       "       Yes    Sat    43.03\n",
       "       No     Sat    35.42\n",
       "Male   Yes    Thur   30.58\n",
       "              Fri    21.93\n",
       "Female Yes    Thur   20.93\n",
       "              Fri    18.78\n",
       "              Sun    14.00\n",
       "       No     Fri     6.25\n",
       "Male   No     Fri     5.00"
      ]
     },
     "execution_count": 15,
     "metadata": {},
     "output_type": "execute_result"
    }
   ],
   "source": [
    "#analyze total tips based on sex, smoker and day\n",
    "pd.pivot_table(df_waiter, index = ['sex', 'smoker', 'day'], values = 'tip', \n",
    "               aggfunc = {'tip' : np.sum}).sort_values('tip', ascending = False)"
   ]
  },
  {
   "cell_type": "code",
   "execution_count": 16,
   "id": "32dcc4c8",
   "metadata": {},
   "outputs": [
    {
     "data": {
      "image/png": "[encoded data removed]",
      "text/plain": [
       "<Figure size 432x288 with 1 Axes>"
      ]
     },
     "metadata": {
      "needs_background": "light"
     },
     "output_type": "display_data"
    }
   ],
   "source": [
    "#visualize total tips based on sex, smoker and day\n",
    "chart = df_waiter.groupby('sex')['tip'].sum().sort_values(ascending = False).plot(kind = 'bar', color = 'orangered')\n",
    "chart.set_xticklabels(chart.get_xticklabels(), rotation = 0)\n",
    "plt.grid(color = 'darkgray', linestyle = ':', linewidth = 1)\n",
    "plt.title('Total Tips based on Sex', fontsize = 15, pad = 12, fontweight = 'bold')\n",
    "plt.xlabel('Sex', fontsize = 12)\n",
    "plt.ylabel('Total Tips', fontsize = 12)\n",
    "plt.show()"
   ]
  },
  {
   "cell_type": "code",
   "execution_count": 17,
   "id": "26113d10",
   "metadata": {},
   "outputs": [
    {
     "data": {
      "text/html": [
       "<div>\n",
       "<style scoped>\n",
       "    .dataframe tbody tr th:only-of-type {\n",
       "        vertical-align: middle;\n",
       "    }\n",
       "\n",
       "    .dataframe tbody tr th {\n",
       "        vertical-align: top;\n",
       "    }\n",
       "\n",
       "    .dataframe thead th {\n",
       "        text-align: right;\n",
       "    }\n",
       "</style>\n",
       "<table border=\"1\" class=\"dataframe\">\n",
       "  <thead>\n",
       "    <tr style=\"text-align: right;\">\n",
       "      <th></th>\n",
       "      <th></th>\n",
       "      <th></th>\n",
       "      <th>tip</th>\n",
       "    </tr>\n",
       "    <tr>\n",
       "      <th>time</th>\n",
       "      <th>smoker</th>\n",
       "      <th>day</th>\n",
       "      <th></th>\n",
       "    </tr>\n",
       "  </thead>\n",
       "  <tbody>\n",
       "    <tr>\n",
       "      <th rowspan=\"3\" valign=\"top\">Dinner</th>\n",
       "      <th rowspan=\"2\" valign=\"top\">No</th>\n",
       "      <th>Sun</th>\n",
       "      <td>180.57</td>\n",
       "    </tr>\n",
       "    <tr>\n",
       "      <th>Sat</th>\n",
       "      <td>139.63</td>\n",
       "    </tr>\n",
       "    <tr>\n",
       "      <th>Yes</th>\n",
       "      <th>Sat</th>\n",
       "      <td>120.77</td>\n",
       "    </tr>\n",
       "    <tr>\n",
       "      <th>Lunch</th>\n",
       "      <th>No</th>\n",
       "      <th>Thur</th>\n",
       "      <td>117.32</td>\n",
       "    </tr>\n",
       "    <tr>\n",
       "      <th>Dinner</th>\n",
       "      <th>Yes</th>\n",
       "      <th>Sun</th>\n",
       "      <td>66.82</td>\n",
       "    </tr>\n",
       "    <tr>\n",
       "      <th>Lunch</th>\n",
       "      <th>Yes</th>\n",
       "      <th>Thur</th>\n",
       "      <td>51.51</td>\n",
       "    </tr>\n",
       "    <tr>\n",
       "      <th>Dinner</th>\n",
       "      <th>Yes</th>\n",
       "      <th>Fri</th>\n",
       "      <td>27.03</td>\n",
       "    </tr>\n",
       "    <tr>\n",
       "      <th>Lunch</th>\n",
       "      <th>Yes</th>\n",
       "      <th>Fri</th>\n",
       "      <td>13.68</td>\n",
       "    </tr>\n",
       "    <tr>\n",
       "      <th rowspan=\"2\" valign=\"top\">Dinner</th>\n",
       "      <th rowspan=\"2\" valign=\"top\">No</th>\n",
       "      <th>Fri</th>\n",
       "      <td>8.25</td>\n",
       "    </tr>\n",
       "    <tr>\n",
       "      <th>Thur</th>\n",
       "      <td>3.00</td>\n",
       "    </tr>\n",
       "    <tr>\n",
       "      <th>Lunch</th>\n",
       "      <th>No</th>\n",
       "      <th>Fri</th>\n",
       "      <td>3.00</td>\n",
       "    </tr>\n",
       "  </tbody>\n",
       "</table>\n",
       "</div>"
      ],
      "text/plain": [
       "                       tip\n",
       "time   smoker day         \n",
       "Dinner No     Sun   180.57\n",
       "              Sat   139.63\n",
       "       Yes    Sat   120.77\n",
       "Lunch  No     Thur  117.32\n",
       "Dinner Yes    Sun    66.82\n",
       "Lunch  Yes    Thur   51.51\n",
       "Dinner Yes    Fri    27.03\n",
       "Lunch  Yes    Fri    13.68\n",
       "Dinner No     Fri     8.25\n",
       "              Thur    3.00\n",
       "Lunch  No     Fri     3.00"
      ]
     },
     "execution_count": 17,
     "metadata": {},
     "output_type": "execute_result"
    }
   ],
   "source": [
    "#analyze total tips based on time, smoker and day\n",
    "pd.pivot_table(df_waiter, index = ['time', 'smoker', 'day'], values = 'tip', \n",
    "               aggfunc = {'tip' : np.sum}).sort_values('tip', ascending = False)"
   ]
  },
  {
   "cell_type": "code",
   "execution_count": 18,
   "id": "836d8639",
   "metadata": {},
   "outputs": [
    {
     "data": {
      "image/png": "[encoded data removed]",
      "text/plain": [
       "<Figure size 432x288 with 1 Axes>"
      ]
     },
     "metadata": {
      "needs_background": "light"
     },
     "output_type": "display_data"
    }
   ],
   "source": [
    "#visualize total tips based on time, smoker and day\n",
    "chart = df_waiter.groupby('time')['tip'].sum().sort_values(ascending = False).plot(kind = 'bar', color = 'royalblue')\n",
    "chart.set_xticklabels(chart.get_xticklabels(), rotation = 0)\n",
    "plt.grid(color = 'darkgray', linestyle = ':', linewidth = 1)\n",
    "plt.title('Total Tips based on Time', fontsize = 15, pad = 12, fontweight = 'bold')\n",
    "plt.xlabel('Time', fontsize = 12)\n",
    "plt.ylabel('Total Tips', fontsize = 12)\n",
    "plt.show()"
   ]
  },
  {
   "cell_type": "code",
   "execution_count": 19,
   "id": "2a6f6704",
   "metadata": {},
   "outputs": [
    {
     "data": {
      "text/html": [
       "<div>\n",
       "<style scoped>\n",
       "    .dataframe tbody tr th:only-of-type {\n",
       "        vertical-align: middle;\n",
       "    }\n",
       "\n",
       "    .dataframe tbody tr th {\n",
       "        vertical-align: top;\n",
       "    }\n",
       "\n",
       "    .dataframe thead th {\n",
       "        text-align: right;\n",
       "    }\n",
       "</style>\n",
       "<table border=\"1\" class=\"dataframe\">\n",
       "  <thead>\n",
       "    <tr style=\"text-align: right;\">\n",
       "      <th></th>\n",
       "      <th></th>\n",
       "      <th></th>\n",
       "      <th>tip</th>\n",
       "    </tr>\n",
       "    <tr>\n",
       "      <th>day</th>\n",
       "      <th>sex</th>\n",
       "      <th>smoker</th>\n",
       "      <th></th>\n",
       "    </tr>\n",
       "  </thead>\n",
       "  <tbody>\n",
       "    <tr>\n",
       "      <th>Sun</th>\n",
       "      <th>Male</th>\n",
       "      <th>No</th>\n",
       "      <td>133.96</td>\n",
       "    </tr>\n",
       "    <tr>\n",
       "      <th rowspan=\"2\" valign=\"top\">Sat</th>\n",
       "      <th rowspan=\"2\" valign=\"top\">Male</th>\n",
       "      <th>No</th>\n",
       "      <td>104.21</td>\n",
       "    </tr>\n",
       "    <tr>\n",
       "      <th>Yes</th>\n",
       "      <td>77.74</td>\n",
       "    </tr>\n",
       "    <tr>\n",
       "      <th rowspan=\"2\" valign=\"top\">Thur</th>\n",
       "      <th>Female</th>\n",
       "      <th>No</th>\n",
       "      <td>61.49</td>\n",
       "    </tr>\n",
       "    <tr>\n",
       "      <th>Male</th>\n",
       "      <th>No</th>\n",
       "      <td>58.83</td>\n",
       "    </tr>\n",
       "    <tr>\n",
       "      <th rowspan=\"2\" valign=\"top\">Sun</th>\n",
       "      <th>Male</th>\n",
       "      <th>Yes</th>\n",
       "      <td>52.82</td>\n",
       "    </tr>\n",
       "    <tr>\n",
       "      <th>Female</th>\n",
       "      <th>No</th>\n",
       "      <td>46.61</td>\n",
       "    </tr>\n",
       "    <tr>\n",
       "      <th rowspan=\"2\" valign=\"top\">Sat</th>\n",
       "      <th rowspan=\"2\" valign=\"top\">Female</th>\n",
       "      <th>Yes</th>\n",
       "      <td>43.03</td>\n",
       "    </tr>\n",
       "    <tr>\n",
       "      <th>No</th>\n",
       "      <td>35.42</td>\n",
       "    </tr>\n",
       "    <tr>\n",
       "      <th>Thur</th>\n",
       "      <th>Male</th>\n",
       "      <th>Yes</th>\n",
       "      <td>30.58</td>\n",
       "    </tr>\n",
       "    <tr>\n",
       "      <th>Fri</th>\n",
       "      <th>Male</th>\n",
       "      <th>Yes</th>\n",
       "      <td>21.93</td>\n",
       "    </tr>\n",
       "    <tr>\n",
       "      <th>Thur</th>\n",
       "      <th>Female</th>\n",
       "      <th>Yes</th>\n",
       "      <td>20.93</td>\n",
       "    </tr>\n",
       "    <tr>\n",
       "      <th>Fri</th>\n",
       "      <th>Female</th>\n",
       "      <th>Yes</th>\n",
       "      <td>18.78</td>\n",
       "    </tr>\n",
       "    <tr>\n",
       "      <th>Sun</th>\n",
       "      <th>Female</th>\n",
       "      <th>Yes</th>\n",
       "      <td>14.00</td>\n",
       "    </tr>\n",
       "    <tr>\n",
       "      <th rowspan=\"2\" valign=\"top\">Fri</th>\n",
       "      <th>Female</th>\n",
       "      <th>No</th>\n",
       "      <td>6.25</td>\n",
       "    </tr>\n",
       "    <tr>\n",
       "      <th>Male</th>\n",
       "      <th>No</th>\n",
       "      <td>5.00</td>\n",
       "    </tr>\n",
       "  </tbody>\n",
       "</table>\n",
       "</div>"
      ],
      "text/plain": [
       "                       tip\n",
       "day  sex    smoker        \n",
       "Sun  Male   No      133.96\n",
       "Sat  Male   No      104.21\n",
       "            Yes      77.74\n",
       "Thur Female No       61.49\n",
       "     Male   No       58.83\n",
       "Sun  Male   Yes      52.82\n",
       "     Female No       46.61\n",
       "Sat  Female Yes      43.03\n",
       "            No       35.42\n",
       "Thur Male   Yes      30.58\n",
       "Fri  Male   Yes      21.93\n",
       "Thur Female Yes      20.93\n",
       "Fri  Female Yes      18.78\n",
       "Sun  Female Yes      14.00\n",
       "Fri  Female No        6.25\n",
       "     Male   No        5.00"
      ]
     },
     "execution_count": 19,
     "metadata": {},
     "output_type": "execute_result"
    }
   ],
   "source": [
    "#analyze total tips based on day, sex and smoker\n",
    "pd.pivot_table(df_waiter, index = ['day', 'sex', 'smoker'], values = 'tip', \n",
    "               aggfunc = {'tip' : np.sum}).sort_values('tip', ascending = False)"
   ]
  },
  {
   "cell_type": "code",
   "execution_count": 20,
   "id": "01217a72",
   "metadata": {},
   "outputs": [
    {
     "data": {
      "image/png": "[encoded data removed]",
      "text/plain": [
       "<Figure size 432x288 with 1 Axes>"
      ]
     },
     "metadata": {
      "needs_background": "light"
     },
     "output_type": "display_data"
    }
   ],
   "source": [
    "#visualize total tips based on day, sex and smoker\n",
    "chart = df_waiter.groupby('day')['tip'].sum().sort_values(ascending = False).plot(kind = 'bar', color = 'lightseagreen')\n",
    "chart.set_xticklabels(chart.get_xticklabels(), rotation = 0)\n",
    "plt.grid(color = 'darkgray', linestyle = ':', linewidth = 1)\n",
    "plt.title('Total Tips based on Day', fontsize = 15, pad = 12, fontweight = 'bold')\n",
    "plt.xlabel('Day', fontsize = 12)\n",
    "plt.ylabel('Total Tips', fontsize = 12)\n",
    "plt.show()"
   ]
  },
  {
   "cell_type": "code",
   "execution_count": 21,
   "id": "c3c5ee24",
   "metadata": {},
   "outputs": [
    {
     "name": "stderr",
     "output_type": "stream",
     "text": [
      "No handles with labels found to put in legend.\n"
     ]
    },
    {
     "data": {
      "text/plain": [
       "<matplotlib.legend.Legend at 0x245db9a6b50>"
      ]
     },
     "execution_count": 21,
     "metadata": {},
     "output_type": "execute_result"
    },
    {
     "data": {
      "image/png": "[encoded data removed]",
      "text/plain": [
       "<Figure size 576x432 with 3 Axes>"
      ]
     },
     "metadata": {
      "needs_background": "light"
     },
     "output_type": "display_data"
    }
   ],
   "source": [
    "#visualize distribution of each variables \n",
    "fig, (ax1, ax2, ax3) = plt.subplots(3, 1, figsize = (8,6))\n",
    "sns.distplot(df_waiter['total_bill'], ax = ax1)\n",
    "sns.distplot(df_waiter['tip'], ax = ax2)\n",
    "sns.distplot(df_waiter['size'], ax = ax3)\n",
    "plt.tight_layout()\n",
    "plt.legend()"
   ]
  },
  {
   "cell_type": "code",
   "execution_count": 22,
   "id": "b91da5bf",
   "metadata": {},
   "outputs": [
    {
     "data": {
      "image/png": "[encoded data removed]",
      "text/plain": [
       "<Figure size 432x288 with 2 Axes>"
      ]
     },
     "metadata": {
      "needs_background": "light"
     },
     "output_type": "display_data"
    }
   ],
   "source": [
    "#transform skew distribution to normal distribution of total bill\n",
    "subplot(1,2,1)\n",
    "hist(df_waiter['total_bill'] * 1e-6, 20, color = 'r');\n",
    "xlabel('Total Bill', fontsize = 12)\n",
    "subplot(1, 2, 2)\n",
    "hist(log10(df_waiter['total_bill']), 20);\n",
    "xlabel('log10(Total Bill)', fontsize = 12)\n",
    "plt.show()"
   ]
  },
  {
   "cell_type": "code",
   "execution_count": 23,
   "id": "cacd8ae0",
   "metadata": {},
   "outputs": [
    {
     "data": {
      "image/png": "[encoded data removed]",
      "text/plain": [
       "<Figure size 432x288 with 2 Axes>"
      ]
     },
     "metadata": {
      "needs_background": "light"
     },
     "output_type": "display_data"
    }
   ],
   "source": [
    "#transform skew distribution to normal distribution of tips\n",
    "subplot(1,2,1)\n",
    "hist(df_waiter['tip'] * 1e-6, 20, color = 'r');\n",
    "xlabel('Tips', fontsize = 12)\n",
    "subplot(1, 2, 2)\n",
    "hist(log10(df_waiter['tip']), 20);\n",
    "xlabel('log10(Tips)', fontsize = 12)\n",
    "plt.show()"
   ]
  },
  {
   "cell_type": "markdown",
   "id": "36c5ccc8",
   "metadata": {},
   "source": [
    "## Density-Based Spatial Clustering of Applications with Noise (DBSCAN Clustering) "
   ]
  },
  {
   "cell_type": "code",
   "execution_count": 24,
   "id": "d8d1c659",
   "metadata": {},
   "outputs": [
    {
     "name": "stdout",
     "output_type": "stream",
     "text": [
      "[[-3.14711305e-01 -1.43994695e+00 -6.00192629e-01]\n",
      " [-1.06323531e+00 -9.69205340e-01  4.53382921e-01]\n",
      " [ 1.37779900e-01  3.63355539e-01  4.53382921e-01]\n",
      " [ 4.38315103e-01  2.25754144e-01 -6.00192629e-01]\n",
      " [ 5.40744704e-01  4.43019505e-01  1.50695847e+00]\n",
      " [ 6.19536705e-01  1.23965916e+00  1.50695847e+00]\n",
      " [-1.23995452e+00 -7.22971264e-01 -6.00192629e-01]\n",
      " [ 7.98507107e-01  8.81527488e-02  1.50695847e+00]\n",
      " [-5.34203307e-01 -7.51939979e-01 -6.00192629e-01]\n",
      " [-5.63468908e-01  1.67816714e-01 -6.00192629e-01]\n",
      " [-1.07111451e+00 -9.32994446e-01 -6.00192629e-01]\n",
      " [ 1.74175992e+00  1.44968234e+00  1.50695847e+00]\n",
      " [-4.91430507e-01 -1.03438495e+00 -6.00192629e-01]\n",
      " [-1.52624903e-01  1.24660453e-03  1.50695847e+00]\n",
      " [-5.57840908e-01  1.57309619e-02 -6.00192629e-01]\n",
      " [ 2.01939101e-01  6.67527044e-01 -6.00192629e-01]\n",
      " [-1.06436091e+00 -9.61963161e-01  4.53382921e-01]\n",
      " [-3.93503306e-01  5.15441291e-01  4.53382921e-01]\n",
      " [-3.16962505e-01  3.63355539e-01  4.53382921e-01]\n",
      " [ 9.72582994e-02  2.54722859e-01  4.53382921e-01]\n",
      " [-2.10030504e-01  7.83401903e-01 -6.00192629e-01]\n",
      " [ 5.67366990e-02 -1.79807863e-01 -6.00192629e-01]\n",
      " [-4.52034507e-01 -5.56401155e-01 -6.00192629e-01]\n",
      " [ 2.21000952e+00  3.31816444e+00  1.50695847e+00]\n",
      " [ 3.83349840e-03  1.31605821e-01 -6.00192629e-01]\n",
      " [-2.22412104e-01 -4.76737189e-01  1.50695847e+00]\n",
      " [-7.22178510e-01 -7.22971264e-01 -6.00192629e-01]\n",
      " [-7.98719310e-01 -7.22971264e-01 -6.00192629e-01]\n",
      " [ 2.15446301e-01  9.42729834e-01 -6.00192629e-01]\n",
      " [-1.53017018e-02  1.24660453e-03 -6.00192629e-01]\n",
      " [-1.15215771e+00 -1.12129109e+00 -6.00192629e-01]\n",
      " [-1.61629703e-01 -3.60862330e-01  1.50695847e+00]\n",
      " [-5.31952107e-01  1.24660453e-03 -6.00192629e-01]\n",
      " [ 1.01760699e-01 -3.97073223e-01  1.50695847e+00]\n",
      " [-2.25788904e-01  1.96785429e-01 -6.00192629e-01]\n",
      " [ 4.81087904e-01  4.35777326e-01  4.53382921e-01]\n",
      " [-3.91252106e-01 -7.22971264e-01  4.53382921e-01]\n",
      " [-3.21464905e-01  5.19418554e-02  4.53382921e-01]\n",
      " [-1.23359303e-01 -4.98463725e-01  4.53382921e-01]\n",
      " [ 1.29264551e+00  1.44968234e+00  4.53382921e-01]\n",
      " [-4.21643306e-01 -5.49158976e-01  4.53382921e-01]\n",
      " [-2.61808105e-01 -3.31893615e-01 -6.00192629e-01]\n",
      " [-6.58019309e-01  4.46996767e-02 -6.00192629e-01]\n",
      " [-1.13752491e+00 -1.21543942e+00 -6.00192629e-01]\n",
      " [ 1.19471831e+00  1.88421306e+00  1.50695847e+00]\n",
      " [-1.68383303e-01  1.24660453e-03 -6.00192629e-01]\n",
      " [ 2.75103101e-01  1.44968234e+00 -6.00192629e-01]\n",
      " [ 1.41983831e+00  2.17390021e+00  1.50695847e+00]\n",
      " [ 9.86482309e-01 -6.86760371e-01  4.53382921e-01]\n",
      " [-1.96523304e-01  1.24660453e-03 -6.00192629e-01]\n",
      " [-8.15603311e-01 -3.60862330e-01 -6.00192629e-01]\n",
      " [-1.06886331e+00 -2.88440543e-01 -6.00192629e-01]\n",
      " [ 1.69110792e+00  1.59452592e+00  1.50695847e+00]\n",
      " [-1.10825931e+00 -1.04162713e+00 -6.00192629e-01]\n",
      " [ 6.49927905e-01  9.71698549e-01  1.50695847e+00]\n",
      " [-3.33113020e-02  3.70597718e-01 -6.00192629e-01]\n",
      " [ 2.05129992e+00  1.24660453e-03  1.50695847e+00]\n",
      " [ 7.45603907e-01 -1.08508020e+00 -6.00192629e-01]\n",
      " [-9.61931312e-01 -8.96783553e-01 -6.00192629e-01]\n",
      " [ 3.20616553e+00  2.70257926e+00  1.50695847e+00]\n",
      " [ 5.67366990e-02  1.53332357e-01 -6.00192629e-01]\n",
      " [-6.72652109e-01 -7.22971264e-01 -6.00192629e-01]\n",
      " [-9.86694512e-01 -7.37455622e-01 -6.00192629e-01]\n",
      " [-1.68383303e-01  5.51652185e-01  1.50695847e+00]\n",
      " [-2.47175304e-01 -2.59471828e-01  4.53382921e-01]\n",
      " [ 3.30990987e-02  1.09879285e-01  4.53382921e-01]\n",
      " [-3.75493706e-01 -3.82588866e-01 -6.00192629e-01]\n",
      " [-1.88154652e+00 -1.44718913e+00 -1.65376818e+00]\n",
      " [ 4.99830989e-02 -7.15729086e-01 -6.00192629e-01]\n",
      " [-5.37580108e-01 -6.57791656e-01 -6.00192629e-01]\n",
      " [-8.74134511e-01 -7.44697800e-01 -6.00192629e-01]\n",
      " [-3.05706505e-01  1.24660453e-03  4.53382921e-01]\n",
      " [ 7.96255907e-01  1.02637106e-01 -6.00192629e-01]\n",
      " [ 6.18411105e-01  1.44968234e+00 -6.00192629e-01]\n",
      " [-5.69096908e-01 -5.78127691e-01 -6.00192629e-01]\n",
      " [-1.04410011e+00 -1.26613467e+00 -6.00192629e-01]\n",
      " [-2.10030504e-01  5.91840340e-02 -6.00192629e-01]\n",
      " [ 8.34526308e-01  7.25464473e-01  1.50695847e+00]\n",
      " [ 3.34759902e-01  1.24660453e-03 -6.00192629e-01]\n",
      " [-2.80943305e-01 -2.08776577e-01 -6.00192629e-01]\n",
      " [-3.89393021e-02  1.24660453e-03 -6.00192629e-01]\n",
      " [-3.51856105e-01  2.90933752e-01 -6.00192629e-01]\n",
      " [-1.09362651e+00 -8.46088302e-01 -1.65376818e+00]\n",
      " [ 1.45135511e+00  1.44968234e+00 -6.00192629e-01]\n",
      " [-4.28396906e-01 -7.01244728e-01 -6.00192629e-01]\n",
      " [ 1.69335912e+00  1.57279938e+00  1.50695847e+00]\n",
      " [-7.60448910e-01 -7.22971264e-01 -6.00192629e-01]\n",
      " [-1.69508903e-01  7.25464473e-01 -6.00192629e-01]\n",
      " [ 5.54251904e-01  2.06526753e+00 -6.00192629e-01]\n",
      " [ 1.54663900e-01  1.24660453e-03 -6.00192629e-01]\n",
      " [ 1.03375751e+00  1.24660453e-03 -6.00192629e-01]\n",
      " [ 3.04368702e-01  3.63355539e-01 -6.00192629e-01]\n",
      " [-1.57988572e+00 -1.44718913e+00 -6.00192629e-01]\n",
      " [-3.90126506e-01  9.42729834e-01 -6.00192629e-01]\n",
      " [ 3.33634302e-01  1.82301072e-01 -6.00192629e-01]\n",
      " [ 2.29442952e+00  1.25414352e+00  1.50695847e+00]\n",
      " [ 8.43531108e-01  7.25464473e-01 -6.00192629e-01]\n",
      " [-8.73008911e-01 -1.08508020e+00 -6.00192629e-01]\n",
      " [ 1.37779900e-01  1.24660453e-03 -6.00192629e-01]\n",
      " [-8.24608111e-01 -1.08508020e+00 -6.00192629e-01]\n",
      " [-9.49549712e-01 -3.60862330e-01 -6.00192629e-01]\n",
      " [-4.95932907e-01  1.24660453e-03 -6.00192629e-01]\n",
      " [ 2.75930233e+00 -3.60862330e-01  4.53382921e-01]\n",
      " [ 2.96489502e-01  3.48871182e-01 -6.00192629e-01]\n",
      " [ 1.27649500e-01  7.83401903e-01 -6.00192629e-01]\n",
      " [-4.98184107e-01 -9.83689697e-01 -6.00192629e-01]\n",
      " [ 7.92486992e-02  7.68917546e-01 -6.00192629e-01]\n",
      " [ 6.10531905e-01  9.35487655e-01 -6.00192629e-01]\n",
      " [-1.74011304e-01  5.51652185e-01 -6.00192629e-01]\n",
      " [-6.16372108e-01  7.25464473e-01 -6.00192629e-01]\n",
      " [-6.51265709e-01  1.24660453e-03 -6.00192629e-01]\n",
      " [-1.41104572e+00 -1.44718913e+00 -1.65376818e+00]\n",
      " [ 2.05805352e+00  7.25464473e-01  4.53382921e-01]\n",
      " [ 4.68706304e-01 -3.24651436e-01 -6.00192629e-01]\n",
      " [ 6.66811906e-01  7.25464473e-01  4.53382921e-01]\n",
      " [-2.78692105e-01  3.63355539e-01 -6.00192629e-01]\n",
      " [ 1.14181511e+00  1.50037759e+00  1.50695847e+00]\n",
      " [-1.02834171e+00 -1.08508020e+00 -6.00192629e-01]\n",
      " [-8.27984911e-01 -8.67814838e-01 -6.00192629e-01]\n",
      " [ 4.83339104e-01 -5.66908250e-02  1.50695847e+00]\n",
      " [-9.11279312e-01 -4.98463725e-01 -6.00192629e-01]\n",
      " [-7.16550509e-01 -9.54720982e-01 -6.00192629e-01]\n",
      " [-6.22000108e-01 -3.60862330e-01 -6.00192629e-01]\n",
      " [-4.31773706e-01 -7.22971264e-01 -6.00192629e-01]\n",
      " [-8.22356911e-01 -3.46377973e-01 -6.00192629e-01]\n",
      " [ 1.12718231e+00  8.70308047e-01  3.61410957e+00]\n",
      " [-1.26809452e+00 -1.09956456e+00 -6.00192629e-01]\n",
      " [-5.92734508e-01 -7.22971264e-01 -6.00192629e-01]\n",
      " [-9.46172912e-01 -7.22971264e-01 -6.00192629e-01]\n",
      " [ 3.41513502e-01 -5.92612048e-01  4.53382921e-01]\n",
      " [-7.94609025e-02 -1.08508020e+00 -6.00192629e-01]\n",
      " [ 5.44854990e-02 -1.21870433e-01 -6.00192629e-01]\n",
      " [-9.69810512e-01 -1.08508020e+00 -6.00192629e-01]\n",
      " [-8.47120111e-01 -7.22971264e-01 -6.00192629e-01]\n",
      " [-1.71760104e-01  1.82301072e-01 -6.00192629e-01]\n",
      " [-1.26922012e+00 -1.26613467e+00 -6.00192629e-01]\n",
      " [-1.06436091e+00 -7.22971264e-01 -6.00192629e-01]\n",
      " [-6.34381709e-01 -7.22971264e-01 -6.00192629e-01]\n",
      " [-4.26145706e-01 -7.22971264e-01 -6.00192629e-01]\n",
      " [-7.45816110e-01 -1.79807863e-01 -6.00192629e-01]\n",
      " [-2.60682504e-01  3.63355539e-01 -6.00192629e-01]\n",
      " [ 1.63370232e+00  2.68085272e+00  3.61410957e+00]\n",
      " [ 2.40924072e+00  1.44968234e+00  2.56053402e+00]\n",
      " [ 8.17642307e-01  1.44968234e+00  3.61410957e+00]\n",
      " [-3.77744906e-01 -5.05705904e-01 -6.00192629e-01]\n",
      " [-1.28722972e+00 -1.08508020e+00 -6.00192629e-01]\n",
      " [-1.28987303e-01 -1.18647070e+00  4.53382921e-01]\n",
      " [-8.91018511e-01 -9.90931876e-01 -6.00192629e-01]\n",
      " [-1.12626891e+00 -9.18510089e-01 -6.00192629e-01]\n",
      " [-1.38178012e+00 -7.22971264e-01 -6.00192629e-01]\n",
      " [-6.43386509e-01 -3.60862330e-01 -6.00192629e-01]\n",
      " [-7.49192910e-01 -7.22971264e-01 -6.00192629e-01]\n",
      " [-2.84320105e-01 -1.87050041e-01  4.53382921e-01]\n",
      " [ 5.36242304e-01 -7.22971264e-01  1.50695847e+00]\n",
      " [-1.79450166e-03 -7.22971264e-01  1.50695847e+00]\n",
      " [ 1.13281031e+00  1.55107284e+00  2.56053402e+00]\n",
      " [ 3.19490953e+00  1.44968234e+00  3.61410957e+00]\n",
      " [ 5.86894305e-01  5.44410006e-01  1.50695847e+00]\n",
      " [-7.19927310e-01 -2.81198364e-01 -6.00192629e-01]\n",
      " [-3.70991306e-01 -7.22971264e-01  1.50695847e+00]\n",
      " [ 1.92934300e-01  3.63355539e-01  1.50695847e+00]\n",
      " [-8.02096110e-01 -3.60862330e-01 -6.00192629e-01]\n",
      " [-4.02508106e-01 -7.22971264e-01  4.53382921e-01]\n",
      " [-6.72652109e-01 -7.22971264e-01 -6.00192629e-01]\n",
      " [-2.56180104e-01  1.24660453e-03 -6.00192629e-01]\n",
      " [ 5.32865504e-01  3.48871182e-01  4.53382921e-01]\n",
      " [ 1.09639900e-01 -5.49158976e-01 -6.00192629e-01]\n",
      " [ 1.34217191e+00  1.08757341e+00  1.50695847e+00]\n",
      " [-1.03509531e+00 -1.00541623e+00 -6.00192629e-01]\n",
      " [-1.03059291e+00 -7.22971264e-01 -6.00192629e-01]\n",
      " [ 3.49206794e+00  5.07077169e+00  4.53382921e-01]\n",
      " [-4.47532107e-01  1.17121464e-01 -6.00192629e-01]\n",
      " [-1.41104572e+00  1.55831502e+00 -6.00192629e-01]\n",
      " [ 1.35793031e+00  1.31605821e-01 -6.00192629e-01]\n",
      " [-3.33846505e-01  7.25464473e-01 -6.00192629e-01]\n",
      " [ 1.47611831e+00  8.09105701e-02 -6.00192629e-01]\n",
      " [-2.13407304e-01 -7.22971264e-01 -6.00192629e-01]\n",
      " [-5.97236908e-01 -7.22971264e-01 -6.00192629e-01]\n",
      " [-1.14652971e+00  7.25464473e-01 -6.00192629e-01]\n",
      " [ 1.67084712e+00  3.99566432e-01 -6.00192629e-01]\n",
      " [ 1.67309832e+00  4.93714755e-01  1.50695847e+00]\n",
      " [ 3.98919103e-01  1.92042396e+00 -6.00192629e-01]\n",
      " [ 2.87749033e+00  3.63355539e-01  4.53382921e-01]\n",
      " [ 3.80909503e-01  2.53600915e+00  1.50695847e+00]\n",
      " [ 2.33720232e+00  1.24660453e-03 -6.00192629e-01]\n",
      " [ 1.01760699e-01  1.44968234e+00  2.56053402e+00]\n",
      " [ 1.25398300e-01  3.63355539e-01  4.53382921e-01]\n",
      " [ 1.20147191e+00 -7.22971264e-01  2.56053402e+00]\n",
      " [-1.84141704e-01  3.63355539e-01  4.53382921e-01]\n",
      " [ 3.73030302e-01  7.25464473e-01  4.53382921e-01]\n",
      " [-4.61039307e-01 -1.08508020e+00 -6.00192629e-01]\n",
      " [ 2.70789839e-03  8.63065869e-01 -6.00192629e-01]\n",
      " [ 9.74100709e-01 -3.17409258e-01 -6.00192629e-01]\n",
      " [-4.84676907e-01 -7.08486907e-01 -6.00192629e-01]\n",
      " [-3.60860906e-01  7.25464473e-01 -6.00192629e-01]\n",
      " [-1.37615212e+00 -1.12853327e+00 -6.00192629e-01]\n",
      " [-1.06323531e+00 -7.22971264e-01 -6.00192629e-01]\n",
      " [ 2.62535593e+00  1.44968234e+00  1.50695847e+00]\n",
      " [-7.63825710e-01 -7.22971264e-01 -6.00192629e-01]\n",
      " [-7.06420109e-01 -7.22971264e-01 -6.00192629e-01]\n",
      " [-1.21108103e-01  7.25464473e-01  4.53382921e-01]\n",
      " [-7.93091310e-01 -7.15729086e-01 -6.00192629e-01]\n",
      " [-7.63825710e-01 -7.22971264e-01 -6.00192629e-01]\n",
      " [-3.81121706e-01 -3.60862330e-01 -6.00192629e-01]\n",
      " [ 8.37510993e-02  7.25464473e-01  1.50695847e+00]\n",
      " [-3.73242506e-01  1.67816714e-01  4.53382921e-01]\n",
      " [ 7.65864707e-01  2.98175931e-01  4.53382921e-01]\n",
      " [ 2.13234312e+00  1.24660453e-03  1.50695847e+00]\n",
      " [ 5.04725504e-01 -7.01244728e-01 -6.00192629e-01]\n",
      " [-7.90840110e-01 -5.56401155e-01 -6.00192629e-01]\n",
      " [ 1.15644791e+00 -7.22971264e-01  4.53382921e-01]\n",
      " [ 6.87072706e-01  1.56555720e+00  1.50695847e+00]\n",
      " [ 3.21291913e+00  4.34655382e+00  1.50695847e+00]\n",
      " [-7.33434510e-01 -3.60862330e-01 -6.00192629e-01]\n",
      " [ 9.43709509e-01  2.53600915e+00  4.53382921e-01]\n",
      " [-7.75081710e-01 -1.37476735e+00 -6.00192629e-01]\n",
      " [ 9.41458309e-01  1.24660453e-03  2.56053402e+00]\n",
      " [-9.22535312e-01 -1.08508020e+00 -6.00192629e-01]\n",
      " [-1.35589132e+00 -1.12853327e+00 -6.00192629e-01]\n",
      " [ 1.16545271e+00  6.64262127e-02  1.50695847e+00]\n",
      " [-8.58376111e-01 -5.78127691e-01 -6.00192629e-01]\n",
      " [-7.16550509e-01  3.48871182e-01 -6.00192629e-01]\n",
      " [-1.26134092e+00 -7.80908694e-01 -1.65376818e+00]\n",
      " [-4.28396906e-01  1.24660453e-03  4.53382921e-01]\n",
      " [-7.16550509e-01 -1.02714277e+00 -6.00192629e-01]\n",
      " [-3.95754506e-01 -3.60862330e-01 -6.00192629e-01]\n",
      " [-1.09137531e+00 -7.22971264e-01 -6.00192629e-01]\n",
      " [ 7.47462992e-02  1.24660453e-03  1.50695847e+00]\n",
      " [-7.32308910e-01 -2.01534399e-01 -6.00192629e-01]\n",
      " [ 2.62721501e-01 -8.56595397e-02 -6.00192629e-01]\n",
      " [ 4.75459904e-01 -7.22971264e-01  1.50695847e+00]\n",
      " [-4.61039307e-01  1.24660453e-03  4.53382921e-01]\n",
      " [-9.20284112e-01  2.83691573e-01 -6.00192629e-01]\n",
      " [-1.01483451e+00 -1.10680673e+00 -6.00192629e-01]\n",
      " [-4.79048907e-01  1.24660453e-03 -6.00192629e-01]\n",
      " [-1.09362651e+00 -1.26613467e+00 -6.00192629e-01]\n",
      " [-8.08849711e-01 -1.44718913e+00 -6.00192629e-01]\n",
      " [ 1.46823911e+00 -1.32407210e+00 -6.00192629e-01]\n",
      " [ 1.80591912e+00  1.21069045e+00  4.53382921e-01]\n",
      " [ 1.04051111e+00  2.11596278e+00  4.53382921e-01]\n",
      " [ 8.32275107e-01 -7.22971264e-01 -6.00192629e-01]\n",
      " [ 3.24629502e-01 -7.22971264e-01 -6.00192629e-01]\n",
      " [-2.21286504e-01 -9.04025732e-01 -6.00192629e-01]\n",
      " [-1.13228903e-01  1.24660453e-03 -6.00192629e-01]]\n"
     ]
    }
   ],
   "source": [
    "#feature scaling\n",
    "Clus_dataSet = df_waiter[['total_bill', 'tip', 'size']]\n",
    "Clus_dataSet = np.nan_to_num(Clus_dataSet)\n",
    "Clus_dataSet = np.array(Clus_dataSet, dtype = np.float64)\n",
    "Clus_dataSet = StandardScaler().fit_transform(Clus_dataSet)\n",
    "print(Clus_dataSet)"
   ]
  },
  {
   "cell_type": "code",
   "execution_count": 25,
   "id": "81f36cb4",
   "metadata": {},
   "outputs": [
    {
     "name": "stdout",
     "output_type": "stream",
     "text": [
      "DBSCAN(min_samples=4)\n"
     ]
    }
   ],
   "source": [
    "#build model\n",
    "db = DBSCAN(eps = 0.5, min_samples = 4).fit(Clus_dataSet)\n",
    "print(db)"
   ]
  },
  {
   "cell_type": "code",
   "execution_count": 26,
   "id": "bacbbbce",
   "metadata": {},
   "outputs": [
    {
     "name": "stdout",
     "output_type": "stream",
     "text": [
      "[ 0 -1  1  0  2  2  0  2  0  0  0 -1  0  2  0  0 -1  1  1  1  0  0  0 -1\n",
      "  0  2  0  0  0  0  0  2  0  2  0  1  1  1  1 -1  1  0  0  0  3  0 -1 -1\n",
      " -1  0  0  0 -1  0  2  0 -1  0  0 -1  0  0  0  2  1  1  0 -1  0  0  0  1\n",
      "  0 -1  0  0  0  2  0  0  0  0 -1 -1  0 -1  0  0 -1  0  0  0  0  0  0 -1\n",
      "  0  0  0  0  0  0 -1  0  0  0  0  0  0  0  0 -1 -1  0  1  0  3  0  0  2\n",
      "  0  0  0  0  0 -1  0  0  0  1  0  0  0  0  0  0  0  0  0  0  0 -1 -1 -1\n",
      "  0  0 -1  0  0  0  0  0  1  2  2 -1 -1  2  0  2  2  0  1  0  0  1  0  3\n",
      "  0  0 -1  0 -1  0  0  0  0  0  0  0 -1 -1 -1 -1 -1 -1  1 -1  1  1  0  0\n",
      "  0  0  0  0  0 -1  0  0  1  0  0  0  2  1  1 -1  0  0 -1  3 -1  0 -1  0\n",
      " -1  0  0  2  0  0 -1  1  0  0  0  2  0  0  2  1  0  0  0  0  0 -1 -1 -1\n",
      "  0  0  0  0]\n"
     ]
    }
   ],
   "source": [
    "#prediction\n",
    "core_samples_mask = np.zeros_like(db.labels_, dtype = bool)\n",
    "core_samples_mask[db.core_sample_indices_] = True\n",
    "labels = db.labels_\n",
    "print(labels)"
   ]
  },
  {
   "cell_type": "code",
   "execution_count": 27,
   "id": "00afe861",
   "metadata": {},
   "outputs": [
    {
     "name": "stdout",
     "output_type": "stream",
     "text": [
      "   total_bill   tip  size\n",
      "0       16.99  1.01     2\n",
      "1       10.34  1.66     3\n",
      "2       21.01  3.50     3\n",
      "3       23.68  3.31     2\n",
      "4       24.59  3.61     4\n",
      "Number of labels :  {0, 1, 2, 3, -1}\n"
     ]
    }
   ],
   "source": [
    "#recover prediction result to dataframe\n",
    "df_waiter['Clus_Db'] = labels\n",
    "realClusterNum = len(set(labels)) - (1 if -1 in labels else 0)\n",
    "clusterNum = len(set(labels))\n",
    "print(df_waiter[['total_bill', 'tip', 'size']].head())\n",
    "print('Number of labels : ', set(labels))"
   ]
  },
  {
   "cell_type": "code",
   "execution_count": 28,
   "id": "74a03a3d",
   "metadata": {},
   "outputs": [
    {
     "data": {
      "image/png": "[encoded data removed]",
      "text/plain": [
       "<Figure size 432x288 with 1 Axes>"
      ]
     },
     "metadata": {
      "needs_background": "light"
     },
     "output_type": "display_data"
    },
    {
     "name": "stdout",
     "output_type": "stream",
     "text": [
      "Number of noise(s) :  47\n"
     ]
    }
   ],
   "source": [
    "#visualize model\n",
    "unique_labels = set(labels)\n",
    "colors = [plt.cm.Spectral(each) for each in np.linspace(0, 1, len(unique_labels))]\n",
    "\n",
    "for k, col in zip(unique_labels, colors):\n",
    "    if k == -1:\n",
    "        col = [0, 0, 0, 1]\n",
    "    class_member_mask = (labels == k)\n",
    "    xy = Clus_dataSet[class_member_mask & core_samples_mask]\n",
    "    plt.plot(xy[:, 0], xy[:, 1], 'o', markerfacecolor = tuple(col), markeredgecolor = 'k', markersize = 14)\n",
    "    xy = Clus_dataSet[class_member_mask & ~core_samples_mask]\n",
    "    plt.plot(xy[:, 0], xy[:, 1], 'o', markerfacecolor = tuple(col), markeredgecolor = 'k', markersize = 6)\n",
    "\n",
    "plt.title('Estimated number of clusters: %d' % realClusterNum)\n",
    "plt.grid(color = 'darkgray', linestyle = ':', linewidth = 1)\n",
    "plt.show()\n",
    "\n",
    "n_noise = list(labels).count(-1)\n",
    "print('Number of noise(s) : ', n_noise)"
   ]
  },
  {
   "cell_type": "code",
   "execution_count": 29,
   "id": "f8559312",
   "metadata": {},
   "outputs": [
    {
     "name": "stdout",
     "output_type": "stream",
     "text": [
      "Cluster 0, Avg Total Bill : 16, Avg Tips : 2, Avg Size : 2, Count : 147\n",
      "Cluster 1, Avg Total Bill : 19, Avg Tips : 3, Avg Size : 3, Count : 25\n",
      "Cluster 2, Avg Total Bill : 22, Avg Tips : 3, Avg Size : 4, Count : 20\n",
      "Cluster 3, Avg Total Bill : 29, Avg Tips : 5, Avg Size : 4, Count : 4\n"
     ]
    }
   ],
   "source": [
    "#check average attributes on each clusters\n",
    "for clust_number in set(labels):\n",
    "    clust_set = df_waiter[df_waiter.Clus_Db == clust_number]\n",
    "    if clust_number != -1:\n",
    "        print('Cluster '+str(clust_number)+', Avg Total Bill : '+str(round(np.mean(clust_set.total_bill)))+\\\n",
    "             ', Avg Tips : '+str(round(np.mean(clust_set['tip'])))+\\\n",
    "             ', Avg Size : '+str(round(np.mean(clust_set['size'])))+\\\n",
    "             ', Count : '+str(np.count_nonzero(clust_set.index)))"
   ]
  },
  {
   "cell_type": "markdown",
   "id": "3d0cc687",
   "metadata": {},
   "source": [
    "# Grocery Store"
   ]
  },
  {
   "cell_type": "code",
   "execution_count": 30,
   "id": "c374d59b",
   "metadata": {},
   "outputs": [],
   "source": [
    "#load dataset\n",
    "df_grocery = pd.read_csv('GroceryStoreDataSet.csv', names = ['Product'], header = None)"
   ]
  },
  {
   "cell_type": "code",
   "execution_count": 31,
   "id": "7c75177a",
   "metadata": {},
   "outputs": [
    {
     "data": {
      "text/html": [
       "<div>\n",
       "<style scoped>\n",
       "    .dataframe tbody tr th:only-of-type {\n",
       "        vertical-align: middle;\n",
       "    }\n",
       "\n",
       "    .dataframe tbody tr th {\n",
       "        vertical-align: top;\n",
       "    }\n",
       "\n",
       "    .dataframe thead th {\n",
       "        text-align: right;\n",
       "    }\n",
       "</style>\n",
       "<table border=\"1\" class=\"dataframe\">\n",
       "  <thead>\n",
       "    <tr style=\"text-align: right;\">\n",
       "      <th></th>\n",
       "      <th>Product</th>\n",
       "    </tr>\n",
       "  </thead>\n",
       "  <tbody>\n",
       "    <tr>\n",
       "      <th>0</th>\n",
       "      <td>MILK,BREAD,BISCUIT</td>\n",
       "    </tr>\n",
       "    <tr>\n",
       "      <th>1</th>\n",
       "      <td>BREAD,MILK,BISCUIT,CORNFLAKES</td>\n",
       "    </tr>\n",
       "    <tr>\n",
       "      <th>2</th>\n",
       "      <td>BREAD,TEA,BOURNVITA</td>\n",
       "    </tr>\n",
       "    <tr>\n",
       "      <th>3</th>\n",
       "      <td>JAM,MAGGI,BREAD,MILK</td>\n",
       "    </tr>\n",
       "    <tr>\n",
       "      <th>4</th>\n",
       "      <td>MAGGI,TEA,BISCUIT</td>\n",
       "    </tr>\n",
       "  </tbody>\n",
       "</table>\n",
       "</div>"
      ],
      "text/plain": [
       "                         Product\n",
       "0             MILK,BREAD,BISCUIT\n",
       "1  BREAD,MILK,BISCUIT,CORNFLAKES\n",
       "2            BREAD,TEA,BOURNVITA\n",
       "3           JAM,MAGGI,BREAD,MILK\n",
       "4              MAGGI,TEA,BISCUIT"
      ]
     },
     "execution_count": 31,
     "metadata": {},
     "output_type": "execute_result"
    }
   ],
   "source": [
    "#show 5 rows ahead of dataset\n",
    "df_grocery.head()"
   ]
  },
  {
   "cell_type": "markdown",
   "id": "d133ee11",
   "metadata": {},
   "source": [
    "## Exploratory Data Analysis (EDA)"
   ]
  },
  {
   "cell_type": "code",
   "execution_count": 32,
   "id": "1194351b",
   "metadata": {},
   "outputs": [
    {
     "data": {
      "text/plain": [
       "array([['MILK,BREAD,BISCUIT'],\n",
       "       ['BREAD,MILK,BISCUIT,CORNFLAKES'],\n",
       "       ['BREAD,TEA,BOURNVITA'],\n",
       "       ['JAM,MAGGI,BREAD,MILK'],\n",
       "       ['MAGGI,TEA,BISCUIT'],\n",
       "       ['BREAD,TEA,BOURNVITA'],\n",
       "       ['MAGGI,TEA,CORNFLAKES'],\n",
       "       ['MAGGI,BREAD,TEA,BISCUIT'],\n",
       "       ['JAM,MAGGI,BREAD,TEA'],\n",
       "       ['BREAD,MILK'],\n",
       "       ['COFFEE,COCK,BISCUIT,CORNFLAKES'],\n",
       "       ['COFFEE,COCK,BISCUIT,CORNFLAKES'],\n",
       "       ['COFFEE,SUGER,BOURNVITA'],\n",
       "       ['BREAD,COFFEE,COCK'],\n",
       "       ['BREAD,SUGER,BISCUIT'],\n",
       "       ['COFFEE,SUGER,CORNFLAKES'],\n",
       "       ['BREAD,SUGER,BOURNVITA'],\n",
       "       ['BREAD,COFFEE,SUGER'],\n",
       "       ['BREAD,COFFEE,SUGER'],\n",
       "       ['TEA,MILK,COFFEE,CORNFLAKES']], dtype=object)"
      ]
     },
     "execution_count": 32,
     "metadata": {},
     "output_type": "execute_result"
    }
   ],
   "source": [
    "#check values of dataset\n",
    "df_grocery.values"
   ]
  },
  {
   "cell_type": "code",
   "execution_count": 33,
   "id": "71996a05",
   "metadata": {},
   "outputs": [
    {
     "name": "stdout",
     "output_type": "stream",
     "text": [
      "[['MILK', 'BREAD', 'BISCUIT'], ['BREAD', 'MILK', 'BISCUIT', 'CORNFLAKES'], ['BREAD', 'TEA', 'BOURNVITA'], ['JAM', 'MAGGI', 'BREAD', 'MILK'], ['MAGGI', 'TEA', 'BISCUIT'], ['BREAD', 'TEA', 'BOURNVITA'], ['MAGGI', 'TEA', 'CORNFLAKES'], ['MAGGI', 'BREAD', 'TEA', 'BISCUIT'], ['JAM', 'MAGGI', 'BREAD', 'TEA'], ['BREAD', 'MILK'], ['COFFEE', 'COCK', 'BISCUIT', 'CORNFLAKES'], ['COFFEE', 'COCK', 'BISCUIT', 'CORNFLAKES'], ['COFFEE', 'SUGER', 'BOURNVITA'], ['BREAD', 'COFFEE', 'COCK'], ['BREAD', 'SUGER', 'BISCUIT'], ['COFFEE', 'SUGER', 'CORNFLAKES'], ['BREAD', 'SUGER', 'BOURNVITA'], ['BREAD', 'COFFEE', 'SUGER'], ['BREAD', 'COFFEE', 'SUGER'], ['TEA', 'MILK', 'COFFEE', 'CORNFLAKES']]\n"
     ]
    }
   ],
   "source": [
    "#apply column name to dataset\n",
    "df_grocery = list(df_grocery['Product'].apply(lambda x:x.split(',')))\n",
    "print(df_grocery)"
   ]
  },
  {
   "cell_type": "code",
   "execution_count": 34,
   "id": "9206c95a",
   "metadata": {},
   "outputs": [
    {
     "data": {
      "text/html": [
       "<div>\n",
       "<style scoped>\n",
       "    .dataframe tbody tr th:only-of-type {\n",
       "        vertical-align: middle;\n",
       "    }\n",
       "\n",
       "    .dataframe tbody tr th {\n",
       "        vertical-align: top;\n",
       "    }\n",
       "\n",
       "    .dataframe thead th {\n",
       "        text-align: right;\n",
       "    }\n",
       "</style>\n",
       "<table border=\"1\" class=\"dataframe\">\n",
       "  <thead>\n",
       "    <tr style=\"text-align: right;\">\n",
       "      <th></th>\n",
       "      <th>BISCUIT</th>\n",
       "      <th>BOURNVITA</th>\n",
       "      <th>BREAD</th>\n",
       "      <th>COCK</th>\n",
       "      <th>COFFEE</th>\n",
       "      <th>CORNFLAKES</th>\n",
       "      <th>JAM</th>\n",
       "      <th>MAGGI</th>\n",
       "      <th>MILK</th>\n",
       "      <th>SUGER</th>\n",
       "      <th>TEA</th>\n",
       "    </tr>\n",
       "  </thead>\n",
       "  <tbody>\n",
       "    <tr>\n",
       "      <th>0</th>\n",
       "      <td>True</td>\n",
       "      <td>False</td>\n",
       "      <td>True</td>\n",
       "      <td>False</td>\n",
       "      <td>False</td>\n",
       "      <td>False</td>\n",
       "      <td>False</td>\n",
       "      <td>False</td>\n",
       "      <td>True</td>\n",
       "      <td>False</td>\n",
       "      <td>False</td>\n",
       "    </tr>\n",
       "    <tr>\n",
       "      <th>1</th>\n",
       "      <td>True</td>\n",
       "      <td>False</td>\n",
       "      <td>True</td>\n",
       "      <td>False</td>\n",
       "      <td>False</td>\n",
       "      <td>True</td>\n",
       "      <td>False</td>\n",
       "      <td>False</td>\n",
       "      <td>True</td>\n",
       "      <td>False</td>\n",
       "      <td>False</td>\n",
       "    </tr>\n",
       "    <tr>\n",
       "      <th>2</th>\n",
       "      <td>False</td>\n",
       "      <td>True</td>\n",
       "      <td>True</td>\n",
       "      <td>False</td>\n",
       "      <td>False</td>\n",
       "      <td>False</td>\n",
       "      <td>False</td>\n",
       "      <td>False</td>\n",
       "      <td>False</td>\n",
       "      <td>False</td>\n",
       "      <td>True</td>\n",
       "    </tr>\n",
       "    <tr>\n",
       "      <th>3</th>\n",
       "      <td>False</td>\n",
       "      <td>False</td>\n",
       "      <td>True</td>\n",
       "      <td>False</td>\n",
       "      <td>False</td>\n",
       "      <td>False</td>\n",
       "      <td>True</td>\n",
       "      <td>True</td>\n",
       "      <td>True</td>\n",
       "      <td>False</td>\n",
       "      <td>False</td>\n",
       "    </tr>\n",
       "    <tr>\n",
       "      <th>4</th>\n",
       "      <td>True</td>\n",
       "      <td>False</td>\n",
       "      <td>False</td>\n",
       "      <td>False</td>\n",
       "      <td>False</td>\n",
       "      <td>False</td>\n",
       "      <td>False</td>\n",
       "      <td>True</td>\n",
       "      <td>False</td>\n",
       "      <td>False</td>\n",
       "      <td>True</td>\n",
       "    </tr>\n",
       "  </tbody>\n",
       "</table>\n",
       "</div>"
      ],
      "text/plain": [
       "   BISCUIT  BOURNVITA  BREAD   COCK  COFFEE  CORNFLAKES    JAM  MAGGI   MILK  \\\n",
       "0     True      False   True  False   False       False  False  False   True   \n",
       "1     True      False   True  False   False        True  False  False   True   \n",
       "2    False       True   True  False   False       False  False  False  False   \n",
       "3    False      False   True  False   False       False   True   True   True   \n",
       "4     True      False  False  False   False       False  False   True  False   \n",
       "\n",
       "   SUGER    TEA  \n",
       "0  False  False  \n",
       "1  False  False  \n",
       "2  False   True  \n",
       "3  False  False  \n",
       "4  False   True  "
      ]
     },
     "execution_count": 34,
     "metadata": {},
     "output_type": "execute_result"
    }
   ],
   "source": [
    "#feature scaling\n",
    "te = TransactionEncoder()\n",
    "te_df_grocery = te.fit(df_grocery).transform(df_grocery)\n",
    "df_new_grocery = pd.DataFrame(te_df_grocery, columns = te.columns_)\n",
    "df_new_grocery.head()"
   ]
  },
  {
   "cell_type": "code",
   "execution_count": 35,
   "id": "bbfd1e5e",
   "metadata": {},
   "outputs": [
    {
     "data": {
      "text/plain": [
       "(20, 11)"
      ]
     },
     "execution_count": 35,
     "metadata": {},
     "output_type": "execute_result"
    }
   ],
   "source": [
    "#check total rows and columns of dataset\n",
    "df_new_grocery.shape"
   ]
  },
  {
   "cell_type": "markdown",
   "id": "a97b6a0a",
   "metadata": {},
   "source": [
    "## Apriori (Association Rules)"
   ]
  },
  {
   "cell_type": "code",
   "execution_count": 36,
   "id": "3fcd63f2",
   "metadata": {},
   "outputs": [
    {
     "data": {
      "text/html": [
       "<div>\n",
       "<style scoped>\n",
       "    .dataframe tbody tr th:only-of-type {\n",
       "        vertical-align: middle;\n",
       "    }\n",
       "\n",
       "    .dataframe tbody tr th {\n",
       "        vertical-align: top;\n",
       "    }\n",
       "\n",
       "    .dataframe thead th {\n",
       "        text-align: right;\n",
       "    }\n",
       "</style>\n",
       "<table border=\"1\" class=\"dataframe\">\n",
       "  <thead>\n",
       "    <tr style=\"text-align: right;\">\n",
       "      <th></th>\n",
       "      <th>support</th>\n",
       "      <th>itemsets</th>\n",
       "    </tr>\n",
       "  </thead>\n",
       "  <tbody>\n",
       "    <tr>\n",
       "      <th>0</th>\n",
       "      <td>0.35</td>\n",
       "      <td>(0)</td>\n",
       "    </tr>\n",
       "    <tr>\n",
       "      <th>1</th>\n",
       "      <td>0.20</td>\n",
       "      <td>(1)</td>\n",
       "    </tr>\n",
       "    <tr>\n",
       "      <th>2</th>\n",
       "      <td>0.65</td>\n",
       "      <td>(2)</td>\n",
       "    </tr>\n",
       "    <tr>\n",
       "      <th>3</th>\n",
       "      <td>0.40</td>\n",
       "      <td>(4)</td>\n",
       "    </tr>\n",
       "    <tr>\n",
       "      <th>4</th>\n",
       "      <td>0.30</td>\n",
       "      <td>(5)</td>\n",
       "    </tr>\n",
       "    <tr>\n",
       "      <th>5</th>\n",
       "      <td>0.25</td>\n",
       "      <td>(7)</td>\n",
       "    </tr>\n",
       "    <tr>\n",
       "      <th>6</th>\n",
       "      <td>0.25</td>\n",
       "      <td>(8)</td>\n",
       "    </tr>\n",
       "    <tr>\n",
       "      <th>7</th>\n",
       "      <td>0.30</td>\n",
       "      <td>(9)</td>\n",
       "    </tr>\n",
       "    <tr>\n",
       "      <th>8</th>\n",
       "      <td>0.35</td>\n",
       "      <td>(10)</td>\n",
       "    </tr>\n",
       "    <tr>\n",
       "      <th>9</th>\n",
       "      <td>0.20</td>\n",
       "      <td>(0, 2)</td>\n",
       "    </tr>\n",
       "    <tr>\n",
       "      <th>10</th>\n",
       "      <td>0.20</td>\n",
       "      <td>(8, 2)</td>\n",
       "    </tr>\n",
       "    <tr>\n",
       "      <th>11</th>\n",
       "      <td>0.20</td>\n",
       "      <td>(9, 2)</td>\n",
       "    </tr>\n",
       "    <tr>\n",
       "      <th>12</th>\n",
       "      <td>0.20</td>\n",
       "      <td>(2, 10)</td>\n",
       "    </tr>\n",
       "    <tr>\n",
       "      <th>13</th>\n",
       "      <td>0.20</td>\n",
       "      <td>(4, 5)</td>\n",
       "    </tr>\n",
       "    <tr>\n",
       "      <th>14</th>\n",
       "      <td>0.20</td>\n",
       "      <td>(9, 4)</td>\n",
       "    </tr>\n",
       "    <tr>\n",
       "      <th>15</th>\n",
       "      <td>0.20</td>\n",
       "      <td>(10, 7)</td>\n",
       "    </tr>\n",
       "  </tbody>\n",
       "</table>\n",
       "</div>"
      ],
      "text/plain": [
       "    support itemsets\n",
       "0      0.35      (0)\n",
       "1      0.20      (1)\n",
       "2      0.65      (2)\n",
       "3      0.40      (4)\n",
       "4      0.30      (5)\n",
       "5      0.25      (7)\n",
       "6      0.25      (8)\n",
       "7      0.30      (9)\n",
       "8      0.35     (10)\n",
       "9      0.20   (0, 2)\n",
       "10     0.20   (8, 2)\n",
       "11     0.20   (9, 2)\n",
       "12     0.20  (2, 10)\n",
       "13     0.20   (4, 5)\n",
       "14     0.20   (9, 4)\n",
       "15     0.20  (10, 7)"
      ]
     },
     "execution_count": 36,
     "metadata": {},
     "output_type": "execute_result"
    }
   ],
   "source": [
    "#set the items and itemsets with at least 20% support \n",
    "apriori(df_new_grocery, min_support = 0.2)"
   ]
  },
  {
   "cell_type": "code",
   "execution_count": 37,
   "id": "90a38506",
   "metadata": {},
   "outputs": [
    {
     "data": {
      "text/html": [
       "<div>\n",
       "<style scoped>\n",
       "    .dataframe tbody tr th:only-of-type {\n",
       "        vertical-align: middle;\n",
       "    }\n",
       "\n",
       "    .dataframe tbody tr th {\n",
       "        vertical-align: top;\n",
       "    }\n",
       "\n",
       "    .dataframe thead th {\n",
       "        text-align: right;\n",
       "    }\n",
       "</style>\n",
       "<table border=\"1\" class=\"dataframe\">\n",
       "  <thead>\n",
       "    <tr style=\"text-align: right;\">\n",
       "      <th></th>\n",
       "      <th>support</th>\n",
       "      <th>itemsets</th>\n",
       "    </tr>\n",
       "  </thead>\n",
       "  <tbody>\n",
       "    <tr>\n",
       "      <th>0</th>\n",
       "      <td>0.35</td>\n",
       "      <td>(BISCUIT)</td>\n",
       "    </tr>\n",
       "    <tr>\n",
       "      <th>1</th>\n",
       "      <td>0.20</td>\n",
       "      <td>(BOURNVITA)</td>\n",
       "    </tr>\n",
       "    <tr>\n",
       "      <th>2</th>\n",
       "      <td>0.65</td>\n",
       "      <td>(BREAD)</td>\n",
       "    </tr>\n",
       "    <tr>\n",
       "      <th>3</th>\n",
       "      <td>0.40</td>\n",
       "      <td>(COFFEE)</td>\n",
       "    </tr>\n",
       "    <tr>\n",
       "      <th>4</th>\n",
       "      <td>0.30</td>\n",
       "      <td>(CORNFLAKES)</td>\n",
       "    </tr>\n",
       "    <tr>\n",
       "      <th>5</th>\n",
       "      <td>0.25</td>\n",
       "      <td>(MAGGI)</td>\n",
       "    </tr>\n",
       "    <tr>\n",
       "      <th>6</th>\n",
       "      <td>0.25</td>\n",
       "      <td>(MILK)</td>\n",
       "    </tr>\n",
       "    <tr>\n",
       "      <th>7</th>\n",
       "      <td>0.30</td>\n",
       "      <td>(SUGER)</td>\n",
       "    </tr>\n",
       "    <tr>\n",
       "      <th>8</th>\n",
       "      <td>0.35</td>\n",
       "      <td>(TEA)</td>\n",
       "    </tr>\n",
       "    <tr>\n",
       "      <th>9</th>\n",
       "      <td>0.20</td>\n",
       "      <td>(BREAD, BISCUIT)</td>\n",
       "    </tr>\n",
       "    <tr>\n",
       "      <th>10</th>\n",
       "      <td>0.20</td>\n",
       "      <td>(BREAD, MILK)</td>\n",
       "    </tr>\n",
       "    <tr>\n",
       "      <th>11</th>\n",
       "      <td>0.20</td>\n",
       "      <td>(BREAD, SUGER)</td>\n",
       "    </tr>\n",
       "    <tr>\n",
       "      <th>12</th>\n",
       "      <td>0.20</td>\n",
       "      <td>(BREAD, TEA)</td>\n",
       "    </tr>\n",
       "    <tr>\n",
       "      <th>13</th>\n",
       "      <td>0.20</td>\n",
       "      <td>(COFFEE, CORNFLAKES)</td>\n",
       "    </tr>\n",
       "    <tr>\n",
       "      <th>14</th>\n",
       "      <td>0.20</td>\n",
       "      <td>(COFFEE, SUGER)</td>\n",
       "    </tr>\n",
       "    <tr>\n",
       "      <th>15</th>\n",
       "      <td>0.20</td>\n",
       "      <td>(MAGGI, TEA)</td>\n",
       "    </tr>\n",
       "  </tbody>\n",
       "</table>\n",
       "</div>"
      ],
      "text/plain": [
       "    support              itemsets\n",
       "0      0.35             (BISCUIT)\n",
       "1      0.20           (BOURNVITA)\n",
       "2      0.65               (BREAD)\n",
       "3      0.40              (COFFEE)\n",
       "4      0.30          (CORNFLAKES)\n",
       "5      0.25               (MAGGI)\n",
       "6      0.25                (MILK)\n",
       "7      0.30               (SUGER)\n",
       "8      0.35                 (TEA)\n",
       "9      0.20      (BREAD, BISCUIT)\n",
       "10     0.20         (BREAD, MILK)\n",
       "11     0.20        (BREAD, SUGER)\n",
       "12     0.20          (BREAD, TEA)\n",
       "13     0.20  (COFFEE, CORNFLAKES)\n",
       "14     0.20       (COFFEE, SUGER)\n",
       "15     0.20          (MAGGI, TEA)"
      ]
     },
     "execution_count": 37,
     "metadata": {},
     "output_type": "execute_result"
    }
   ],
   "source": [
    "#convert integer values into the respective item names\n",
    "apriori(df_new_grocery, min_support = 0.2, use_colnames = True)"
   ]
  },
  {
   "cell_type": "code",
   "execution_count": 38,
   "id": "ca486dfb",
   "metadata": {},
   "outputs": [
    {
     "name": "stdout",
     "output_type": "stream",
     "text": [
      "    support              itemsets  length\n",
      "0      0.35             (BISCUIT)       1\n",
      "1      0.20           (BOURNVITA)       1\n",
      "2      0.65               (BREAD)       1\n",
      "3      0.40              (COFFEE)       1\n",
      "4      0.30          (CORNFLAKES)       1\n",
      "5      0.25               (MAGGI)       1\n",
      "6      0.25                (MILK)       1\n",
      "7      0.30               (SUGER)       1\n",
      "8      0.35                 (TEA)       1\n",
      "9      0.20      (BREAD, BISCUIT)       2\n",
      "10     0.20         (BREAD, MILK)       2\n",
      "11     0.20        (BREAD, SUGER)       2\n",
      "12     0.20          (BREAD, TEA)       2\n",
      "13     0.20  (COFFEE, CORNFLAKES)       2\n",
      "14     0.20       (COFFEE, SUGER)       2\n",
      "15     0.20          (MAGGI, TEA)       2\n"
     ]
    }
   ],
   "source": [
    "#create the frequent itemsets via apriori and add new columns that stores the length of each itemset\n",
    "frequent_itemsets = apriori(df_new_grocery, min_support = 0.2, use_colnames = True)\n",
    "frequent_itemsets['length'] = frequent_itemsets['itemsets'].apply(lambda x: len(x))\n",
    "print(frequent_itemsets)"
   ]
  },
  {
   "cell_type": "code",
   "execution_count": 39,
   "id": "d15e74e1",
   "metadata": {},
   "outputs": [
    {
     "data": {
      "text/html": [
       "<div>\n",
       "<style scoped>\n",
       "    .dataframe tbody tr th:only-of-type {\n",
       "        vertical-align: middle;\n",
       "    }\n",
       "\n",
       "    .dataframe tbody tr th {\n",
       "        vertical-align: top;\n",
       "    }\n",
       "\n",
       "    .dataframe thead th {\n",
       "        text-align: right;\n",
       "    }\n",
       "</style>\n",
       "<table border=\"1\" class=\"dataframe\">\n",
       "  <thead>\n",
       "    <tr style=\"text-align: right;\">\n",
       "      <th></th>\n",
       "      <th>support</th>\n",
       "      <th>itemsets</th>\n",
       "      <th>length</th>\n",
       "    </tr>\n",
       "  </thead>\n",
       "  <tbody>\n",
       "    <tr>\n",
       "      <th>9</th>\n",
       "      <td>0.2</td>\n",
       "      <td>(BREAD, BISCUIT)</td>\n",
       "      <td>2</td>\n",
       "    </tr>\n",
       "    <tr>\n",
       "      <th>10</th>\n",
       "      <td>0.2</td>\n",
       "      <td>(BREAD, MILK)</td>\n",
       "      <td>2</td>\n",
       "    </tr>\n",
       "    <tr>\n",
       "      <th>11</th>\n",
       "      <td>0.2</td>\n",
       "      <td>(BREAD, SUGER)</td>\n",
       "      <td>2</td>\n",
       "    </tr>\n",
       "    <tr>\n",
       "      <th>12</th>\n",
       "      <td>0.2</td>\n",
       "      <td>(BREAD, TEA)</td>\n",
       "      <td>2</td>\n",
       "    </tr>\n",
       "    <tr>\n",
       "      <th>13</th>\n",
       "      <td>0.2</td>\n",
       "      <td>(COFFEE, CORNFLAKES)</td>\n",
       "      <td>2</td>\n",
       "    </tr>\n",
       "    <tr>\n",
       "      <th>14</th>\n",
       "      <td>0.2</td>\n",
       "      <td>(COFFEE, SUGER)</td>\n",
       "      <td>2</td>\n",
       "    </tr>\n",
       "    <tr>\n",
       "      <th>15</th>\n",
       "      <td>0.2</td>\n",
       "      <td>(MAGGI, TEA)</td>\n",
       "      <td>2</td>\n",
       "    </tr>\n",
       "  </tbody>\n",
       "</table>\n",
       "</div>"
      ],
      "text/plain": [
       "    support              itemsets  length\n",
       "9       0.2      (BREAD, BISCUIT)       2\n",
       "10      0.2         (BREAD, MILK)       2\n",
       "11      0.2        (BREAD, SUGER)       2\n",
       "12      0.2          (BREAD, TEA)       2\n",
       "13      0.2  (COFFEE, CORNFLAKES)       2\n",
       "14      0.2       (COFFEE, SUGER)       2\n",
       "15      0.2          (MAGGI, TEA)       2"
      ]
     },
     "execution_count": 39,
     "metadata": {},
     "output_type": "execute_result"
    }
   ],
   "source": [
    "#select the results that satisfy based on desired criteria\n",
    "frequent_itemsets[(frequent_itemsets['length'] == 2) & (frequent_itemsets['support'] >= 0.2)]"
   ]
  },
  {
   "cell_type": "code",
   "execution_count": 40,
   "id": "86b96315",
   "metadata": {},
   "outputs": [
    {
     "data": {
      "text/html": [
       "<div>\n",
       "<style scoped>\n",
       "    .dataframe tbody tr th:only-of-type {\n",
       "        vertical-align: middle;\n",
       "    }\n",
       "\n",
       "    .dataframe tbody tr th {\n",
       "        vertical-align: top;\n",
       "    }\n",
       "\n",
       "    .dataframe thead th {\n",
       "        text-align: right;\n",
       "    }\n",
       "</style>\n",
       "<table border=\"1\" class=\"dataframe\">\n",
       "  <thead>\n",
       "    <tr style=\"text-align: right;\">\n",
       "      <th></th>\n",
       "      <th>support</th>\n",
       "      <th>itemsets</th>\n",
       "      <th>length</th>\n",
       "    </tr>\n",
       "  </thead>\n",
       "  <tbody>\n",
       "    <tr>\n",
       "      <th>12</th>\n",
       "      <td>0.2</td>\n",
       "      <td>(BREAD, TEA)</td>\n",
       "      <td>2</td>\n",
       "    </tr>\n",
       "  </tbody>\n",
       "</table>\n",
       "</div>"
      ],
      "text/plain": [
       "    support      itemsets  length\n",
       "12      0.2  (BREAD, TEA)       2"
      ]
     },
     "execution_count": 40,
     "metadata": {},
     "output_type": "execute_result"
    }
   ],
   "source": [
    "#select entries based on the itemsets\n",
    "frequent_itemsets[frequent_itemsets['itemsets'] == {'TEA', 'BREAD'}]"
   ]
  },
  {
   "cell_type": "code",
   "execution_count": 41,
   "id": "6059e6aa",
   "metadata": {},
   "outputs": [
    {
     "data": {
      "text/html": [
       "<div>\n",
       "<style scoped>\n",
       "    .dataframe tbody tr th:only-of-type {\n",
       "        vertical-align: middle;\n",
       "    }\n",
       "\n",
       "    .dataframe tbody tr th {\n",
       "        vertical-align: top;\n",
       "    }\n",
       "\n",
       "    .dataframe thead th {\n",
       "        text-align: right;\n",
       "    }\n",
       "</style>\n",
       "<table border=\"1\" class=\"dataframe\">\n",
       "  <thead>\n",
       "    <tr style=\"text-align: right;\">\n",
       "      <th></th>\n",
       "      <th>support</th>\n",
       "      <th>itemsets</th>\n",
       "    </tr>\n",
       "  </thead>\n",
       "  <tbody>\n",
       "    <tr>\n",
       "      <th>0</th>\n",
       "      <td>0.65</td>\n",
       "      <td>(2)</td>\n",
       "    </tr>\n",
       "    <tr>\n",
       "      <th>1</th>\n",
       "      <td>0.35</td>\n",
       "      <td>(0)</td>\n",
       "    </tr>\n",
       "    <tr>\n",
       "      <th>2</th>\n",
       "      <td>0.25</td>\n",
       "      <td>(8)</td>\n",
       "    </tr>\n",
       "    <tr>\n",
       "      <th>3</th>\n",
       "      <td>0.30</td>\n",
       "      <td>(5)</td>\n",
       "    </tr>\n",
       "    <tr>\n",
       "      <th>4</th>\n",
       "      <td>0.35</td>\n",
       "      <td>(10)</td>\n",
       "    </tr>\n",
       "    <tr>\n",
       "      <th>5</th>\n",
       "      <td>0.20</td>\n",
       "      <td>(1)</td>\n",
       "    </tr>\n",
       "    <tr>\n",
       "      <th>6</th>\n",
       "      <td>0.25</td>\n",
       "      <td>(7)</td>\n",
       "    </tr>\n",
       "    <tr>\n",
       "      <th>7</th>\n",
       "      <td>0.40</td>\n",
       "      <td>(4)</td>\n",
       "    </tr>\n",
       "    <tr>\n",
       "      <th>8</th>\n",
       "      <td>0.30</td>\n",
       "      <td>(9)</td>\n",
       "    </tr>\n",
       "    <tr>\n",
       "      <th>9</th>\n",
       "      <td>0.20</td>\n",
       "      <td>(0, 2)</td>\n",
       "    </tr>\n",
       "    <tr>\n",
       "      <th>10</th>\n",
       "      <td>0.20</td>\n",
       "      <td>(8, 2)</td>\n",
       "    </tr>\n",
       "    <tr>\n",
       "      <th>11</th>\n",
       "      <td>0.20</td>\n",
       "      <td>(4, 5)</td>\n",
       "    </tr>\n",
       "    <tr>\n",
       "      <th>12</th>\n",
       "      <td>0.20</td>\n",
       "      <td>(10, 2)</td>\n",
       "    </tr>\n",
       "    <tr>\n",
       "      <th>13</th>\n",
       "      <td>0.20</td>\n",
       "      <td>(10, 7)</td>\n",
       "    </tr>\n",
       "    <tr>\n",
       "      <th>14</th>\n",
       "      <td>0.20</td>\n",
       "      <td>(9, 4)</td>\n",
       "    </tr>\n",
       "    <tr>\n",
       "      <th>15</th>\n",
       "      <td>0.20</td>\n",
       "      <td>(9, 2)</td>\n",
       "    </tr>\n",
       "  </tbody>\n",
       "</table>\n",
       "</div>"
      ],
      "text/plain": [
       "    support itemsets\n",
       "0      0.65      (2)\n",
       "1      0.35      (0)\n",
       "2      0.25      (8)\n",
       "3      0.30      (5)\n",
       "4      0.35     (10)\n",
       "5      0.20      (1)\n",
       "6      0.25      (7)\n",
       "7      0.40      (4)\n",
       "8      0.30      (9)\n",
       "9      0.20   (0, 2)\n",
       "10     0.20   (8, 2)\n",
       "11     0.20   (4, 5)\n",
       "12     0.20  (10, 2)\n",
       "13     0.20  (10, 7)\n",
       "14     0.20   (9, 4)\n",
       "15     0.20   (9, 2)"
      ]
     },
     "execution_count": 41,
     "metadata": {},
     "output_type": "execute_result"
    }
   ],
   "source": [
    "#check FP-Growth for frequent pattern mining algorithm that does not require candidate generation\n",
    "fpgrowth(df_new_grocery, min_support = 0.2)"
   ]
  },
  {
   "cell_type": "code",
   "execution_count": 42,
   "id": "19c272d3",
   "metadata": {},
   "outputs": [
    {
     "data": {
      "text/html": [
       "<div>\n",
       "<style scoped>\n",
       "    .dataframe tbody tr th:only-of-type {\n",
       "        vertical-align: middle;\n",
       "    }\n",
       "\n",
       "    .dataframe tbody tr th {\n",
       "        vertical-align: top;\n",
       "    }\n",
       "\n",
       "    .dataframe thead th {\n",
       "        text-align: right;\n",
       "    }\n",
       "</style>\n",
       "<table border=\"1\" class=\"dataframe\">\n",
       "  <thead>\n",
       "    <tr style=\"text-align: right;\">\n",
       "      <th></th>\n",
       "      <th>support</th>\n",
       "      <th>itemsets</th>\n",
       "    </tr>\n",
       "  </thead>\n",
       "  <tbody>\n",
       "    <tr>\n",
       "      <th>0</th>\n",
       "      <td>0.65</td>\n",
       "      <td>(BREAD)</td>\n",
       "    </tr>\n",
       "    <tr>\n",
       "      <th>1</th>\n",
       "      <td>0.35</td>\n",
       "      <td>(BISCUIT)</td>\n",
       "    </tr>\n",
       "    <tr>\n",
       "      <th>2</th>\n",
       "      <td>0.25</td>\n",
       "      <td>(MILK)</td>\n",
       "    </tr>\n",
       "    <tr>\n",
       "      <th>3</th>\n",
       "      <td>0.30</td>\n",
       "      <td>(CORNFLAKES)</td>\n",
       "    </tr>\n",
       "    <tr>\n",
       "      <th>4</th>\n",
       "      <td>0.35</td>\n",
       "      <td>(TEA)</td>\n",
       "    </tr>\n",
       "    <tr>\n",
       "      <th>5</th>\n",
       "      <td>0.20</td>\n",
       "      <td>(BOURNVITA)</td>\n",
       "    </tr>\n",
       "    <tr>\n",
       "      <th>6</th>\n",
       "      <td>0.25</td>\n",
       "      <td>(MAGGI)</td>\n",
       "    </tr>\n",
       "    <tr>\n",
       "      <th>7</th>\n",
       "      <td>0.40</td>\n",
       "      <td>(COFFEE)</td>\n",
       "    </tr>\n",
       "    <tr>\n",
       "      <th>8</th>\n",
       "      <td>0.30</td>\n",
       "      <td>(SUGER)</td>\n",
       "    </tr>\n",
       "    <tr>\n",
       "      <th>9</th>\n",
       "      <td>0.20</td>\n",
       "      <td>(BREAD, BISCUIT)</td>\n",
       "    </tr>\n",
       "    <tr>\n",
       "      <th>10</th>\n",
       "      <td>0.20</td>\n",
       "      <td>(BREAD, MILK)</td>\n",
       "    </tr>\n",
       "    <tr>\n",
       "      <th>11</th>\n",
       "      <td>0.20</td>\n",
       "      <td>(COFFEE, CORNFLAKES)</td>\n",
       "    </tr>\n",
       "    <tr>\n",
       "      <th>12</th>\n",
       "      <td>0.20</td>\n",
       "      <td>(BREAD, TEA)</td>\n",
       "    </tr>\n",
       "    <tr>\n",
       "      <th>13</th>\n",
       "      <td>0.20</td>\n",
       "      <td>(MAGGI, TEA)</td>\n",
       "    </tr>\n",
       "    <tr>\n",
       "      <th>14</th>\n",
       "      <td>0.20</td>\n",
       "      <td>(COFFEE, SUGER)</td>\n",
       "    </tr>\n",
       "    <tr>\n",
       "      <th>15</th>\n",
       "      <td>0.20</td>\n",
       "      <td>(BREAD, SUGER)</td>\n",
       "    </tr>\n",
       "  </tbody>\n",
       "</table>\n",
       "</div>"
      ],
      "text/plain": [
       "    support              itemsets\n",
       "0      0.65               (BREAD)\n",
       "1      0.35             (BISCUIT)\n",
       "2      0.25                (MILK)\n",
       "3      0.30          (CORNFLAKES)\n",
       "4      0.35                 (TEA)\n",
       "5      0.20           (BOURNVITA)\n",
       "6      0.25               (MAGGI)\n",
       "7      0.40              (COFFEE)\n",
       "8      0.30               (SUGER)\n",
       "9      0.20      (BREAD, BISCUIT)\n",
       "10     0.20         (BREAD, MILK)\n",
       "11     0.20  (COFFEE, CORNFLAKES)\n",
       "12     0.20          (BREAD, TEA)\n",
       "13     0.20          (MAGGI, TEA)\n",
       "14     0.20       (COFFEE, SUGER)\n",
       "15     0.20        (BREAD, SUGER)"
      ]
     },
     "execution_count": 42,
     "metadata": {},
     "output_type": "execute_result"
    }
   ],
   "source": [
    "#convert integer values into the respective item names with FP-Growth\n",
    "fpgrowth(df_new_grocery, min_support = 0.2, use_colnames = True)"
   ]
  },
  {
   "cell_type": "code",
   "execution_count": 43,
   "id": "60b78103",
   "metadata": {},
   "outputs": [
    {
     "name": "stdout",
     "output_type": "stream",
     "text": [
      "Apriori : \n",
      "2.41 ms ± 188 µs per loop (mean ± std. dev. of 10 runs, 100 loops each)\n",
      "FP-Growth :\n",
      "1.19 ms ± 77.9 µs per loop (mean ± std. dev. of 10 runs, 100 loops each)\n"
     ]
    }
   ],
   "source": [
    "#comparing model\n",
    "print('Apriori : ')\n",
    "%timeit -n 100 -r 10 apriori(df_new_grocery, min_support = 0.2)\n",
    "print('FP-Growth :')\n",
    "%timeit -n 100 -r 10 fpgrowth(df_new_grocery, min_support = 0.2)"
   ]
  }
 ],
 "metadata": {
  "kernelspec": {
   "display_name": "Python 3 (ipykernel)",
   "language": "python",
   "name": "python3"
  },
  "language_info": {
   "codemirror_mode": {
    "name": "ipython",
    "version": 3
   },
   "file_extension": ".py",
   "mimetype": "text/x-python",
   "name": "python",
   "nbconvert_exporter": "python",
   "pygments_lexer": "ipython3",
   "version": "3.9.6"
  }
 },
 "nbformat": 4,
 "nbformat_minor": 5
}
