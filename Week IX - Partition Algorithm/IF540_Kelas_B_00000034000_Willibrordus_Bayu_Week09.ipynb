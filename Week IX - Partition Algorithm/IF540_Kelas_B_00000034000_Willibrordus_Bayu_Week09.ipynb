{
 "cells": [
  {
   "cell_type": "code",
   "execution_count": 1,
   "id": "9535bbff",
   "metadata": {},
   "outputs": [],
   "source": [
    "#import library\n",
    "import warnings\n",
    "warnings.filterwarnings('ignore')\n",
    "import numpy as np\n",
    "import pandas as pd\n",
    "import seaborn as sns\n",
    "import matplotlib.pyplot as plt\n",
    "%matplotlib inline\n",
    "from numpy.random import choice\n",
    "from sklearn.metrics import silhouette_samples, silhouette_score\n",
    "from sklearn.preprocessing import LabelEncoder, MinMaxScaler\n",
    "from mpl_toolkits.mplot3d import Axes3D\n",
    "from sklearn.decomposition import PCA\n",
    "from sklearn.cluster import KMeans\n",
    "from kmodes.kmodes import KModes"
   ]
  },
  {
   "cell_type": "markdown",
   "id": "3fa17c4a",
   "metadata": {},
   "source": [
    "# Mall Customer Segmentation"
   ]
  },
  {
   "cell_type": "code",
   "execution_count": 2,
   "id": "fce79622",
   "metadata": {},
   "outputs": [],
   "source": [
    "#load dataset\n",
    "df_customer = pd.read_csv('Mall_Customers.csv')"
   ]
  },
  {
   "cell_type": "code",
   "execution_count": 3,
   "id": "c244760d",
   "metadata": {},
   "outputs": [
    {
     "data": {
      "text/html": [
       "<div>\n",
       "<style scoped>\n",
       "    .dataframe tbody tr th:only-of-type {\n",
       "        vertical-align: middle;\n",
       "    }\n",
       "\n",
       "    .dataframe tbody tr th {\n",
       "        vertical-align: top;\n",
       "    }\n",
       "\n",
       "    .dataframe thead th {\n",
       "        text-align: right;\n",
       "    }\n",
       "</style>\n",
       "<table border=\"1\" class=\"dataframe\">\n",
       "  <thead>\n",
       "    <tr style=\"text-align: right;\">\n",
       "      <th></th>\n",
       "      <th>CustomerID</th>\n",
       "      <th>Gender</th>\n",
       "      <th>Age</th>\n",
       "      <th>Annual Income (k$)</th>\n",
       "      <th>Spending Score (1-100)</th>\n",
       "    </tr>\n",
       "  </thead>\n",
       "  <tbody>\n",
       "    <tr>\n",
       "      <th>0</th>\n",
       "      <td>1</td>\n",
       "      <td>Male</td>\n",
       "      <td>19</td>\n",
       "      <td>15</td>\n",
       "      <td>39</td>\n",
       "    </tr>\n",
       "    <tr>\n",
       "      <th>1</th>\n",
       "      <td>2</td>\n",
       "      <td>Male</td>\n",
       "      <td>21</td>\n",
       "      <td>15</td>\n",
       "      <td>81</td>\n",
       "    </tr>\n",
       "    <tr>\n",
       "      <th>2</th>\n",
       "      <td>3</td>\n",
       "      <td>Female</td>\n",
       "      <td>20</td>\n",
       "      <td>16</td>\n",
       "      <td>6</td>\n",
       "    </tr>\n",
       "    <tr>\n",
       "      <th>3</th>\n",
       "      <td>4</td>\n",
       "      <td>Female</td>\n",
       "      <td>23</td>\n",
       "      <td>16</td>\n",
       "      <td>77</td>\n",
       "    </tr>\n",
       "    <tr>\n",
       "      <th>4</th>\n",
       "      <td>5</td>\n",
       "      <td>Female</td>\n",
       "      <td>31</td>\n",
       "      <td>17</td>\n",
       "      <td>40</td>\n",
       "    </tr>\n",
       "  </tbody>\n",
       "</table>\n",
       "</div>"
      ],
      "text/plain": [
       "   CustomerID  Gender  Age  Annual Income (k$)  Spending Score (1-100)\n",
       "0           1    Male   19                  15                      39\n",
       "1           2    Male   21                  15                      81\n",
       "2           3  Female   20                  16                       6\n",
       "3           4  Female   23                  16                      77\n",
       "4           5  Female   31                  17                      40"
      ]
     },
     "execution_count": 3,
     "metadata": {},
     "output_type": "execute_result"
    }
   ],
   "source": [
    "#show 5 rows of dataset\n",
    "df_customer.head()"
   ]
  },
  {
   "cell_type": "markdown",
   "id": "30f3f921",
   "metadata": {},
   "source": [
    "## Exploratory Data Analysis (EDA)"
   ]
  },
  {
   "cell_type": "code",
   "execution_count": 4,
   "id": "d88f5477",
   "metadata": {},
   "outputs": [
    {
     "data": {
      "text/plain": [
       "(200, 5)"
      ]
     },
     "execution_count": 4,
     "metadata": {},
     "output_type": "execute_result"
    }
   ],
   "source": [
    "#check total rows and columns of dataset\n",
    "df_customer.shape"
   ]
  },
  {
   "cell_type": "code",
   "execution_count": 5,
   "id": "13b9e187",
   "metadata": {},
   "outputs": [
    {
     "data": {
      "text/plain": [
       "CustomerID                0\n",
       "Gender                    0\n",
       "Age                       0\n",
       "Annual Income (k$)        0\n",
       "Spending Score (1-100)    0\n",
       "dtype: int64"
      ]
     },
     "execution_count": 5,
     "metadata": {},
     "output_type": "execute_result"
    }
   ],
   "source": [
    "#check missing value\n",
    "df_customer.isnull().sum()"
   ]
  },
  {
   "cell_type": "code",
   "execution_count": 6,
   "id": "cdc773ab",
   "metadata": {},
   "outputs": [
    {
     "data": {
      "text/html": [
       "<div>\n",
       "<style scoped>\n",
       "    .dataframe tbody tr th:only-of-type {\n",
       "        vertical-align: middle;\n",
       "    }\n",
       "\n",
       "    .dataframe tbody tr th {\n",
       "        vertical-align: top;\n",
       "    }\n",
       "\n",
       "    .dataframe thead th {\n",
       "        text-align: right;\n",
       "    }\n",
       "</style>\n",
       "<table border=\"1\" class=\"dataframe\">\n",
       "  <thead>\n",
       "    <tr style=\"text-align: right;\">\n",
       "      <th></th>\n",
       "      <th>Gender</th>\n",
       "      <th>Age</th>\n",
       "      <th>Annual Income (k$)</th>\n",
       "      <th>Spending Score (1-100)</th>\n",
       "    </tr>\n",
       "    <tr>\n",
       "      <th>CustomerID</th>\n",
       "      <th></th>\n",
       "      <th></th>\n",
       "      <th></th>\n",
       "      <th></th>\n",
       "    </tr>\n",
       "  </thead>\n",
       "  <tbody>\n",
       "    <tr>\n",
       "      <th>1</th>\n",
       "      <td>Male</td>\n",
       "      <td>19</td>\n",
       "      <td>15</td>\n",
       "      <td>39</td>\n",
       "    </tr>\n",
       "    <tr>\n",
       "      <th>2</th>\n",
       "      <td>Male</td>\n",
       "      <td>21</td>\n",
       "      <td>15</td>\n",
       "      <td>81</td>\n",
       "    </tr>\n",
       "    <tr>\n",
       "      <th>3</th>\n",
       "      <td>Female</td>\n",
       "      <td>20</td>\n",
       "      <td>16</td>\n",
       "      <td>6</td>\n",
       "    </tr>\n",
       "    <tr>\n",
       "      <th>4</th>\n",
       "      <td>Female</td>\n",
       "      <td>23</td>\n",
       "      <td>16</td>\n",
       "      <td>77</td>\n",
       "    </tr>\n",
       "    <tr>\n",
       "      <th>5</th>\n",
       "      <td>Female</td>\n",
       "      <td>31</td>\n",
       "      <td>17</td>\n",
       "      <td>40</td>\n",
       "    </tr>\n",
       "  </tbody>\n",
       "</table>\n",
       "</div>"
      ],
      "text/plain": [
       "            Gender  Age  Annual Income (k$)  Spending Score (1-100)\n",
       "CustomerID                                                         \n",
       "1             Male   19                  15                      39\n",
       "2             Male   21                  15                      81\n",
       "3           Female   20                  16                       6\n",
       "4           Female   23                  16                      77\n",
       "5           Female   31                  17                      40"
      ]
     },
     "execution_count": 6,
     "metadata": {},
     "output_type": "execute_result"
    }
   ],
   "source": [
    "#indexing customerID\n",
    "df_customer = df_customer.set_index('CustomerID')\n",
    "df_customer.head()"
   ]
  },
  {
   "cell_type": "code",
   "execution_count": 7,
   "id": "be3387ee",
   "metadata": {},
   "outputs": [
    {
     "data": {
      "text/html": [
       "<div>\n",
       "<style scoped>\n",
       "    .dataframe tbody tr th:only-of-type {\n",
       "        vertical-align: middle;\n",
       "    }\n",
       "\n",
       "    .dataframe tbody tr th {\n",
       "        vertical-align: top;\n",
       "    }\n",
       "\n",
       "    .dataframe thead th {\n",
       "        text-align: right;\n",
       "    }\n",
       "</style>\n",
       "<table border=\"1\" class=\"dataframe\">\n",
       "  <thead>\n",
       "    <tr style=\"text-align: right;\">\n",
       "      <th></th>\n",
       "      <th>Age</th>\n",
       "      <th>Annual Income (k$)</th>\n",
       "      <th>Spending Score (1-100)</th>\n",
       "    </tr>\n",
       "  </thead>\n",
       "  <tbody>\n",
       "    <tr>\n",
       "      <th>count</th>\n",
       "      <td>200.000000</td>\n",
       "      <td>200.000000</td>\n",
       "      <td>200.000000</td>\n",
       "    </tr>\n",
       "    <tr>\n",
       "      <th>mean</th>\n",
       "      <td>38.850000</td>\n",
       "      <td>60.560000</td>\n",
       "      <td>50.200000</td>\n",
       "    </tr>\n",
       "    <tr>\n",
       "      <th>std</th>\n",
       "      <td>13.969007</td>\n",
       "      <td>26.264721</td>\n",
       "      <td>25.823522</td>\n",
       "    </tr>\n",
       "    <tr>\n",
       "      <th>min</th>\n",
       "      <td>18.000000</td>\n",
       "      <td>15.000000</td>\n",
       "      <td>1.000000</td>\n",
       "    </tr>\n",
       "    <tr>\n",
       "      <th>25%</th>\n",
       "      <td>28.750000</td>\n",
       "      <td>41.500000</td>\n",
       "      <td>34.750000</td>\n",
       "    </tr>\n",
       "    <tr>\n",
       "      <th>50%</th>\n",
       "      <td>36.000000</td>\n",
       "      <td>61.500000</td>\n",
       "      <td>50.000000</td>\n",
       "    </tr>\n",
       "    <tr>\n",
       "      <th>75%</th>\n",
       "      <td>49.000000</td>\n",
       "      <td>78.000000</td>\n",
       "      <td>73.000000</td>\n",
       "    </tr>\n",
       "    <tr>\n",
       "      <th>max</th>\n",
       "      <td>70.000000</td>\n",
       "      <td>137.000000</td>\n",
       "      <td>99.000000</td>\n",
       "    </tr>\n",
       "  </tbody>\n",
       "</table>\n",
       "</div>"
      ],
      "text/plain": [
       "              Age  Annual Income (k$)  Spending Score (1-100)\n",
       "count  200.000000          200.000000              200.000000\n",
       "mean    38.850000           60.560000               50.200000\n",
       "std     13.969007           26.264721               25.823522\n",
       "min     18.000000           15.000000                1.000000\n",
       "25%     28.750000           41.500000               34.750000\n",
       "50%     36.000000           61.500000               50.000000\n",
       "75%     49.000000           78.000000               73.000000\n",
       "max     70.000000          137.000000               99.000000"
      ]
     },
     "execution_count": 7,
     "metadata": {},
     "output_type": "execute_result"
    }
   ],
   "source": [
    "#describe of dataset\n",
    "df_customer.describe()"
   ]
  },
  {
   "cell_type": "code",
   "execution_count": 8,
   "id": "6a0bab28",
   "metadata": {},
   "outputs": [
    {
     "name": "stdout",
     "output_type": "stream",
     "text": [
      "<class 'pandas.core.frame.DataFrame'>\n",
      "Int64Index: 200 entries, 1 to 200\n",
      "Data columns (total 4 columns):\n",
      " #   Column                  Non-Null Count  Dtype \n",
      "---  ------                  --------------  ----- \n",
      " 0   Gender                  200 non-null    object\n",
      " 1   Age                     200 non-null    int64 \n",
      " 2   Annual Income (k$)      200 non-null    int64 \n",
      " 3   Spending Score (1-100)  200 non-null    int64 \n",
      "dtypes: int64(3), object(1)\n",
      "memory usage: 7.8+ KB\n"
     ]
    }
   ],
   "source": [
    "#show info of dataset\n",
    "df_customer.info()"
   ]
  },
  {
   "cell_type": "code",
   "execution_count": 9,
   "id": "0e891130",
   "metadata": {},
   "outputs": [
    {
     "data": {
      "image/png": "[encoded data removed]",
      "text/plain": [
       "<Figure size 432x288 with 2 Axes>"
      ]
     },
     "metadata": {
      "needs_background": "light"
     },
     "output_type": "display_data"
    }
   ],
   "source": [
    "#visualize correlation matrix of each variable using pearson correlation\n",
    "sns.heatmap(df_customer.corr(), linewidths = 0.5, cmap = 'Blues', annot = True)\n",
    "plt.title('Pearson Correlation', fontsize = 15, pad = 12, fontweight = 'bold')\n",
    "plt.show()"
   ]
  },
  {
   "cell_type": "code",
   "execution_count": 10,
   "id": "735f66f3",
   "metadata": {},
   "outputs": [
    {
     "data": {
      "image/png": "[encoded data removed]",
      "text/plain": [
       "<Figure size 432x288 with 1 Axes>"
      ]
     },
     "metadata": {
      "needs_background": "light"
     },
     "output_type": "display_data"
    },
    {
     "name": "stdout",
     "output_type": "stream",
     "text": [
      "Maximum of Annual Income (k$) :  137\n",
      "Median of Annual Income (k$) :  61.5\n",
      "Minimum of Annual Income (k$) :  15\n",
      "\n",
      "\n",
      "Maximum of Spending Score :  99\n",
      "Median of Spending Score :  50.0\n",
      "Minimum of Spending Score :  1\n"
     ]
    }
   ],
   "source": [
    "#check outlier \n",
    "df_customer.boxplot(column = ['Annual Income (k$)', 'Spending Score (1-100)'])\n",
    "plt.title('Annual Income (k$) Vs Spending Score', fontsize = 15, pad = 12, fontweight = 'bold')\n",
    "plt.ylabel('Count', fontsize = 12)\n",
    "plt.show()\n",
    "\n",
    "print('Maximum of Annual Income (k$) : ', df_customer['Annual Income (k$)'].max())\n",
    "print('Median of Annual Income (k$) : ', df_customer['Annual Income (k$)'].median())\n",
    "print('Minimum of Annual Income (k$) : ', df_customer['Annual Income (k$)'].min())\n",
    "print('\\n')\n",
    "print('Maximum of Spending Score : ', df_customer['Spending Score (1-100)'].max())\n",
    "print('Median of Spending Score : ', df_customer['Spending Score (1-100)'].median())\n",
    "print('Minimum of Spending Score : ', df_customer['Spending Score (1-100)'].min())"
   ]
  },
  {
   "cell_type": "code",
   "execution_count": 11,
   "id": "47edec7f",
   "metadata": {},
   "outputs": [
    {
     "data": {
      "text/plain": [
       "array(['Male', 'Female'], dtype=object)"
      ]
     },
     "execution_count": 11,
     "metadata": {},
     "output_type": "execute_result"
    }
   ],
   "source": [
    "#check unique of gender column\n",
    "df_customer['Gender'].unique()"
   ]
  },
  {
   "cell_type": "code",
   "execution_count": 12,
   "id": "5dc5ee14",
   "metadata": {},
   "outputs": [
    {
     "data": {
      "text/plain": [
       "Female    112\n",
       "Male       88\n",
       "Name: Gender, dtype: int64"
      ]
     },
     "execution_count": 12,
     "metadata": {},
     "output_type": "execute_result"
    }
   ],
   "source": [
    "#check number of gender column\n",
    "df_customer['Gender'].value_counts()"
   ]
  },
  {
   "cell_type": "code",
   "execution_count": 13,
   "id": "baadd7c3",
   "metadata": {},
   "outputs": [
    {
     "data": {
      "image/png": "[encoded data removed]",
      "text/plain": [
       "<Figure size 432x288 with 1 Axes>"
      ]
     },
     "metadata": {},
     "output_type": "display_data"
    }
   ],
   "source": [
    "#visualize number of gender\n",
    "status = [np.count_nonzero(df_customer['Gender'] == 'Female'),\n",
    "         np.count_nonzero(df_customer['Gender'] == 'Male')]\n",
    "activities = ['Female', 'Male']\n",
    "plt.pie(status, labels = activities, autopct = '%.1f%%')\n",
    "plt.title('Number of Gender', fontsize = 15, pad = 12, fontweight = 'bold')\n",
    "plt.show()"
   ]
  },
  {
   "cell_type": "code",
   "execution_count": 14,
   "id": "cf2f253a",
   "metadata": {},
   "outputs": [
    {
     "data": {
      "text/html": [
       "<div>\n",
       "<style scoped>\n",
       "    .dataframe tbody tr th:only-of-type {\n",
       "        vertical-align: middle;\n",
       "    }\n",
       "\n",
       "    .dataframe tbody tr th {\n",
       "        vertical-align: top;\n",
       "    }\n",
       "\n",
       "    .dataframe thead th {\n",
       "        text-align: right;\n",
       "    }\n",
       "</style>\n",
       "<table border=\"1\" class=\"dataframe\">\n",
       "  <thead>\n",
       "    <tr style=\"text-align: right;\">\n",
       "      <th></th>\n",
       "      <th>Annual Income (k$)</th>\n",
       "    </tr>\n",
       "    <tr>\n",
       "      <th>Gender</th>\n",
       "      <th></th>\n",
       "    </tr>\n",
       "  </thead>\n",
       "  <tbody>\n",
       "    <tr>\n",
       "      <th>Female</th>\n",
       "      <td>6636</td>\n",
       "    </tr>\n",
       "    <tr>\n",
       "      <th>Male</th>\n",
       "      <td>5476</td>\n",
       "    </tr>\n",
       "  </tbody>\n",
       "</table>\n",
       "</div>"
      ],
      "text/plain": [
       "        Annual Income (k$)\n",
       "Gender                    \n",
       "Female                6636\n",
       "Male                  5476"
      ]
     },
     "execution_count": 14,
     "metadata": {},
     "output_type": "execute_result"
    }
   ],
   "source": [
    "#analyze total annual income based on gender\n",
    "pd.pivot_table(df_customer, index = 'Gender', values = 'Annual Income (k$)', \n",
    "               aggfunc = {'Annual Income (k$)' : np.sum}).sort_values('Annual Income (k$)', ascending = False)"
   ]
  },
  {
   "cell_type": "code",
   "execution_count": 15,
   "id": "7ce89c60",
   "metadata": {},
   "outputs": [
    {
     "data": {
      "image/png": "[encoded data removed]",
      "text/plain": [
       "<Figure size 432x288 with 1 Axes>"
      ]
     },
     "metadata": {
      "needs_background": "light"
     },
     "output_type": "display_data"
    }
   ],
   "source": [
    "#visualize total annual income based on gender\n",
    "chart = df_customer.groupby('Gender')['Annual Income (k$)'].sum().sort_values(ascending = False).plot(kind = 'bar', \n",
    "                                                                                                      color = 'lightseagreen')\n",
    "chart.set_xticklabels(chart.get_xticklabels(), rotation = 0)\n",
    "plt.grid(color = 'darkgray', linestyle = ':', linewidth = 1)\n",
    "plt.title('Total Annual Income based on Genre', fontsize = 15, pad = 12, fontweight = 'bold')\n",
    "plt.xlabel('Gender', fontsize = 12)\n",
    "plt.ylabel('Total Annual Income (k$)', fontsize = 12)\n",
    "plt.show()"
   ]
  },
  {
   "cell_type": "code",
   "execution_count": 16,
   "id": "38dc2178",
   "metadata": {},
   "outputs": [
    {
     "data": {
      "text/html": [
       "<div>\n",
       "<style scoped>\n",
       "    .dataframe tbody tr th:only-of-type {\n",
       "        vertical-align: middle;\n",
       "    }\n",
       "\n",
       "    .dataframe tbody tr th {\n",
       "        vertical-align: top;\n",
       "    }\n",
       "\n",
       "    .dataframe thead th {\n",
       "        text-align: right;\n",
       "    }\n",
       "</style>\n",
       "<table border=\"1\" class=\"dataframe\">\n",
       "  <thead>\n",
       "    <tr style=\"text-align: right;\">\n",
       "      <th></th>\n",
       "      <th>Spending Score (1-100)</th>\n",
       "    </tr>\n",
       "    <tr>\n",
       "      <th>Gender</th>\n",
       "      <th></th>\n",
       "    </tr>\n",
       "  </thead>\n",
       "  <tbody>\n",
       "    <tr>\n",
       "      <th>Female</th>\n",
       "      <td>5771</td>\n",
       "    </tr>\n",
       "    <tr>\n",
       "      <th>Male</th>\n",
       "      <td>4269</td>\n",
       "    </tr>\n",
       "  </tbody>\n",
       "</table>\n",
       "</div>"
      ],
      "text/plain": [
       "        Spending Score (1-100)\n",
       "Gender                        \n",
       "Female                    5771\n",
       "Male                      4269"
      ]
     },
     "execution_count": 16,
     "metadata": {},
     "output_type": "execute_result"
    }
   ],
   "source": [
    "#analyze total spending score based on gender\n",
    "pd.pivot_table(df_customer, index = 'Gender', values = 'Spending Score (1-100)', \n",
    "               aggfunc = {'Spending Score (1-100)' : np.sum}).sort_values('Spending Score (1-100)', ascending = False)"
   ]
  },
  {
   "cell_type": "code",
   "execution_count": 17,
   "id": "5f05b2b4",
   "metadata": {},
   "outputs": [
    {
     "data": {
      "image/png": "[encoded data removed]",
      "text/plain": [
       "<Figure size 432x288 with 1 Axes>"
      ]
     },
     "metadata": {
      "needs_background": "light"
     },
     "output_type": "display_data"
    }
   ],
   "source": [
    "#visualize total spending score based on gender\n",
    "chart = df_customer.groupby('Gender')['Spending Score (1-100)'].sum().sort_values(ascending = False).plot(kind = 'bar', \n",
    "                                                                                                          color = 'royalblue')\n",
    "chart.set_xticklabels(chart.get_xticklabels(), rotation = 0)\n",
    "plt.grid(color = 'darkgray', linestyle = ':', linewidth = 1)\n",
    "plt.title('Total Spending Score based on Genre', fontsize = 15, pad = 12, fontweight = 'bold')\n",
    "plt.xlabel('Gender', fontsize = 12)\n",
    "plt.ylabel('Total Spending Score (1-100)', fontsize = 12)\n",
    "plt.show()"
   ]
  },
  {
   "cell_type": "code",
   "execution_count": 18,
   "id": "cf3b0451",
   "metadata": {},
   "outputs": [
    {
     "data": {
      "image/png": "[encoded data removed]",
      "text/plain": [
       "<Figure size 576x288 with 2 Axes>"
      ]
     },
     "metadata": {
      "needs_background": "light"
     },
     "output_type": "display_data"
    }
   ],
   "source": [
    "#visualize distribution of annual income and spending score\n",
    "df_customer.hist(column = ['Annual Income (k$)', 'Spending Score (1-100)'], color = 'darkorange', figsize = (8,4))\n",
    "plt.show()"
   ]
  },
  {
   "cell_type": "code",
   "execution_count": 19,
   "id": "3a88e491",
   "metadata": {},
   "outputs": [
    {
     "data": {
      "text/html": [
       "<div>\n",
       "<style scoped>\n",
       "    .dataframe tbody tr th:only-of-type {\n",
       "        vertical-align: middle;\n",
       "    }\n",
       "\n",
       "    .dataframe tbody tr th {\n",
       "        vertical-align: top;\n",
       "    }\n",
       "\n",
       "    .dataframe thead th {\n",
       "        text-align: right;\n",
       "    }\n",
       "</style>\n",
       "<table border=\"1\" class=\"dataframe\">\n",
       "  <thead>\n",
       "    <tr style=\"text-align: right;\">\n",
       "      <th></th>\n",
       "      <th>Gender</th>\n",
       "      <th>Age</th>\n",
       "      <th>Annual Income (k$)</th>\n",
       "      <th>Spending Score (1-100)</th>\n",
       "    </tr>\n",
       "    <tr>\n",
       "      <th>CustomerID</th>\n",
       "      <th></th>\n",
       "      <th></th>\n",
       "      <th></th>\n",
       "      <th></th>\n",
       "    </tr>\n",
       "  </thead>\n",
       "  <tbody>\n",
       "    <tr>\n",
       "      <th>1</th>\n",
       "      <td>1</td>\n",
       "      <td>19</td>\n",
       "      <td>15</td>\n",
       "      <td>39</td>\n",
       "    </tr>\n",
       "    <tr>\n",
       "      <th>2</th>\n",
       "      <td>1</td>\n",
       "      <td>21</td>\n",
       "      <td>15</td>\n",
       "      <td>81</td>\n",
       "    </tr>\n",
       "    <tr>\n",
       "      <th>3</th>\n",
       "      <td>0</td>\n",
       "      <td>20</td>\n",
       "      <td>16</td>\n",
       "      <td>6</td>\n",
       "    </tr>\n",
       "    <tr>\n",
       "      <th>4</th>\n",
       "      <td>0</td>\n",
       "      <td>23</td>\n",
       "      <td>16</td>\n",
       "      <td>77</td>\n",
       "    </tr>\n",
       "    <tr>\n",
       "      <th>5</th>\n",
       "      <td>0</td>\n",
       "      <td>31</td>\n",
       "      <td>17</td>\n",
       "      <td>40</td>\n",
       "    </tr>\n",
       "  </tbody>\n",
       "</table>\n",
       "</div>"
      ],
      "text/plain": [
       "            Gender  Age  Annual Income (k$)  Spending Score (1-100)\n",
       "CustomerID                                                         \n",
       "1                1   19                  15                      39\n",
       "2                1   21                  15                      81\n",
       "3                0   20                  16                       6\n",
       "4                0   23                  16                      77\n",
       "5                0   31                  17                      40"
      ]
     },
     "execution_count": 19,
     "metadata": {},
     "output_type": "execute_result"
    }
   ],
   "source": [
    "#feature scaling for transform label\n",
    "le = LabelEncoder()\n",
    "df_customer['Gender'] = le.fit_transform(df_customer['Gender'])\n",
    "df_customer.head()"
   ]
  },
  {
   "cell_type": "code",
   "execution_count": 20,
   "id": "c6ea2df0",
   "metadata": {},
   "outputs": [
    {
     "data": {
      "text/html": [
       "<div>\n",
       "<style scoped>\n",
       "    .dataframe tbody tr th:only-of-type {\n",
       "        vertical-align: middle;\n",
       "    }\n",
       "\n",
       "    .dataframe tbody tr th {\n",
       "        vertical-align: top;\n",
       "    }\n",
       "\n",
       "    .dataframe thead th {\n",
       "        text-align: right;\n",
       "    }\n",
       "</style>\n",
       "<table border=\"1\" class=\"dataframe\">\n",
       "  <thead>\n",
       "    <tr style=\"text-align: right;\">\n",
       "      <th></th>\n",
       "      <th>Gender</th>\n",
       "      <th>Age</th>\n",
       "      <th>Annual Income (k$)</th>\n",
       "      <th>Spending Score (1-100)</th>\n",
       "    </tr>\n",
       "  </thead>\n",
       "  <tbody>\n",
       "    <tr>\n",
       "      <th>0</th>\n",
       "      <td>1.0</td>\n",
       "      <td>0.019231</td>\n",
       "      <td>0.000000</td>\n",
       "      <td>0.387755</td>\n",
       "    </tr>\n",
       "    <tr>\n",
       "      <th>1</th>\n",
       "      <td>1.0</td>\n",
       "      <td>0.057692</td>\n",
       "      <td>0.000000</td>\n",
       "      <td>0.816327</td>\n",
       "    </tr>\n",
       "    <tr>\n",
       "      <th>2</th>\n",
       "      <td>0.0</td>\n",
       "      <td>0.038462</td>\n",
       "      <td>0.008197</td>\n",
       "      <td>0.051020</td>\n",
       "    </tr>\n",
       "    <tr>\n",
       "      <th>3</th>\n",
       "      <td>0.0</td>\n",
       "      <td>0.096154</td>\n",
       "      <td>0.008197</td>\n",
       "      <td>0.775510</td>\n",
       "    </tr>\n",
       "    <tr>\n",
       "      <th>4</th>\n",
       "      <td>0.0</td>\n",
       "      <td>0.250000</td>\n",
       "      <td>0.016393</td>\n",
       "      <td>0.397959</td>\n",
       "    </tr>\n",
       "  </tbody>\n",
       "</table>\n",
       "</div>"
      ],
      "text/plain": [
       "   Gender       Age  Annual Income (k$)  Spending Score (1-100)\n",
       "0     1.0  0.019231            0.000000                0.387755\n",
       "1     1.0  0.057692            0.000000                0.816327\n",
       "2     0.0  0.038462            0.008197                0.051020\n",
       "3     0.0  0.096154            0.008197                0.775510\n",
       "4     0.0  0.250000            0.016393                0.397959"
      ]
     },
     "execution_count": 20,
     "metadata": {},
     "output_type": "execute_result"
    }
   ],
   "source": [
    "#feature scaling for normalization\n",
    "scaler = MinMaxScaler()\n",
    "data_scaled = scaler.fit_transform(df_customer)\n",
    "df_norm = pd.DataFrame(data_scaled, columns = df_customer.columns)\n",
    "df_norm.head()"
   ]
  },
  {
   "cell_type": "markdown",
   "id": "3be16f88",
   "metadata": {},
   "source": [
    "## K-Means Clustering "
   ]
  },
  {
   "cell_type": "code",
   "execution_count": 21,
   "id": "384cfdb1",
   "metadata": {},
   "outputs": [
    {
     "data": {
      "image/png": "[encoded data removed]",
      "text/plain": [
       "<Figure size 432x288 with 1 Axes>"
      ]
     },
     "metadata": {
      "needs_background": "light"
     },
     "output_type": "display_data"
    }
   ],
   "source": [
    "#using only spending score and income variable for easy visualisation\n",
    "X = df_customer.iloc[:, [2, 3]].values\n",
    "\n",
    "#using the elbow method to find the optimal number of clusters\n",
    "wcss = []\n",
    "for i in range(1, 11):\n",
    "    kmeans = KMeans(n_clusters = i, init = 'k-means++', random_state = 42)\n",
    "    kmeans.fit(X)\n",
    "    wcss.append(kmeans.inertia_)\n",
    "\n",
    "#visualize the elbow method \n",
    "sns.lineplot(range(1, 11), wcss, marker = 'o', color = 'maroon')\n",
    "plt.grid(color = 'darkgray', linestyle = ':', linewidth = 1)\n",
    "plt.title('The Elbow Method', fontsize = 15, pad = 12, fontweight = 'bold')\n",
    "plt.xlabel('Number of clusters', fontsize = 12)\n",
    "plt.ylabel('WCSS', fontsize = 12)\n",
    "plt.show()"
   ]
  },
  {
   "cell_type": "code",
   "execution_count": 22,
   "id": "649847d8",
   "metadata": {},
   "outputs": [
    {
     "name": "stdout",
     "output_type": "stream",
     "text": [
      "[2 3 2 3 2 3 2 3 2 3 2 3 2 3 2 3 2 3 2 3 2 3 2 3 2 3 2 3 2 3 2 3 2 3 2 3 2\n",
      " 3 2 3 2 3 2 0 2 3 0 0 0 0 0 0 0 0 0 0 0 0 0 0 0 0 0 0 0 0 0 0 0 0 0 0 0 0\n",
      " 0 0 0 0 0 0 0 0 0 0 0 0 0 0 0 0 0 0 0 0 0 0 0 0 0 0 0 0 0 0 0 0 0 0 0 0 0\n",
      " 0 0 0 0 0 0 0 0 0 0 0 0 4 1 4 0 4 1 4 1 4 0 4 1 4 1 4 1 4 1 4 0 4 1 4 1 4\n",
      " 1 4 1 4 1 4 1 4 1 4 1 4 1 4 1 4 1 4 1 4 1 4 1 4 1 4 1 4 1 4 1 4 1 4 1 4 1\n",
      " 4 1 4 1 4 1 4 1 4 1 4 1 4 1 4]\n"
     ]
    }
   ],
   "source": [
    "#fitting K-Means to the dataset\n",
    "kmeans = KMeans(n_clusters = 5, init = 'k-means++', random_state = 42)\n",
    "y_kmeans = kmeans.fit_predict(X)\n",
    "print(y_kmeans)"
   ]
  },
  {
   "cell_type": "code",
   "execution_count": 23,
   "id": "a279d41c",
   "metadata": {},
   "outputs": [
    {
     "data": {
      "image/png": "[encoded data removed]",
      "text/plain": [
       "<Figure size 864x504 with 1 Axes>"
      ]
     },
     "metadata": {
      "needs_background": "light"
     },
     "output_type": "display_data"
    }
   ],
   "source": [
    "#visualize the clusters\n",
    "plt.figure(figsize = (12,7))\n",
    "sns.scatterplot(X[y_kmeans == 0, 0], X[y_kmeans == 0, 1], color = 'green', label = 'Cluster 1', s = 50)\n",
    "sns.scatterplot(X[y_kmeans == 1, 0], X[y_kmeans == 1, 1], color = 'blue', label = 'Cluster 2', s = 50)\n",
    "sns.scatterplot(X[y_kmeans == 2, 0], X[y_kmeans == 2, 1], color = 'sienna', label = 'Cluster 3', s = 50)\n",
    "sns.scatterplot(X[y_kmeans == 3, 0], X[y_kmeans == 3, 1], color = 'darkviolet', label = 'Cluster 4', s = 50)\n",
    "sns.scatterplot(X[y_kmeans == 4, 0], X[y_kmeans == 4, 1], color = 'orange', label = 'Cluster 5', s = 50)\n",
    "sns.scatterplot(kmeans.cluster_centers_[:, 0], kmeans.cluster_centers_[:, 1], color = 'red', label = 'Centroids', s = 200, \n",
    "                marker = ',')\n",
    "plt.grid(False)\n",
    "plt.title('Clusters of Customers', fontsize = 15, pad = 12, fontweight = 'bold')\n",
    "plt.grid(color = 'darkgray', linestyle = ':', linewidth = 1)\n",
    "plt.xlabel('Annual Income (k$)', fontsize = 12)\n",
    "plt.ylabel('Spending Score', fontsize = 12)\n",
    "plt.legend()\n",
    "plt.show()"
   ]
  },
  {
   "cell_type": "markdown",
   "id": "6b26a020",
   "metadata": {},
   "source": [
    "## K-Modes Clustering"
   ]
  },
  {
   "cell_type": "code",
   "execution_count": 24,
   "id": "f61366c1",
   "metadata": {},
   "outputs": [
    {
     "name": "stdout",
     "output_type": "stream",
     "text": [
      "Init: initializing centroids\n",
      "Init: initializing clusters\n",
      "Starting iterations...\n",
      "Run 1, iteration: 1/100, moves: 3, cost: 530.0\n"
     ]
    }
   ],
   "source": [
    "#fitting K-Modes to dataset with cao initialization \n",
    "kmodes_cao = KModes(n_clusters = 5, init = 'Cao', n_init = 1, verbose = 1)\n",
    "y_kmodes_cao = kmodes_cao.fit_predict(df_customer)"
   ]
  },
  {
   "cell_type": "code",
   "execution_count": 25,
   "id": "04e0610e",
   "metadata": {},
   "outputs": [
    {
     "name": "stdout",
     "output_type": "stream",
     "text": [
      "[1 1 0 0 0 0 0 0 1 2 1 0 0 0 1 1 0 1 1 0 1 1 0 0 0 1 0 1 0 0 1 2 1 1 0 0 0\n",
      " 2 0 0 0 1 1 0 0 0 0 3 0 0 0 1 0 1 0 1 4 1 4 1 1 1 0 0 1 1 3 3 1 3 1 0 0 0\n",
      " 0 0 0 0 0 0 0 0 0 0 0 1 0 0 0 0 0 1 1 4 0 1 3 4 0 1 0 0 1 1 1 0 4 1 1 1 1\n",
      " 0 0 1 0 4 0 0 0 0 1 0 0 1 0 0 1 1 1 1 1 1 0 0 1 0 0 1 1 0 0 1 0 3 1 1 1 3\n",
      " 2 1 1 1 2 2 2 2 1 2 1 2 0 0 1 0 1 0 1 0 0 1 1 1 1 1 0 2 1 1 1 1 0 3 1 0 0\n",
      " 1 0 1 0 0 0 3 1 0 0 0 0 1 1 1]\n"
     ]
    }
   ],
   "source": [
    "#prediction\n",
    "print(y_kmodes_cao)"
   ]
  },
  {
   "cell_type": "code",
   "execution_count": 26,
   "id": "bfe2c204",
   "metadata": {},
   "outputs": [
    {
     "data": {
      "text/html": [
       "<div>\n",
       "<style scoped>\n",
       "    .dataframe tbody tr th:only-of-type {\n",
       "        vertical-align: middle;\n",
       "    }\n",
       "\n",
       "    .dataframe tbody tr th {\n",
       "        vertical-align: top;\n",
       "    }\n",
       "\n",
       "    .dataframe thead th {\n",
       "        text-align: right;\n",
       "    }\n",
       "</style>\n",
       "<table border=\"1\" class=\"dataframe\">\n",
       "  <thead>\n",
       "    <tr style=\"text-align: right;\">\n",
       "      <th></th>\n",
       "      <th>Gender</th>\n",
       "      <th>Age</th>\n",
       "      <th>Annual Income (k$)</th>\n",
       "      <th>Spending Score (1-100)</th>\n",
       "    </tr>\n",
       "  </thead>\n",
       "  <tbody>\n",
       "    <tr>\n",
       "      <th>0</th>\n",
       "      <td>0</td>\n",
       "      <td>31</td>\n",
       "      <td>54</td>\n",
       "      <td>42</td>\n",
       "    </tr>\n",
       "    <tr>\n",
       "      <th>1</th>\n",
       "      <td>1</td>\n",
       "      <td>19</td>\n",
       "      <td>71</td>\n",
       "      <td>46</td>\n",
       "    </tr>\n",
       "    <tr>\n",
       "      <th>2</th>\n",
       "      <td>0</td>\n",
       "      <td>30</td>\n",
       "      <td>78</td>\n",
       "      <td>73</td>\n",
       "    </tr>\n",
       "    <tr>\n",
       "      <th>3</th>\n",
       "      <td>0</td>\n",
       "      <td>32</td>\n",
       "      <td>48</td>\n",
       "      <td>47</td>\n",
       "    </tr>\n",
       "    <tr>\n",
       "      <th>4</th>\n",
       "      <td>0</td>\n",
       "      <td>27</td>\n",
       "      <td>60</td>\n",
       "      <td>50</td>\n",
       "    </tr>\n",
       "  </tbody>\n",
       "</table>\n",
       "</div>"
      ],
      "text/plain": [
       "   Gender  Age  Annual Income (k$)  Spending Score (1-100)\n",
       "0       0   31                  54                      42\n",
       "1       1   19                  71                      46\n",
       "2       0   30                  78                      73\n",
       "3       0   32                  48                      47\n",
       "4       0   27                  60                      50"
      ]
     },
     "execution_count": 26,
     "metadata": {},
     "output_type": "execute_result"
    }
   ],
   "source": [
    "#create dataframe for build clusters\n",
    "cluster = pd.DataFrame(kmodes_cao.cluster_centroids_)\n",
    "cluster.columns = df_customer.columns\n",
    "cluster "
   ]
  },
  {
   "cell_type": "code",
   "execution_count": 27,
   "id": "b7f0ba44",
   "metadata": {},
   "outputs": [
    {
     "name": "stdout",
     "output_type": "stream",
     "text": [
      "Init: initializing centroids\n",
      "Init: initializing clusters\n",
      "Starting iterations...\n",
      "Run 1, iteration: 1/100, moves: 12, cost: 543.0\n",
      "Run 1, iteration: 2/100, moves: 2, cost: 543.0\n"
     ]
    }
   ],
   "source": [
    "#fitting K-Modes to dataset with huang initialization \n",
    "kmodes_huang = KModes(n_clusters = 5, init = 'Huang', n_init = 1, verbose = 1)\n",
    "y_kmodes_huang = kmodes_huang.fit_predict(df_customer)"
   ]
  },
  {
   "cell_type": "code",
   "execution_count": 28,
   "id": "7a1a29c5",
   "metadata": {},
   "outputs": [
    {
     "name": "stdout",
     "output_type": "stream",
     "text": [
      "[2 2 0 0 1 3 0 0 2 0 2 0 0 0 2 2 0 2 2 0 2 2 4 1 0 2 0 2 0 0 2 0 2 2 0 0 0\n",
      " 0 0 0 0 2 2 1 0 0 3 0 0 0 0 2 1 2 0 2 0 2 0 2 2 2 0 0 2 2 0 0 2 0 2 0 0 0\n",
      " 2 2 0 2 0 0 2 2 2 4 0 2 0 3 0 0 3 2 2 0 0 2 0 0 0 2 0 0 2 2 2 0 0 2 2 2 2\n",
      " 0 0 2 0 0 0 0 0 0 2 0 0 2 0 1 2 2 2 2 2 2 0 1 2 0 0 2 2 0 4 1 0 0 2 2 2 0\n",
      " 0 0 0 0 0 0 0 0 0 0 0 0 0 0 2 1 2 0 2 0 0 2 2 2 2 2 0 0 2 2 2 2 0 0 2 0 0\n",
      " 2 0 2 0 0 0 0 2 0 0 0 0 2 2 2]\n"
     ]
    }
   ],
   "source": [
    "#prediction\n",
    "print(y_kmodes_huang)"
   ]
  },
  {
   "cell_type": "code",
   "execution_count": 29,
   "id": "1c41cff1",
   "metadata": {},
   "outputs": [
    {
     "name": "stdout",
     "output_type": "stream",
     "text": [
      "Init: initializing centroids\n",
      "Init: initializing clusters\n",
      "Starting iterations...\n",
      "Run 1, iteration: 1/100, moves: 0, cost: 657.0\n",
      "Init: initializing centroids\n",
      "Init: initializing clusters\n",
      "Starting iterations...\n",
      "Run 1, iteration: 1/100, moves: 3, cost: 564.0\n",
      "Init: initializing centroids\n",
      "Init: initializing clusters\n",
      "Starting iterations...\n",
      "Run 1, iteration: 1/100, moves: 3, cost: 549.0\n",
      "Init: initializing centroids\n",
      "Init: initializing clusters\n",
      "Starting iterations...\n",
      "Run 1, iteration: 1/100, moves: 3, cost: 538.0\n"
     ]
    }
   ],
   "source": [
    "#append list cost of kmodes with cao initialization\n",
    "cost = []\n",
    "for num_clusters in list(range(1,5)):\n",
    "    kmode = KModes(n_clusters = num_clusters, init = 'Cao', n_init = 1, verbose = 1)\n",
    "    kmode.fit_predict(df_customer)\n",
    "    cost.append(kmode.cost_)"
   ]
  },
  {
   "cell_type": "code",
   "execution_count": 30,
   "id": "54f3f40b",
   "metadata": {},
   "outputs": [
    {
     "data": {
      "image/png": "[encoded data removed]",
      "text/plain": [
       "<Figure size 432x288 with 1 Axes>"
      ]
     },
     "metadata": {
      "needs_background": "light"
     },
     "output_type": "display_data"
    }
   ],
   "source": [
    "#plotting dataframe based on cost\n",
    "y = np.array([i for i in range(1,5,1)])\n",
    "plt.plot(y, cost)\n",
    "plt.grid(color = 'darkgray', linestyle = ':', linewidth = 1)\n",
    "plt.title('Dataframe based on Cost Value', fontsize = 15, pad = 12, fontweight = 'bold')\n",
    "plt.xlabel('Number of Clusters', fontsize = 12)\n",
    "plt.ylabel('Cost Value', fontsize = 12)\n",
    "plt.show()"
   ]
  },
  {
   "cell_type": "code",
   "execution_count": 31,
   "id": "b4007e58",
   "metadata": {},
   "outputs": [
    {
     "data": {
      "text/html": [
       "<div>\n",
       "<style scoped>\n",
       "    .dataframe tbody tr th:only-of-type {\n",
       "        vertical-align: middle;\n",
       "    }\n",
       "\n",
       "    .dataframe tbody tr th {\n",
       "        vertical-align: top;\n",
       "    }\n",
       "\n",
       "    .dataframe thead th {\n",
       "        text-align: right;\n",
       "    }\n",
       "</style>\n",
       "<table border=\"1\" class=\"dataframe\">\n",
       "  <thead>\n",
       "    <tr style=\"text-align: right;\">\n",
       "      <th></th>\n",
       "      <th>CustomerID</th>\n",
       "      <th>Gender</th>\n",
       "      <th>Age</th>\n",
       "      <th>Annual Income (k$)</th>\n",
       "      <th>Spending Score (1-100)</th>\n",
       "      <th>cluster_predicted</th>\n",
       "    </tr>\n",
       "  </thead>\n",
       "  <tbody>\n",
       "    <tr>\n",
       "      <th>0</th>\n",
       "      <td>1</td>\n",
       "      <td>1</td>\n",
       "      <td>19</td>\n",
       "      <td>15</td>\n",
       "      <td>39</td>\n",
       "      <td>1</td>\n",
       "    </tr>\n",
       "    <tr>\n",
       "      <th>1</th>\n",
       "      <td>2</td>\n",
       "      <td>1</td>\n",
       "      <td>21</td>\n",
       "      <td>15</td>\n",
       "      <td>81</td>\n",
       "      <td>1</td>\n",
       "    </tr>\n",
       "    <tr>\n",
       "      <th>2</th>\n",
       "      <td>3</td>\n",
       "      <td>0</td>\n",
       "      <td>20</td>\n",
       "      <td>16</td>\n",
       "      <td>6</td>\n",
       "      <td>0</td>\n",
       "    </tr>\n",
       "    <tr>\n",
       "      <th>3</th>\n",
       "      <td>4</td>\n",
       "      <td>0</td>\n",
       "      <td>23</td>\n",
       "      <td>16</td>\n",
       "      <td>77</td>\n",
       "      <td>0</td>\n",
       "    </tr>\n",
       "    <tr>\n",
       "      <th>4</th>\n",
       "      <td>5</td>\n",
       "      <td>0</td>\n",
       "      <td>31</td>\n",
       "      <td>17</td>\n",
       "      <td>40</td>\n",
       "      <td>0</td>\n",
       "    </tr>\n",
       "  </tbody>\n",
       "</table>\n",
       "</div>"
      ],
      "text/plain": [
       "   CustomerID  Gender  Age  Annual Income (k$)  Spending Score (1-100)  \\\n",
       "0           1       1   19                  15                      39   \n",
       "1           2       1   21                  15                      81   \n",
       "2           3       0   20                  16                       6   \n",
       "3           4       0   23                  16                      77   \n",
       "4           5       0   31                  17                      40   \n",
       "\n",
       "   cluster_predicted  \n",
       "0                  1  \n",
       "1                  1  \n",
       "2                  0  \n",
       "3                  0  \n",
       "4                  0  "
      ]
     },
     "execution_count": 31,
     "metadata": {},
     "output_type": "execute_result"
    }
   ],
   "source": [
    "#combining prediction of cluster with original dataframe\n",
    "df_customer_copy = df_customer.copy()\n",
    "df_customer = df_customer_copy.reset_index()\n",
    "\n",
    "cluster_df = pd.DataFrame(y_kmodes_cao)\n",
    "cluster_df.columns = ['cluster_predicted']\n",
    "combine_df = pd.concat([df_customer, cluster_df], axis = 1).reset_index()\n",
    "combine_df = combine_df.drop('index', axis = 1)\n",
    "combine_df.head()"
   ]
  },
  {
   "cell_type": "code",
   "execution_count": 32,
   "id": "67b5d11d",
   "metadata": {},
   "outputs": [
    {
     "data": {
      "image/png": "[encoded data removed]",
      "text/plain": [
       "<Figure size 432x288 with 1 Axes>"
      ]
     },
     "metadata": {
      "needs_background": "light"
     },
     "output_type": "display_data"
    }
   ],
   "source": [
    "#visualize the result based on attribute\n",
    "sns.countplot(x = combine_df['Gender'], order = combine_df['Gender'].value_counts().index, \n",
    "              hue = combine_df['cluster_predicted'])\n",
    "plt.grid(color = 'darkgray', linestyle = ':', linewidth = 1)\n",
    "plt.title('Cluster Prediction based on Gender', fontsize = 15, pad = 12, fontweight = 'bold')\n",
    "plt.xlabel('Gender', fontsize = 12)\n",
    "plt.ylabel('Count', fontsize = 12)\n",
    "plt.legend(loc = 'right', bbox_to_anchor = (1.17, 0.81), ncol = 1)\n",
    "plt.show()"
   ]
  },
  {
   "cell_type": "markdown",
   "id": "bb950eb1",
   "metadata": {},
   "source": [
    "## K-Medoids Clustering "
   ]
  },
  {
   "cell_type": "code",
   "execution_count": 33,
   "id": "394c49e3",
   "metadata": {},
   "outputs": [
    {
     "name": "stdout",
     "output_type": "stream",
     "text": [
      "     Gender       Age  Annual Income (k$)  Spending Score (1-100)\n",
      "193     0.0  0.384615            0.803279                0.918367\n",
      "54      0.0  0.615385            0.229508                0.448980\n",
      "158     1.0  0.307692            0.516393                0.000000\n"
     ]
    }
   ],
   "source": [
    "#define function for initialization of medoids\n",
    "def init_medoids(X, k):\n",
    "    samples = choice(len(X), size = k, replace = False)\n",
    "    return X.iloc[samples, :]\n",
    "\n",
    "medoids_initial = init_medoids(df_norm, 3)\n",
    "print(medoids_initial)"
   ]
  },
  {
   "cell_type": "code",
   "execution_count": 34,
   "id": "3664320c",
   "metadata": {},
   "outputs": [
    {
     "name": "stdout",
     "output_type": "stream",
     "text": [
      "==========EUCLIDEAN DISTANCE==========\n",
      "\n",
      "[[1.43537867 1.1882011  0.70726676]\n",
      " [1.32760976 1.22418891 0.99777312]\n",
      " [1.22648625 0.73497654 1.15470871]\n",
      " ...\n",
      " [1.02701495 1.29237617 0.84329672]\n",
      " [1.26763001 1.33767933 0.51521473]\n",
      " [1.03393994 1.37547833 0.96949338]]\n"
     ]
    }
   ],
   "source": [
    "#define function for distances of medoids\n",
    "def distance(X, medoids):\n",
    "    m = len(X)\n",
    "    X = X.values\n",
    "    medoids_shape = medoids.shape\n",
    "    \n",
    "    if len(medoids_shape) == 1: \n",
    "        medoids = medoids.reshape((1, len(medoids)))\n",
    "    k = len(medoids)\n",
    "    S = np.empty((m, k))\n",
    "    \n",
    "    for i in range(m):\n",
    "        S[i, :] = np.linalg.norm(medoids - X[i, :], axis = 1).reshape(1, len(medoids))\n",
    "    return S\n",
    "\n",
    "print('==========EUCLIDEAN DISTANCE==========\\n')\n",
    "first_distance = distance(df_norm, medoids_initial)\n",
    "np.set_printoptions(threshold = 5)\n",
    "print(first_distance)"
   ]
  },
  {
   "cell_type": "code",
   "execution_count": 35,
   "id": "6d8accb4",
   "metadata": {},
   "outputs": [
    {
     "name": "stdout",
     "output_type": "stream",
     "text": [
      "===========================RESULT FIRST CLUSTERING==========================\n",
      "\n",
      "[2 2 1 1 1 1 1 1 2 1 2 1 1 1 2 2 1 2 2 1 2 2 1 2 1 2 1 2 1 1 2 1 2 2 1 1 1\n",
      " 1 1 1 1 2 2 1 1 1 1 1 1 1 1 2 1 2 1 2 1 2 1 2 2 2 1 1 2 2 1 1 2 1 2 1 1 1\n",
      " 2 2 1 2 1 1 2 2 2 1 1 2 1 1 1 1 1 2 2 1 1 2 1 1 2 2 1 1 2 2 2 1 1 2 2 2 2\n",
      " 1 1 2 1 1 1 1 1 1 2 1 1 2 1 0 2 2 2 2 2 2 1 0 2 0 1 2 2 0 1 2 1 0 2 2 2 0\n",
      " 1 2 2 2 1 0 1 0 2 0 2 0 1 0 2 0 2 0 2 0 1 2 2 2 2 2 1 0 2 2 2 2 1 0 2 0 1\n",
      " 2 1 2 1 0 1 0 2 0 1 0 0 2 2 2]\n"
     ]
    }
   ],
   "source": [
    "#define function for result of first clustering\n",
    "def clustering(S):\n",
    "    return np.argmin(S, axis = 1)\n",
    "\n",
    "first_cluster = clustering(first_distance)\n",
    "print('===========================RESULT FIRST CLUSTERING==========================\\n')\n",
    "np.set_printoptions(threshold = np.inf)\n",
    "print(first_cluster)"
   ]
  },
  {
   "cell_type": "code",
   "execution_count": 36,
   "id": "6062630f",
   "metadata": {},
   "outputs": [
    {
     "name": "stdout",
     "output_type": "stream",
     "text": [
      "Silhouette Score :  0.3439200191201821\n"
     ]
    }
   ],
   "source": [
    "#check silhouette coefficient\n",
    "silhouette_avg = silhouette_score(df_norm, first_cluster)\n",
    "print('Silhouette Score : ', silhouette_avg)"
   ]
  },
  {
   "cell_type": "code",
   "execution_count": 37,
   "id": "0b313bbf",
   "metadata": {},
   "outputs": [
    {
     "data": {
      "text/html": [
       "<div>\n",
       "<style scoped>\n",
       "    .dataframe tbody tr th:only-of-type {\n",
       "        vertical-align: middle;\n",
       "    }\n",
       "\n",
       "    .dataframe tbody tr th {\n",
       "        vertical-align: top;\n",
       "    }\n",
       "\n",
       "    .dataframe thead th {\n",
       "        text-align: right;\n",
       "    }\n",
       "</style>\n",
       "<table border=\"1\" class=\"dataframe\">\n",
       "  <thead>\n",
       "    <tr style=\"text-align: right;\">\n",
       "      <th></th>\n",
       "      <th>principal component I</th>\n",
       "      <th>principal component II</th>\n",
       "      <th>principal component III</th>\n",
       "    </tr>\n",
       "  </thead>\n",
       "  <tbody>\n",
       "    <tr>\n",
       "      <th>0</th>\n",
       "      <td>0.532955</td>\n",
       "      <td>-0.227841</td>\n",
       "      <td>0.321860</td>\n",
       "    </tr>\n",
       "    <tr>\n",
       "      <th>1</th>\n",
       "      <td>0.513939</td>\n",
       "      <td>-0.493080</td>\n",
       "      <td>-0.016202</td>\n",
       "    </tr>\n",
       "    <tr>\n",
       "      <th>2</th>\n",
       "      <td>-0.446266</td>\n",
       "      <td>0.087079</td>\n",
       "      <td>0.555761</td>\n",
       "    </tr>\n",
       "    <tr>\n",
       "      <th>3</th>\n",
       "      <td>-0.478796</td>\n",
       "      <td>-0.366617</td>\n",
       "      <td>-0.010714</td>\n",
       "    </tr>\n",
       "    <tr>\n",
       "      <th>4</th>\n",
       "      <td>-0.451984</td>\n",
       "      <td>0.003006</td>\n",
       "      <td>0.159208</td>\n",
       "    </tr>\n",
       "  </tbody>\n",
       "</table>\n",
       "</div>"
      ],
      "text/plain": [
       "   principal component I  principal component II  principal component III\n",
       "0               0.532955               -0.227841                 0.321860\n",
       "1               0.513939               -0.493080                -0.016202\n",
       "2              -0.446266                0.087079                 0.555761\n",
       "3              -0.478796               -0.366617                -0.010714\n",
       "4              -0.451984                0.003006                 0.159208"
      ]
     },
     "execution_count": 37,
     "metadata": {},
     "output_type": "execute_result"
    }
   ],
   "source": [
    "#PCA transformation\n",
    "pca = PCA(n_components = 3)\n",
    "principalComponents = pca.fit_transform(df_norm)\n",
    "PCAdf = pd.DataFrame(data = principalComponents , columns = ['principal component I', 'principal component II', \n",
    "                                                             'principal component III'])\n",
    "\n",
    "datapoints = PCAdf.values\n",
    "PCAdf.head()"
   ]
  },
  {
   "cell_type": "code",
   "execution_count": 38,
   "id": "f2693940",
   "metadata": {},
   "outputs": [
    {
     "data": {
      "image/png": "[encoded data removed]",
      "text/plain": [
       "<Figure size 576x432 with 1 Axes>"
      ]
     },
     "metadata": {
      "needs_background": "light"
     },
     "output_type": "display_data"
    }
   ],
   "source": [
    "#visualize PCA transformation\n",
    "fig = plt.figure(1, figsize=(8, 6))\n",
    "ax = Axes3D(fig, elev = 200, azim = 110)\n",
    "X_reduced = datapoints\n",
    "ax.scatter(X_reduced[:, 0], X_reduced[:, 1], X_reduced[:, 2], c = first_cluster, cmap = plt.cm.Set1, edgecolor = 'k', s = 40)\n",
    "ax.set_title('First Three PCA Direction', fontsize = 15, pad = 12, fontweight = 'bold')\n",
    "ax.set_xlabel('Principal Component I', fontsize = 12)\n",
    "ax.w_xaxis.set_ticklabels([])\n",
    "ax.set_ylabel('principal Component II', fontsize = 12)\n",
    "ax.w_yaxis.set_ticklabels([])\n",
    "ax.set_zlabel('Principal Component III', fontsize = 12)\n",
    "ax.w_zaxis.set_ticklabels([])\n",
    "plt.show()"
   ]
  },
  {
   "cell_type": "code",
   "execution_count": 39,
   "id": "62cd1f83",
   "metadata": {},
   "outputs": [
    {
     "data": {
      "text/html": [
       "<div>\n",
       "<style scoped>\n",
       "    .dataframe tbody tr th:only-of-type {\n",
       "        vertical-align: middle;\n",
       "    }\n",
       "\n",
       "    .dataframe tbody tr th {\n",
       "        vertical-align: top;\n",
       "    }\n",
       "\n",
       "    .dataframe thead th {\n",
       "        text-align: right;\n",
       "    }\n",
       "</style>\n",
       "<table border=\"1\" class=\"dataframe\">\n",
       "  <thead>\n",
       "    <tr style=\"text-align: right;\">\n",
       "      <th></th>\n",
       "      <th>CustomerID</th>\n",
       "      <th>Gender</th>\n",
       "      <th>Age</th>\n",
       "      <th>Annual Income (k$)</th>\n",
       "      <th>Spending Score (1-100)</th>\n",
       "      <th>Cluster</th>\n",
       "    </tr>\n",
       "  </thead>\n",
       "  <tbody>\n",
       "    <tr>\n",
       "      <th>0</th>\n",
       "      <td>1</td>\n",
       "      <td>1</td>\n",
       "      <td>19</td>\n",
       "      <td>15</td>\n",
       "      <td>39</td>\n",
       "      <td>2</td>\n",
       "    </tr>\n",
       "    <tr>\n",
       "      <th>1</th>\n",
       "      <td>2</td>\n",
       "      <td>1</td>\n",
       "      <td>21</td>\n",
       "      <td>15</td>\n",
       "      <td>81</td>\n",
       "      <td>2</td>\n",
       "    </tr>\n",
       "    <tr>\n",
       "      <th>2</th>\n",
       "      <td>3</td>\n",
       "      <td>0</td>\n",
       "      <td>20</td>\n",
       "      <td>16</td>\n",
       "      <td>6</td>\n",
       "      <td>1</td>\n",
       "    </tr>\n",
       "    <tr>\n",
       "      <th>3</th>\n",
       "      <td>4</td>\n",
       "      <td>0</td>\n",
       "      <td>23</td>\n",
       "      <td>16</td>\n",
       "      <td>77</td>\n",
       "      <td>1</td>\n",
       "    </tr>\n",
       "    <tr>\n",
       "      <th>4</th>\n",
       "      <td>5</td>\n",
       "      <td>0</td>\n",
       "      <td>31</td>\n",
       "      <td>17</td>\n",
       "      <td>40</td>\n",
       "      <td>1</td>\n",
       "    </tr>\n",
       "  </tbody>\n",
       "</table>\n",
       "</div>"
      ],
      "text/plain": [
       "   CustomerID  Gender  Age  Annual Income (k$)  Spending Score (1-100)  \\\n",
       "0           1       1   19                  15                      39   \n",
       "1           2       1   21                  15                      81   \n",
       "2           3       0   20                  16                       6   \n",
       "3           4       0   23                  16                      77   \n",
       "4           5       0   31                  17                      40   \n",
       "\n",
       "   Cluster  \n",
       "0        2  \n",
       "1        2  \n",
       "2        1  \n",
       "3        1  \n",
       "4        1  "
      ]
     },
     "execution_count": 39,
     "metadata": {},
     "output_type": "execute_result"
    }
   ],
   "source": [
    "#adding result cluster to original dataframe\n",
    "df_customer['Cluster'] = first_cluster\n",
    "df_customer.head()"
   ]
  },
  {
   "cell_type": "markdown",
   "id": "5ea6611d",
   "metadata": {},
   "source": [
    "# Facebook Live Sellers in Thailand"
   ]
  },
  {
   "cell_type": "code",
   "execution_count": 40,
   "id": "0f127c4e",
   "metadata": {},
   "outputs": [],
   "source": [
    "#load dataset\n",
    "df_facebook = pd.read_csv('Live.csv')"
   ]
  },
  {
   "cell_type": "code",
   "execution_count": 41,
   "id": "5455454a",
   "metadata": {},
   "outputs": [
    {
     "data": {
      "text/html": [
       "<div>\n",
       "<style scoped>\n",
       "    .dataframe tbody tr th:only-of-type {\n",
       "        vertical-align: middle;\n",
       "    }\n",
       "\n",
       "    .dataframe tbody tr th {\n",
       "        vertical-align: top;\n",
       "    }\n",
       "\n",
       "    .dataframe thead th {\n",
       "        text-align: right;\n",
       "    }\n",
       "</style>\n",
       "<table border=\"1\" class=\"dataframe\">\n",
       "  <thead>\n",
       "    <tr style=\"text-align: right;\">\n",
       "      <th></th>\n",
       "      <th>status_id</th>\n",
       "      <th>status_type</th>\n",
       "      <th>status_published</th>\n",
       "      <th>num_reactions</th>\n",
       "      <th>num_comments</th>\n",
       "      <th>num_shares</th>\n",
       "      <th>num_likes</th>\n",
       "      <th>num_loves</th>\n",
       "      <th>num_wows</th>\n",
       "      <th>num_hahas</th>\n",
       "      <th>num_sads</th>\n",
       "      <th>num_angrys</th>\n",
       "      <th>Column1</th>\n",
       "      <th>Column2</th>\n",
       "      <th>Column3</th>\n",
       "      <th>Column4</th>\n",
       "    </tr>\n",
       "  </thead>\n",
       "  <tbody>\n",
       "    <tr>\n",
       "      <th>0</th>\n",
       "      <td>246675545449582_1649696485147474</td>\n",
       "      <td>video</td>\n",
       "      <td>4/22/2018 6:00</td>\n",
       "      <td>529</td>\n",
       "      <td>512</td>\n",
       "      <td>262</td>\n",
       "      <td>432</td>\n",
       "      <td>92</td>\n",
       "      <td>3</td>\n",
       "      <td>1</td>\n",
       "      <td>1</td>\n",
       "      <td>0</td>\n",
       "      <td>NaN</td>\n",
       "      <td>NaN</td>\n",
       "      <td>NaN</td>\n",
       "      <td>NaN</td>\n",
       "    </tr>\n",
       "    <tr>\n",
       "      <th>1</th>\n",
       "      <td>246675545449582_1649426988507757</td>\n",
       "      <td>photo</td>\n",
       "      <td>4/21/2018 22:45</td>\n",
       "      <td>150</td>\n",
       "      <td>0</td>\n",
       "      <td>0</td>\n",
       "      <td>150</td>\n",
       "      <td>0</td>\n",
       "      <td>0</td>\n",
       "      <td>0</td>\n",
       "      <td>0</td>\n",
       "      <td>0</td>\n",
       "      <td>NaN</td>\n",
       "      <td>NaN</td>\n",
       "      <td>NaN</td>\n",
       "      <td>NaN</td>\n",
       "    </tr>\n",
       "    <tr>\n",
       "      <th>2</th>\n",
       "      <td>246675545449582_1648730588577397</td>\n",
       "      <td>video</td>\n",
       "      <td>4/21/2018 6:17</td>\n",
       "      <td>227</td>\n",
       "      <td>236</td>\n",
       "      <td>57</td>\n",
       "      <td>204</td>\n",
       "      <td>21</td>\n",
       "      <td>1</td>\n",
       "      <td>1</td>\n",
       "      <td>0</td>\n",
       "      <td>0</td>\n",
       "      <td>NaN</td>\n",
       "      <td>NaN</td>\n",
       "      <td>NaN</td>\n",
       "      <td>NaN</td>\n",
       "    </tr>\n",
       "    <tr>\n",
       "      <th>3</th>\n",
       "      <td>246675545449582_1648576705259452</td>\n",
       "      <td>photo</td>\n",
       "      <td>4/21/2018 2:29</td>\n",
       "      <td>111</td>\n",
       "      <td>0</td>\n",
       "      <td>0</td>\n",
       "      <td>111</td>\n",
       "      <td>0</td>\n",
       "      <td>0</td>\n",
       "      <td>0</td>\n",
       "      <td>0</td>\n",
       "      <td>0</td>\n",
       "      <td>NaN</td>\n",
       "      <td>NaN</td>\n",
       "      <td>NaN</td>\n",
       "      <td>NaN</td>\n",
       "    </tr>\n",
       "    <tr>\n",
       "      <th>4</th>\n",
       "      <td>246675545449582_1645700502213739</td>\n",
       "      <td>photo</td>\n",
       "      <td>4/18/2018 3:22</td>\n",
       "      <td>213</td>\n",
       "      <td>0</td>\n",
       "      <td>0</td>\n",
       "      <td>204</td>\n",
       "      <td>9</td>\n",
       "      <td>0</td>\n",
       "      <td>0</td>\n",
       "      <td>0</td>\n",
       "      <td>0</td>\n",
       "      <td>NaN</td>\n",
       "      <td>NaN</td>\n",
       "      <td>NaN</td>\n",
       "      <td>NaN</td>\n",
       "    </tr>\n",
       "  </tbody>\n",
       "</table>\n",
       "</div>"
      ],
      "text/plain": [
       "                          status_id status_type status_published  \\\n",
       "0  246675545449582_1649696485147474       video   4/22/2018 6:00   \n",
       "1  246675545449582_1649426988507757       photo  4/21/2018 22:45   \n",
       "2  246675545449582_1648730588577397       video   4/21/2018 6:17   \n",
       "3  246675545449582_1648576705259452       photo   4/21/2018 2:29   \n",
       "4  246675545449582_1645700502213739       photo   4/18/2018 3:22   \n",
       "\n",
       "   num_reactions  num_comments  num_shares  num_likes  num_loves  num_wows  \\\n",
       "0            529           512         262        432         92         3   \n",
       "1            150             0           0        150          0         0   \n",
       "2            227           236          57        204         21         1   \n",
       "3            111             0           0        111          0         0   \n",
       "4            213             0           0        204          9         0   \n",
       "\n",
       "   num_hahas  num_sads  num_angrys  Column1  Column2  Column3  Column4  \n",
       "0          1         1           0      NaN      NaN      NaN      NaN  \n",
       "1          0         0           0      NaN      NaN      NaN      NaN  \n",
       "2          1         0           0      NaN      NaN      NaN      NaN  \n",
       "3          0         0           0      NaN      NaN      NaN      NaN  \n",
       "4          0         0           0      NaN      NaN      NaN      NaN  "
      ]
     },
     "execution_count": 41,
     "metadata": {},
     "output_type": "execute_result"
    }
   ],
   "source": [
    "#show 5 rows of dataset\n",
    "df_facebook.head()"
   ]
  },
  {
   "cell_type": "markdown",
   "id": "9e1aae9a",
   "metadata": {},
   "source": [
    "## Exploratory Data Analysis (EDA)"
   ]
  },
  {
   "cell_type": "code",
   "execution_count": 42,
   "id": "141cb0ae",
   "metadata": {},
   "outputs": [
    {
     "data": {
      "text/plain": [
       "(7050, 16)"
      ]
     },
     "execution_count": 42,
     "metadata": {},
     "output_type": "execute_result"
    }
   ],
   "source": [
    "#check total rows and columns of dataset\n",
    "df_facebook.shape"
   ]
  },
  {
   "cell_type": "code",
   "execution_count": 43,
   "id": "fa4ea00d",
   "metadata": {},
   "outputs": [
    {
     "data": {
      "text/plain": [
       "status_id              0\n",
       "status_type            0\n",
       "status_published       0\n",
       "num_reactions          0\n",
       "num_comments           0\n",
       "num_shares             0\n",
       "num_likes              0\n",
       "num_loves              0\n",
       "num_wows               0\n",
       "num_hahas              0\n",
       "num_sads               0\n",
       "num_angrys             0\n",
       "Column1             7050\n",
       "Column2             7050\n",
       "Column3             7050\n",
       "Column4             7050\n",
       "dtype: int64"
      ]
     },
     "execution_count": 43,
     "metadata": {},
     "output_type": "execute_result"
    }
   ],
   "source": [
    "#check missing value\n",
    "df_facebook.isnull().sum()"
   ]
  },
  {
   "cell_type": "code",
   "execution_count": 44,
   "id": "6b4cedfa",
   "metadata": {},
   "outputs": [
    {
     "data": {
      "text/html": [
       "<div>\n",
       "<style scoped>\n",
       "    .dataframe tbody tr th:only-of-type {\n",
       "        vertical-align: middle;\n",
       "    }\n",
       "\n",
       "    .dataframe tbody tr th {\n",
       "        vertical-align: top;\n",
       "    }\n",
       "\n",
       "    .dataframe thead th {\n",
       "        text-align: right;\n",
       "    }\n",
       "</style>\n",
       "<table border=\"1\" class=\"dataframe\">\n",
       "  <thead>\n",
       "    <tr style=\"text-align: right;\">\n",
       "      <th></th>\n",
       "      <th>status_type</th>\n",
       "      <th>num_reactions</th>\n",
       "      <th>num_comments</th>\n",
       "      <th>num_shares</th>\n",
       "      <th>num_likes</th>\n",
       "      <th>num_loves</th>\n",
       "      <th>num_wows</th>\n",
       "      <th>num_hahas</th>\n",
       "      <th>num_sads</th>\n",
       "      <th>num_angrys</th>\n",
       "    </tr>\n",
       "  </thead>\n",
       "  <tbody>\n",
       "    <tr>\n",
       "      <th>0</th>\n",
       "      <td>video</td>\n",
       "      <td>529</td>\n",
       "      <td>512</td>\n",
       "      <td>262</td>\n",
       "      <td>432</td>\n",
       "      <td>92</td>\n",
       "      <td>3</td>\n",
       "      <td>1</td>\n",
       "      <td>1</td>\n",
       "      <td>0</td>\n",
       "    </tr>\n",
       "    <tr>\n",
       "      <th>1</th>\n",
       "      <td>photo</td>\n",
       "      <td>150</td>\n",
       "      <td>0</td>\n",
       "      <td>0</td>\n",
       "      <td>150</td>\n",
       "      <td>0</td>\n",
       "      <td>0</td>\n",
       "      <td>0</td>\n",
       "      <td>0</td>\n",
       "      <td>0</td>\n",
       "    </tr>\n",
       "    <tr>\n",
       "      <th>2</th>\n",
       "      <td>video</td>\n",
       "      <td>227</td>\n",
       "      <td>236</td>\n",
       "      <td>57</td>\n",
       "      <td>204</td>\n",
       "      <td>21</td>\n",
       "      <td>1</td>\n",
       "      <td>1</td>\n",
       "      <td>0</td>\n",
       "      <td>0</td>\n",
       "    </tr>\n",
       "    <tr>\n",
       "      <th>3</th>\n",
       "      <td>photo</td>\n",
       "      <td>111</td>\n",
       "      <td>0</td>\n",
       "      <td>0</td>\n",
       "      <td>111</td>\n",
       "      <td>0</td>\n",
       "      <td>0</td>\n",
       "      <td>0</td>\n",
       "      <td>0</td>\n",
       "      <td>0</td>\n",
       "    </tr>\n",
       "    <tr>\n",
       "      <th>4</th>\n",
       "      <td>photo</td>\n",
       "      <td>213</td>\n",
       "      <td>0</td>\n",
       "      <td>0</td>\n",
       "      <td>204</td>\n",
       "      <td>9</td>\n",
       "      <td>0</td>\n",
       "      <td>0</td>\n",
       "      <td>0</td>\n",
       "      <td>0</td>\n",
       "    </tr>\n",
       "  </tbody>\n",
       "</table>\n",
       "</div>"
      ],
      "text/plain": [
       "  status_type  num_reactions  num_comments  num_shares  num_likes  num_loves  \\\n",
       "0       video            529           512         262        432         92   \n",
       "1       photo            150             0           0        150          0   \n",
       "2       video            227           236          57        204         21   \n",
       "3       photo            111             0           0        111          0   \n",
       "4       photo            213             0           0        204          9   \n",
       "\n",
       "   num_wows  num_hahas  num_sads  num_angrys  \n",
       "0         3          1         1           0  \n",
       "1         0          0         0           0  \n",
       "2         1          1         0           0  \n",
       "3         0          0         0           0  \n",
       "4         0          0         0           0  "
      ]
     },
     "execution_count": 44,
     "metadata": {},
     "output_type": "execute_result"
    }
   ],
   "source": [
    "#drop attributes of dataset\n",
    "df_facebook = df_facebook.drop(columns = ['status_id', 'status_published', 'Column1', 'Column2', 'Column3', 'Column4'])\n",
    "df_facebook.head()"
   ]
  },
  {
   "cell_type": "code",
   "execution_count": 45,
   "id": "44b8a210",
   "metadata": {},
   "outputs": [
    {
     "data": {
      "text/html": [
       "<div>\n",
       "<style scoped>\n",
       "    .dataframe tbody tr th:only-of-type {\n",
       "        vertical-align: middle;\n",
       "    }\n",
       "\n",
       "    .dataframe tbody tr th {\n",
       "        vertical-align: top;\n",
       "    }\n",
       "\n",
       "    .dataframe thead th {\n",
       "        text-align: right;\n",
       "    }\n",
       "</style>\n",
       "<table border=\"1\" class=\"dataframe\">\n",
       "  <thead>\n",
       "    <tr style=\"text-align: right;\">\n",
       "      <th></th>\n",
       "      <th>num_reactions</th>\n",
       "      <th>num_comments</th>\n",
       "      <th>num_shares</th>\n",
       "      <th>num_likes</th>\n",
       "      <th>num_loves</th>\n",
       "      <th>num_wows</th>\n",
       "      <th>num_hahas</th>\n",
       "      <th>num_sads</th>\n",
       "      <th>num_angrys</th>\n",
       "    </tr>\n",
       "  </thead>\n",
       "  <tbody>\n",
       "    <tr>\n",
       "      <th>count</th>\n",
       "      <td>7050.000000</td>\n",
       "      <td>7050.000000</td>\n",
       "      <td>7050.000000</td>\n",
       "      <td>7050.000000</td>\n",
       "      <td>7050.000000</td>\n",
       "      <td>7050.000000</td>\n",
       "      <td>7050.000000</td>\n",
       "      <td>7050.000000</td>\n",
       "      <td>7050.000000</td>\n",
       "    </tr>\n",
       "    <tr>\n",
       "      <th>mean</th>\n",
       "      <td>230.117163</td>\n",
       "      <td>224.356028</td>\n",
       "      <td>40.022553</td>\n",
       "      <td>215.043121</td>\n",
       "      <td>12.728652</td>\n",
       "      <td>1.289362</td>\n",
       "      <td>0.696454</td>\n",
       "      <td>0.243688</td>\n",
       "      <td>0.113191</td>\n",
       "    </tr>\n",
       "    <tr>\n",
       "      <th>std</th>\n",
       "      <td>462.625309</td>\n",
       "      <td>889.636820</td>\n",
       "      <td>131.599965</td>\n",
       "      <td>449.472357</td>\n",
       "      <td>39.972930</td>\n",
       "      <td>8.719650</td>\n",
       "      <td>3.957183</td>\n",
       "      <td>1.597156</td>\n",
       "      <td>0.726812</td>\n",
       "    </tr>\n",
       "    <tr>\n",
       "      <th>min</th>\n",
       "      <td>0.000000</td>\n",
       "      <td>0.000000</td>\n",
       "      <td>0.000000</td>\n",
       "      <td>0.000000</td>\n",
       "      <td>0.000000</td>\n",
       "      <td>0.000000</td>\n",
       "      <td>0.000000</td>\n",
       "      <td>0.000000</td>\n",
       "      <td>0.000000</td>\n",
       "    </tr>\n",
       "    <tr>\n",
       "      <th>25%</th>\n",
       "      <td>17.000000</td>\n",
       "      <td>0.000000</td>\n",
       "      <td>0.000000</td>\n",
       "      <td>17.000000</td>\n",
       "      <td>0.000000</td>\n",
       "      <td>0.000000</td>\n",
       "      <td>0.000000</td>\n",
       "      <td>0.000000</td>\n",
       "      <td>0.000000</td>\n",
       "    </tr>\n",
       "    <tr>\n",
       "      <th>50%</th>\n",
       "      <td>59.500000</td>\n",
       "      <td>4.000000</td>\n",
       "      <td>0.000000</td>\n",
       "      <td>58.000000</td>\n",
       "      <td>0.000000</td>\n",
       "      <td>0.000000</td>\n",
       "      <td>0.000000</td>\n",
       "      <td>0.000000</td>\n",
       "      <td>0.000000</td>\n",
       "    </tr>\n",
       "    <tr>\n",
       "      <th>75%</th>\n",
       "      <td>219.000000</td>\n",
       "      <td>23.000000</td>\n",
       "      <td>4.000000</td>\n",
       "      <td>184.750000</td>\n",
       "      <td>3.000000</td>\n",
       "      <td>0.000000</td>\n",
       "      <td>0.000000</td>\n",
       "      <td>0.000000</td>\n",
       "      <td>0.000000</td>\n",
       "    </tr>\n",
       "    <tr>\n",
       "      <th>max</th>\n",
       "      <td>4710.000000</td>\n",
       "      <td>20990.000000</td>\n",
       "      <td>3424.000000</td>\n",
       "      <td>4710.000000</td>\n",
       "      <td>657.000000</td>\n",
       "      <td>278.000000</td>\n",
       "      <td>157.000000</td>\n",
       "      <td>51.000000</td>\n",
       "      <td>31.000000</td>\n",
       "    </tr>\n",
       "  </tbody>\n",
       "</table>\n",
       "</div>"
      ],
      "text/plain": [
       "       num_reactions  num_comments   num_shares    num_likes    num_loves  \\\n",
       "count    7050.000000   7050.000000  7050.000000  7050.000000  7050.000000   \n",
       "mean      230.117163    224.356028    40.022553   215.043121    12.728652   \n",
       "std       462.625309    889.636820   131.599965   449.472357    39.972930   \n",
       "min         0.000000      0.000000     0.000000     0.000000     0.000000   \n",
       "25%        17.000000      0.000000     0.000000    17.000000     0.000000   \n",
       "50%        59.500000      4.000000     0.000000    58.000000     0.000000   \n",
       "75%       219.000000     23.000000     4.000000   184.750000     3.000000   \n",
       "max      4710.000000  20990.000000  3424.000000  4710.000000   657.000000   \n",
       "\n",
       "          num_wows    num_hahas     num_sads   num_angrys  \n",
       "count  7050.000000  7050.000000  7050.000000  7050.000000  \n",
       "mean      1.289362     0.696454     0.243688     0.113191  \n",
       "std       8.719650     3.957183     1.597156     0.726812  \n",
       "min       0.000000     0.000000     0.000000     0.000000  \n",
       "25%       0.000000     0.000000     0.000000     0.000000  \n",
       "50%       0.000000     0.000000     0.000000     0.000000  \n",
       "75%       0.000000     0.000000     0.000000     0.000000  \n",
       "max     278.000000   157.000000    51.000000    31.000000  "
      ]
     },
     "execution_count": 45,
     "metadata": {},
     "output_type": "execute_result"
    }
   ],
   "source": [
    "#describe dataset\n",
    "df_facebook.describe()"
   ]
  },
  {
   "cell_type": "code",
   "execution_count": 46,
   "id": "1e1508bd",
   "metadata": {},
   "outputs": [
    {
     "name": "stdout",
     "output_type": "stream",
     "text": [
      "<class 'pandas.core.frame.DataFrame'>\n",
      "RangeIndex: 7050 entries, 0 to 7049\n",
      "Data columns (total 10 columns):\n",
      " #   Column         Non-Null Count  Dtype \n",
      "---  ------         --------------  ----- \n",
      " 0   status_type    7050 non-null   object\n",
      " 1   num_reactions  7050 non-null   int64 \n",
      " 2   num_comments   7050 non-null   int64 \n",
      " 3   num_shares     7050 non-null   int64 \n",
      " 4   num_likes      7050 non-null   int64 \n",
      " 5   num_loves      7050 non-null   int64 \n",
      " 6   num_wows       7050 non-null   int64 \n",
      " 7   num_hahas      7050 non-null   int64 \n",
      " 8   num_sads       7050 non-null   int64 \n",
      " 9   num_angrys     7050 non-null   int64 \n",
      "dtypes: int64(9), object(1)\n",
      "memory usage: 550.9+ KB\n"
     ]
    }
   ],
   "source": [
    "#check info of dataset\n",
    "df_facebook.info()"
   ]
  },
  {
   "cell_type": "code",
   "execution_count": 47,
   "id": "5e13a6c4",
   "metadata": {},
   "outputs": [
    {
     "data": {
      "image/png": "[encoded data removed]",
      "text/plain": [
       "<Figure size 576x432 with 2 Axes>"
      ]
     },
     "metadata": {
      "needs_background": "light"
     },
     "output_type": "display_data"
    }
   ],
   "source": [
    "#visualize correlation matrix of each variables using pearson correlation\n",
    "plt.figure(figsize = (8,6))\n",
    "sns.heatmap(df_facebook.corr(), linewidths = 0.9, annot = True, cmap = 'YlGnBu')\n",
    "plt.title('Pearson Correlation', fontsize = 15, pad = 12, fontweight = 'bold')\n",
    "plt.show()"
   ]
  },
  {
   "cell_type": "code",
   "execution_count": 48,
   "id": "ad5b8309",
   "metadata": {},
   "outputs": [
    {
     "data": {
      "image/png": "[encoded data removed]",
      "text/plain": [
       "<Figure size 432x288 with 1 Axes>"
      ]
     },
     "metadata": {
      "needs_background": "light"
     },
     "output_type": "display_data"
    },
    {
     "name": "stdout",
     "output_type": "stream",
     "text": [
      "Maximum Number of Likes :  4710\n",
      "Median Number of Likes :  58.0\n",
      "Minimum Number of Likes :  0\n",
      "\n",
      "\n",
      "Maximum Number of Reactions :  4710\n",
      "Median Number of Reactions :  59.5\n",
      "Minimum Number of Reactions :  0\n"
     ]
    }
   ],
   "source": [
    "#check outlier\n",
    "df_facebook.boxplot(column = ['num_likes', 'num_reactions'])\n",
    "plt.title('Number of Likes Vs Number of Reactions', fontsize = 15, pad = 12, fontweight = 'bold')\n",
    "plt.show()\n",
    "\n",
    "print('Maximum Number of Likes : ', df_facebook['num_likes'].max())\n",
    "print('Median Number of Likes : ', df_facebook['num_likes'].median())\n",
    "print('Minimum Number of Likes : ', df_facebook['num_likes'].min())\n",
    "print('\\n')\n",
    "print('Maximum Number of Reactions : ', df_facebook['num_reactions'].max())\n",
    "print('Median Number of Reactions : ', df_facebook['num_reactions'].median())\n",
    "print('Minimum Number of Reactions : ', df_facebook['num_reactions'].min())"
   ]
  },
  {
   "cell_type": "code",
   "execution_count": 49,
   "id": "d92e161e",
   "metadata": {},
   "outputs": [
    {
     "data": {
      "text/plain": [
       "array(['video', 'photo', 'link', 'status'], dtype=object)"
      ]
     },
     "execution_count": 49,
     "metadata": {},
     "output_type": "execute_result"
    }
   ],
   "source": [
    "#check unique of status type column\n",
    "df_facebook['status_type'].unique()"
   ]
  },
  {
   "cell_type": "code",
   "execution_count": 50,
   "id": "d8f4d556",
   "metadata": {},
   "outputs": [
    {
     "data": {
      "text/plain": [
       "photo     4288\n",
       "video     2334\n",
       "status     365\n",
       "link        63\n",
       "Name: status_type, dtype: int64"
      ]
     },
     "execution_count": 50,
     "metadata": {},
     "output_type": "execute_result"
    }
   ],
   "source": [
    "#check number of status type column\n",
    "df_facebook['status_type'].value_counts()"
   ]
  },
  {
   "cell_type": "code",
   "execution_count": 51,
   "id": "1f74341d",
   "metadata": {},
   "outputs": [
    {
     "data": {
      "image/png": "[encoded data removed]",
      "text/plain": [
       "<Figure size 432x288 with 1 Axes>"
      ]
     },
     "metadata": {},
     "output_type": "display_data"
    }
   ],
   "source": [
    "#visualize number of status type\n",
    "status = [np.count_nonzero(df_facebook['status_type'] == 'photo'),\n",
    "         np.count_nonzero(df_facebook['status_type'] == 'video'),\n",
    "         np.count_nonzero(df_facebook['status_type'] == 'status'),\n",
    "         np.count_nonzero(df_facebook['status_type'] == 'link')]\n",
    "activities = ['Photo', 'Video', 'Status', 'Link']\n",
    "plt.pie(status, labels = activities, autopct = '%.1f%%')\n",
    "plt.title('Number of Status Type', fontsize = 15, pad = 12, fontweight = 'bold')\n",
    "plt.show()"
   ]
  },
  {
   "cell_type": "code",
   "execution_count": 52,
   "id": "8f33c442",
   "metadata": {},
   "outputs": [
    {
     "data": {
      "text/html": [
       "<div>\n",
       "<style scoped>\n",
       "    .dataframe tbody tr th:only-of-type {\n",
       "        vertical-align: middle;\n",
       "    }\n",
       "\n",
       "    .dataframe tbody tr th {\n",
       "        vertical-align: top;\n",
       "    }\n",
       "\n",
       "    .dataframe thead th {\n",
       "        text-align: right;\n",
       "    }\n",
       "</style>\n",
       "<table border=\"1\" class=\"dataframe\">\n",
       "  <thead>\n",
       "    <tr style=\"text-align: right;\">\n",
       "      <th></th>\n",
       "      <th>num_likes</th>\n",
       "    </tr>\n",
       "    <tr>\n",
       "      <th>status_type</th>\n",
       "      <th></th>\n",
       "    </tr>\n",
       "  </thead>\n",
       "  <tbody>\n",
       "    <tr>\n",
       "      <th>photo</th>\n",
       "      <td>766602</td>\n",
       "    </tr>\n",
       "    <tr>\n",
       "      <th>video</th>\n",
       "      <td>567198</td>\n",
       "    </tr>\n",
       "    <tr>\n",
       "      <th>status</th>\n",
       "      <td>158968</td>\n",
       "    </tr>\n",
       "    <tr>\n",
       "      <th>link</th>\n",
       "      <td>23286</td>\n",
       "    </tr>\n",
       "  </tbody>\n",
       "</table>\n",
       "</div>"
      ],
      "text/plain": [
       "             num_likes\n",
       "status_type           \n",
       "photo           766602\n",
       "video           567198\n",
       "status          158968\n",
       "link             23286"
      ]
     },
     "execution_count": 52,
     "metadata": {},
     "output_type": "execute_result"
    }
   ],
   "source": [
    "#analyze total likes based on status type\n",
    "pd.pivot_table(df_facebook, index = 'status_type', values = 'num_likes',\n",
    "              aggfunc = {'num_likes' : np.sum}).sort_values('num_likes', ascending = False)"
   ]
  },
  {
   "cell_type": "code",
   "execution_count": 53,
   "id": "ae9dc2bb",
   "metadata": {},
   "outputs": [
    {
     "data": {
      "image/png": "[encoded data removed]",
      "text/plain": [
       "<Figure size 432x288 with 1 Axes>"
      ]
     },
     "metadata": {
      "needs_background": "light"
     },
     "output_type": "display_data"
    }
   ],
   "source": [
    "#visualize total likes based on status type\n",
    "chart = df_facebook.groupby('status_type')['num_likes'].sum().sort_values(ascending = False).plot(kind = 'bar', \n",
    "                                                                                                  color = 'orangered')\n",
    "chart.set_xticklabels(chart.get_xticklabels(), rotation = 0)\n",
    "plt.title('Total Likes based on Status Type', fontsize = 15, pad = 12, fontweight = 'bold')\n",
    "plt.xlabel('Status Type', fontsize = 12)\n",
    "plt.ylabel('Total Likes', fontsize = 12)\n",
    "plt.show()"
   ]
  },
  {
   "cell_type": "code",
   "execution_count": 54,
   "id": "359da840",
   "metadata": {},
   "outputs": [
    {
     "data": {
      "text/html": [
       "<div>\n",
       "<style scoped>\n",
       "    .dataframe tbody tr th:only-of-type {\n",
       "        vertical-align: middle;\n",
       "    }\n",
       "\n",
       "    .dataframe tbody tr th {\n",
       "        vertical-align: top;\n",
       "    }\n",
       "\n",
       "    .dataframe thead th {\n",
       "        text-align: right;\n",
       "    }\n",
       "</style>\n",
       "<table border=\"1\" class=\"dataframe\">\n",
       "  <thead>\n",
       "    <tr style=\"text-align: right;\">\n",
       "      <th></th>\n",
       "      <th>num_reactions</th>\n",
       "    </tr>\n",
       "    <tr>\n",
       "      <th>status_type</th>\n",
       "      <th></th>\n",
       "    </tr>\n",
       "  </thead>\n",
       "  <tbody>\n",
       "    <tr>\n",
       "      <th>photo</th>\n",
       "      <td>777373</td>\n",
       "    </tr>\n",
       "    <tr>\n",
       "      <th>video</th>\n",
       "      <td>661478</td>\n",
       "    </tr>\n",
       "    <tr>\n",
       "      <th>status</th>\n",
       "      <td>160156</td>\n",
       "    </tr>\n",
       "    <tr>\n",
       "      <th>link</th>\n",
       "      <td>23319</td>\n",
       "    </tr>\n",
       "  </tbody>\n",
       "</table>\n",
       "</div>"
      ],
      "text/plain": [
       "             num_reactions\n",
       "status_type               \n",
       "photo               777373\n",
       "video               661478\n",
       "status              160156\n",
       "link                 23319"
      ]
     },
     "execution_count": 54,
     "metadata": {},
     "output_type": "execute_result"
    }
   ],
   "source": [
    "#analyze total reactions based on status type\n",
    "pd.pivot_table(df_facebook, index = 'status_type', values = 'num_reactions',\n",
    "              aggfunc = {'num_reactions' : np.sum}).sort_values('num_reactions', ascending = False)"
   ]
  },
  {
   "cell_type": "code",
   "execution_count": 55,
   "id": "46e1195a",
   "metadata": {},
   "outputs": [
    {
     "data": {
      "image/png": "[encoded data removed]",
      "text/plain": [
       "<Figure size 432x288 with 1 Axes>"
      ]
     },
     "metadata": {
      "needs_background": "light"
     },
     "output_type": "display_data"
    }
   ],
   "source": [
    "#visualize total reactions based on status type\n",
    "chart = df_facebook.groupby('status_type')['num_reactions'].sum().sort_values(ascending = False).plot(kind = 'bar',\n",
    "                                                                                                     color = 'royalblue')\n",
    "chart.set_xticklabels(chart.get_xticklabels(), rotation = 0)\n",
    "plt.title('Total Reactions based on Status Type', fontsize = 15, pad = 12, fontweight = 'bold')\n",
    "plt.xlabel('Status Type', fontsize = 12)\n",
    "plt.ylabel('Total Reactions', fontsize = 12)\n",
    "plt.show()"
   ]
  },
  {
   "cell_type": "code",
   "execution_count": 56,
   "id": "19da31ad",
   "metadata": {},
   "outputs": [
    {
     "data": {
      "image/png": "[encoded data removed]",
      "text/plain": [
       "<Figure size 576x216 with 2 Axes>"
      ]
     },
     "metadata": {
      "needs_background": "light"
     },
     "output_type": "display_data"
    }
   ],
   "source": [
    "#visualize distribution of number of likes and number of reactions\n",
    "df_facebook.hist(column = ['num_likes', 'num_reactions'], figsize = (8,3), color = 'maroon')\n",
    "plt.show()"
   ]
  },
  {
   "cell_type": "code",
   "execution_count": 57,
   "id": "ce51a7a5",
   "metadata": {},
   "outputs": [
    {
     "data": {
      "text/html": [
       "<div>\n",
       "<style scoped>\n",
       "    .dataframe tbody tr th:only-of-type {\n",
       "        vertical-align: middle;\n",
       "    }\n",
       "\n",
       "    .dataframe tbody tr th {\n",
       "        vertical-align: top;\n",
       "    }\n",
       "\n",
       "    .dataframe thead th {\n",
       "        text-align: right;\n",
       "    }\n",
       "</style>\n",
       "<table border=\"1\" class=\"dataframe\">\n",
       "  <thead>\n",
       "    <tr style=\"text-align: right;\">\n",
       "      <th></th>\n",
       "      <th>status_type</th>\n",
       "      <th>num_reactions</th>\n",
       "      <th>num_comments</th>\n",
       "      <th>num_shares</th>\n",
       "      <th>num_likes</th>\n",
       "      <th>num_loves</th>\n",
       "      <th>num_wows</th>\n",
       "      <th>num_hahas</th>\n",
       "      <th>num_sads</th>\n",
       "      <th>num_angrys</th>\n",
       "    </tr>\n",
       "  </thead>\n",
       "  <tbody>\n",
       "    <tr>\n",
       "      <th>0</th>\n",
       "      <td>3</td>\n",
       "      <td>529</td>\n",
       "      <td>512</td>\n",
       "      <td>262</td>\n",
       "      <td>432</td>\n",
       "      <td>92</td>\n",
       "      <td>3</td>\n",
       "      <td>1</td>\n",
       "      <td>1</td>\n",
       "      <td>0</td>\n",
       "    </tr>\n",
       "    <tr>\n",
       "      <th>1</th>\n",
       "      <td>1</td>\n",
       "      <td>150</td>\n",
       "      <td>0</td>\n",
       "      <td>0</td>\n",
       "      <td>150</td>\n",
       "      <td>0</td>\n",
       "      <td>0</td>\n",
       "      <td>0</td>\n",
       "      <td>0</td>\n",
       "      <td>0</td>\n",
       "    </tr>\n",
       "    <tr>\n",
       "      <th>2</th>\n",
       "      <td>3</td>\n",
       "      <td>227</td>\n",
       "      <td>236</td>\n",
       "      <td>57</td>\n",
       "      <td>204</td>\n",
       "      <td>21</td>\n",
       "      <td>1</td>\n",
       "      <td>1</td>\n",
       "      <td>0</td>\n",
       "      <td>0</td>\n",
       "    </tr>\n",
       "    <tr>\n",
       "      <th>3</th>\n",
       "      <td>1</td>\n",
       "      <td>111</td>\n",
       "      <td>0</td>\n",
       "      <td>0</td>\n",
       "      <td>111</td>\n",
       "      <td>0</td>\n",
       "      <td>0</td>\n",
       "      <td>0</td>\n",
       "      <td>0</td>\n",
       "      <td>0</td>\n",
       "    </tr>\n",
       "    <tr>\n",
       "      <th>4</th>\n",
       "      <td>1</td>\n",
       "      <td>213</td>\n",
       "      <td>0</td>\n",
       "      <td>0</td>\n",
       "      <td>204</td>\n",
       "      <td>9</td>\n",
       "      <td>0</td>\n",
       "      <td>0</td>\n",
       "      <td>0</td>\n",
       "      <td>0</td>\n",
       "    </tr>\n",
       "  </tbody>\n",
       "</table>\n",
       "</div>"
      ],
      "text/plain": [
       "   status_type  num_reactions  num_comments  num_shares  num_likes  num_loves  \\\n",
       "0            3            529           512         262        432         92   \n",
       "1            1            150             0           0        150          0   \n",
       "2            3            227           236          57        204         21   \n",
       "3            1            111             0           0        111          0   \n",
       "4            1            213             0           0        204          9   \n",
       "\n",
       "   num_wows  num_hahas  num_sads  num_angrys  \n",
       "0         3          1         1           0  \n",
       "1         0          0         0           0  \n",
       "2         1          1         0           0  \n",
       "3         0          0         0           0  \n",
       "4         0          0         0           0  "
      ]
     },
     "execution_count": 57,
     "metadata": {},
     "output_type": "execute_result"
    }
   ],
   "source": [
    "#feature scaling for transform label\n",
    "le = LabelEncoder()\n",
    "df_facebook['status_type'] = le.fit_transform(df_facebook['status_type'])\n",
    "df_facebook.head()"
   ]
  },
  {
   "cell_type": "code",
   "execution_count": 58,
   "id": "a06459b6",
   "metadata": {},
   "outputs": [
    {
     "data": {
      "text/html": [
       "<div>\n",
       "<style scoped>\n",
       "    .dataframe tbody tr th:only-of-type {\n",
       "        vertical-align: middle;\n",
       "    }\n",
       "\n",
       "    .dataframe tbody tr th {\n",
       "        vertical-align: top;\n",
       "    }\n",
       "\n",
       "    .dataframe thead th {\n",
       "        text-align: right;\n",
       "    }\n",
       "</style>\n",
       "<table border=\"1\" class=\"dataframe\">\n",
       "  <thead>\n",
       "    <tr style=\"text-align: right;\">\n",
       "      <th></th>\n",
       "      <th>status_type</th>\n",
       "      <th>num_reactions</th>\n",
       "      <th>num_comments</th>\n",
       "      <th>num_shares</th>\n",
       "      <th>num_likes</th>\n",
       "      <th>num_loves</th>\n",
       "      <th>num_wows</th>\n",
       "      <th>num_hahas</th>\n",
       "      <th>num_sads</th>\n",
       "      <th>num_angrys</th>\n",
       "    </tr>\n",
       "  </thead>\n",
       "  <tbody>\n",
       "    <tr>\n",
       "      <th>0</th>\n",
       "      <td>1.000000</td>\n",
       "      <td>0.112314</td>\n",
       "      <td>0.024393</td>\n",
       "      <td>0.076519</td>\n",
       "      <td>0.091720</td>\n",
       "      <td>0.140030</td>\n",
       "      <td>0.010791</td>\n",
       "      <td>0.006369</td>\n",
       "      <td>0.019608</td>\n",
       "      <td>0.0</td>\n",
       "    </tr>\n",
       "    <tr>\n",
       "      <th>1</th>\n",
       "      <td>0.333333</td>\n",
       "      <td>0.031847</td>\n",
       "      <td>0.000000</td>\n",
       "      <td>0.000000</td>\n",
       "      <td>0.031847</td>\n",
       "      <td>0.000000</td>\n",
       "      <td>0.000000</td>\n",
       "      <td>0.000000</td>\n",
       "      <td>0.000000</td>\n",
       "      <td>0.0</td>\n",
       "    </tr>\n",
       "    <tr>\n",
       "      <th>2</th>\n",
       "      <td>1.000000</td>\n",
       "      <td>0.048195</td>\n",
       "      <td>0.011243</td>\n",
       "      <td>0.016647</td>\n",
       "      <td>0.043312</td>\n",
       "      <td>0.031963</td>\n",
       "      <td>0.003597</td>\n",
       "      <td>0.006369</td>\n",
       "      <td>0.000000</td>\n",
       "      <td>0.0</td>\n",
       "    </tr>\n",
       "    <tr>\n",
       "      <th>3</th>\n",
       "      <td>0.333333</td>\n",
       "      <td>0.023567</td>\n",
       "      <td>0.000000</td>\n",
       "      <td>0.000000</td>\n",
       "      <td>0.023567</td>\n",
       "      <td>0.000000</td>\n",
       "      <td>0.000000</td>\n",
       "      <td>0.000000</td>\n",
       "      <td>0.000000</td>\n",
       "      <td>0.0</td>\n",
       "    </tr>\n",
       "    <tr>\n",
       "      <th>4</th>\n",
       "      <td>0.333333</td>\n",
       "      <td>0.045223</td>\n",
       "      <td>0.000000</td>\n",
       "      <td>0.000000</td>\n",
       "      <td>0.043312</td>\n",
       "      <td>0.013699</td>\n",
       "      <td>0.000000</td>\n",
       "      <td>0.000000</td>\n",
       "      <td>0.000000</td>\n",
       "      <td>0.0</td>\n",
       "    </tr>\n",
       "  </tbody>\n",
       "</table>\n",
       "</div>"
      ],
      "text/plain": [
       "   status_type  num_reactions  num_comments  num_shares  num_likes  num_loves  \\\n",
       "0     1.000000       0.112314      0.024393    0.076519   0.091720   0.140030   \n",
       "1     0.333333       0.031847      0.000000    0.000000   0.031847   0.000000   \n",
       "2     1.000000       0.048195      0.011243    0.016647   0.043312   0.031963   \n",
       "3     0.333333       0.023567      0.000000    0.000000   0.023567   0.000000   \n",
       "4     0.333333       0.045223      0.000000    0.000000   0.043312   0.013699   \n",
       "\n",
       "   num_wows  num_hahas  num_sads  num_angrys  \n",
       "0  0.010791   0.006369  0.019608         0.0  \n",
       "1  0.000000   0.000000  0.000000         0.0  \n",
       "2  0.003597   0.006369  0.000000         0.0  \n",
       "3  0.000000   0.000000  0.000000         0.0  \n",
       "4  0.000000   0.000000  0.000000         0.0  "
      ]
     },
     "execution_count": 58,
     "metadata": {},
     "output_type": "execute_result"
    }
   ],
   "source": [
    "#feature scaling for normalization\n",
    "scaler = MinMaxScaler()\n",
    "data_scaled = scaler.fit_transform(df_facebook)\n",
    "df_norm = pd.DataFrame(data_scaled, columns = df_facebook.columns)\n",
    "df_norm.head()"
   ]
  },
  {
   "cell_type": "markdown",
   "id": "0e5356fa",
   "metadata": {},
   "source": [
    "## K-Means Clustering"
   ]
  },
  {
   "cell_type": "code",
   "execution_count": 59,
   "id": "bf5e3ed9",
   "metadata": {},
   "outputs": [
    {
     "data": {
      "image/png": "[encoded data removed]",
      "text/plain": [
       "<Figure size 432x288 with 1 Axes>"
      ]
     },
     "metadata": {
      "needs_background": "light"
     },
     "output_type": "display_data"
    }
   ],
   "source": [
    "#using only number of likes and number of reactions for easy visualisation\n",
    "X = df_facebook.iloc[:, [5, 2]].values\n",
    "\n",
    "#using the elbow method to find the optimal number of clusters\n",
    "wcss = []\n",
    "for i in range(1, 11):\n",
    "    kmeans = KMeans(n_clusters = i, init = 'k-means++', random_state = 42)\n",
    "    kmeans.fit(X)\n",
    "    wcss.append(kmeans.inertia_)\n",
    "\n",
    "#visualize the elbow method \n",
    "sns.lineplot(range(1, 11), wcss, marker = 'o', color = 'green')\n",
    "plt.grid(color = 'darkgray', linestyle = ':', linewidth = 1)\n",
    "plt.title('The Elbow Method', fontsize = 15, pad = 12, fontweight = 'bold')\n",
    "plt.xlabel('Number of clusters', fontsize = 12)\n",
    "plt.ylabel('WCSS', fontsize = 12)\n",
    "plt.show()"
   ]
  },
  {
   "cell_type": "code",
   "execution_count": 60,
   "id": "be44b4d5",
   "metadata": {},
   "outputs": [
    {
     "name": "stdout",
     "output_type": "stream",
     "text": [
      "[0 0 0 0 0 0 0 0 0 0 0 0 0 0 0 0 0 0 0 0 0 0 0 0 0 0 0 0 0 0 0 0 0 0 0 0 0\n",
      " 0 0 0 0 0 0 0 0 0 0 0 0 0 0 0 0 0 0 0 0 0 0 0 0 0 0 0 0 0 0 0 0 0 0 0 0 0\n",
      " 0 0 0 0 0 0 0 0 0 0 0 0 0 0 0 0 0 0 0 0 0 0 0 0 2 2 0 0 0 0 0 0 0 0 0 0 0\n",
      " 0 0 0 0 0 0 0 0 0 0 0 0 0 0 0 0 2 0 2 0 0 0 0 0 0 0 0 0 0 0 0 0 0 0 0 0 0\n",
      " 0 0 0 0 0 0 0 0 0 0 0 0 0 0 0 0 0 0 0 0 0 0 0 0 0 0 0 0 0 0 0 0 0 0 0 0 0\n",
      " 0 0 0 0 0 0 0 0 0 0 0 0 0 2 0 0 0 0 2 0 0 0 0 2 0 0 0 0 0 0 0 0 0 0 0 0 0\n",
      " 0 0 0 2 0 0 0 0 0 0 0 0 0 0 0 0 0 0 0 0 0 0 0 0 0 0 0 0 0 0 0 0 0 0 0 0 0\n",
      " 0 0 0 0 0 0 0 0 0 0 0 0 0 0 0 0 0 0 0 0 0 0 0 0 0 0 0 0 0 0 0 0 0 0 0 0 0\n",
      " 0 0 0 0 0 0 0 0 0 0 0 0 0 0 0 0 0 0 0 0 0 0 0 0 0 0 0 0 0 0 0 0 0 0 0 0 0\n",
      " 0 0 0 0 0 0 0 0 0 0 2 0 0 0 0 0 0 0 0 0 0 0 0 0 0 0 0 0 0 0 0 0 0 0 0 0 0\n",
      " 0 0 0 0 0 0 0 0 0 0 0 0 0 0 0 0 0 0 0 0 0 0 0 0 0 0 0 0 0 0 0 0 0 0 0 0 0\n",
      " 0 0 0 0 0 0 3 0 0 0 0 0 0 0 0 0 0 0 0 0 0 0 0 0 0 0 0 0 0 0 0 0 0 0 0 0 0\n",
      " 0 2 0 0 0 0 0 0 0 0 0 0 0 0 0 0 0 0 0 0 0 0 0 0 0 0 0 0 0 0 0 4 0 0 0 0 1\n",
      " 0 4 0 0 0 0 0 0 0 0 0 0 0 0 0 0 0 1 0 0 0 0 0 0 0 0 0 0 0 0 0 0 0 0 0 0 0\n",
      " 0 0 0 0 0 0 0 0 0 0 0 0 0 0 0 0 0 0 0 0 0 0 0 0 0 0 0 0 0 0 0 0 0 0 0 0 0\n",
      " 0 0 0 0 0 0 0 0 0 0 0 0 0 0 0 0 0 0 0 0 0 0 0 0 0 0 0 0 0 0 0 0 0 0 0 0 0\n",
      " 0 0 0 0 0 0 0 0 0 0 0 0 0 0 0 0 0 0 0 0 0 0 0 0 0 0 0 0 0 0 0 0 0 0 0 0 0\n",
      " 0 0 0 0 0 0 0 0 0 0 0 0 0 0 0 0 0 0 0 0 0 0 0 0 0 0 0 0 0 0 0 0 0 0 0 0 0\n",
      " 0 0 0 0 0 0 0 0 0 0 0 0 0 0 0 0 0 0 0 0 0 0 0 0 0 0 0 0 0 0 0 0 0 0 0 0 0\n",
      " 0 0 0 0 0 0 0 0 0 0 0 0 0 0 0 0 0 0 0 0 0 0 0 0 0 0 0 0 0 0 0 0 0 0 0 0 0\n",
      " 0 0 0 0 0 0 0 0 0 0 0 0 0 0 0 0 0 0 0 0 0 0 0 0 0 0 0 0 0 0 0 0 0 0 0 0 0\n",
      " 0 0 0 0 0 0 0 0 0 0 0 0 0 0 0 0 0 0 0 0 0 0 0 0 0 0 0 0 0 0 0 0 0 0 0 0 0\n",
      " 0 0 0 0 0 0 0 0 0 0 0 0 0 0 0 0 0 0 0 0 0 0 0 0 0 0 0 0 0 0 0 0 0 0 0 0 0\n",
      " 0 0 0 0 0 0 0 0 0 0 0 0 0 0 0 0 0 0 0 0 0 0 0 0 0 0 0 0 0 0 0 0 0 0 0 0 0\n",
      " 0 0 0 0 0 0 0 0 0 0 0 0 0 0 0 0 0 0 0 0 0 0 0 0 0 0 0 0 0 0 0 0 0 0 0 0 0\n",
      " 0 0 0 0 0 0 0 0 0 0 0 0 0 0 0 0 0 0 0 0 0 0 0 0 0 0 0 0 0 0 0 0 0 0 0 0 0\n",
      " 0 0 0 0 0 0 0 0 0 0 0 0 0 0 0 0 0 0 0 0 0 0 0 0 0 0 0 0 0 0 0 0 0 0 0 0 0\n",
      " 0 0 0 0 0 0 0 0 0 0 0 0 0 0 0 0 0 0 0 0 0 0 0 0 0 0 0 0 0 0 0 0 0 0 0 0 0\n",
      " 0 0 0 0 0 0 0 0 0 0 0 0 0 0 0 0 0 0 0 0 0 0 0 0 0 0 0 0 0 0 0 0 0 0 0 0 0\n",
      " 0 0 0 0 0 0 0 0 0 0 0 0 0 0 0 0 0 0 0 0 0 0 0 0 0 0 0 0 0 0 0 0 0 0 0 0 0\n",
      " 0 0 0 0 0 0 0 0 0 0 0 0 0 0 0 0 0 0 0 0 0 0 0 0 0 0 0 0 0 0 0 0 0 0 0 0 0\n",
      " 0 0 0 0 0 0 0 0 0 0 0 0 0 0 0 0 0 0 0 0 0 0 0 0 0 0 0 0 0 0 0 0 0 0 0 0 0\n",
      " 0 0 0 0 0 0 0 0 0 0 0 0 0 0 0 0 0 0 0 0 0 0 0 0 0 0 0 0 0 0 0 0 0 0 0 0 0\n",
      " 0 0 0 0 0 0 0 0 0 0 0 0 0 0 0 0 0 0 0 0 0 0 0 0 0 0 0 0 0 0 0 0 0 0 0 0 0\n",
      " 0 0 0 0 0 0 0 0 0 0 0 0 0 0 0 0 0 0 0 0 0 0 0 0 0 0 0 0 0 0 0 0 0 0 0 0 0\n",
      " 0 0 0 0 0 0 0 0 0 0 0 0 0 0 0 0 0 0 0 0 0 0 0 0 0 0 0 0 0 0 0 0 0 0 0 0 0\n",
      " 0 0 0 0 0 0 0 0 0 0 0 0 0 0 0 0 0 0 0 0 0 0 0 0 0 0 0 0 0 0 0 0 0 0 0 0 0\n",
      " 0 0 0 0 0 0 0 0 0 0 0 0 0 0 0 0 0 0 0 0 0 0 0 0 0 0 0 0 0 0 0 0 0 0 0 0 0\n",
      " 0 0 0 0 0 0 0 0 0 0 0 0 0 0 0 0 0 0 0 0 0 0 0 0 0 0 0 0 0 0 0 0 0 0 0 0 0\n",
      " 0 0 0 0 0 0 0 0 0 0 0 0 0 0 0 0 0 0 0 0 0 0 0 0 0 0 0 0 0 0 0 0 0 0 0 0 0\n",
      " 0 0 0 0 0 0 0 0 0 0 0 0 0 0 0 0 0 0 0 0 0 0 0 0 0 0 0 0 0 0 0 0 0 0 0 0 0\n",
      " 0 0 0 0 0 0 0 0 0 0 0 0 0 0 0 0 0 0 0 0 0 0 0 0 0 0 0 0 0 0 0 0 0 0 0 0 0\n",
      " 0 0 0 0 0 0 0 0 0 0 0 0 0 0 0 0 0 0 0 0 0 0 0 0 0 0 0 0 0 0 0 0 0 0 0 0 0\n",
      " 0 0 0 0 0 0 0 0 0 0 0 0 0 0 0 0 0 0 0 0 0 0 0 0 0 0 0 0 0 0 0 0 0 0 0 0 0\n",
      " 0 0 0 0 0 0 0 0 0 0 0 0 0 0 0 0 0 0 0 0 0 0 0 0 0 0 0 0 0 0 0 0 0 0 0 0 0\n",
      " 0 0 0 0 0 0 0 0 0 0 0 0 0 0 0 0 0 0 0 0 0 0 0 0 0 0 0 0 0 0 0 0 0 0 0 0 0\n",
      " 0 0 0 0 0 0 0 0 0 0 0 0 0 0 0 0 0 0 0 0 0 0 0 0 0 0 0 0 0 0 0 0 0 0 0 0 0\n",
      " 0 0 0 0 0 0 0 0 0 0 0 0 0 0 0 0 0 0 0 0 0 0 0 0 0 0 0 0 0 0 0 0 0 0 0 0 0\n",
      " 0 0 0 0 0 0 0 0 0 0 0 0 0 0 0 0 0 0 0 0 0 0 0 0 0 0 0 0 0 0 0 0 0 0 0 0 0\n",
      " 0 0 0 0 0 0 0 0 0 0 0 0 0 0 0 0 0 0 0 0 0 0 0 0 0 0 0 0 0 0 0 0 0 0 0 0 0\n",
      " 0 0 0 0 0 0 0 0 0 0 0 0 0 0 0 0 0 0 0 0 0 0 0 0 0 0 0 0 0 0 0 0 0 0 0 0 0\n",
      " 0 0 0 0 0 0 0 0 0 0 0 0 0 0 0 0 0 0 0 0 0 0 0 0 0 0 0 0 0 0 0 0 0 0 0 0 0\n",
      " 0 0 0 0 0 0 0 0 0 0 0 0 0 0 0 0 0 0 0 0 0 0 0 0 0 0 0 0 0 0 0 0 0 0 0 0 0\n",
      " 0 0 0 0 0 0 0 0 0 0 0 0 0 0 0 0 0 0 0 0 0 0 0 0 0 0 0 0 0 0 0 0 0 0 0 0 0\n",
      " 0 0 0 0 0 0 0 0 0 0 0 0 0 0 0 0 0 0 0 0 0 0 0 0 0 0 0 0 0 0 0 0 0 0 0 0 0\n",
      " 0 0 0 0 0 0 0 0 0 0 0 0 0 0 0 0 0 0 0 0 0 0 0 0 0 0 0 0 0 0 0 0 0 0 0 0 0\n",
      " 0 0 0 0 0 0 0 0 0 0 0 0 0 0 0 0 0 0 0 0 0 0 0 0 0 0 0 0 0 0 0 0 0 0 0 0 0\n",
      " 0 0 0 0 0 0 0 0 0 0 0 0 0 0 0 0 0 0 0 0 0 0 0 0 0 0 0 0 0 0 0 0 0 0 0 0 0\n",
      " 0 0 0 0 0 0 0 0 0 0 0 0 0 0 0 0 0 0 0 0 0 0 0 0 0 0 0 0 0 0 0 0 0 0 0 0 0\n",
      " 0 0 0 0 0 0 0 0 0 0 0 0 0 0 0 0 0 0 0 0 0 0 0 0 0 0 0 0 0 0 0 0 0 0 0 0 0\n",
      " 0 0 0 0 0 0 0 0 0 0 0 0 0 0 0 0 0 0 0 0 0 0 0 0 0 0 0 0 0 0 0 0 0 0 0 0 0\n",
      " 0 0 0 0 0 0 0 0 0 0 0 0 0 0 0 0 0 0 0 0 0 0 0 0 0 0 0 0 0 0 0 0 0 0 0 0 0\n",
      " 0 0 0 0 0 0 0 0 0 0 0 0 0 0 0 0 0 0 0 0 0 0 0 0 0 0 0 0 0 0 0 0 0 0 0 0 0\n",
      " 0 0 0 0 0 0 0 0 0 0 0 0 0 0 0 0 0 0 0 0 0 0 0 0 0 0 0 0 0 0 0 0 0 0 0 0 0\n",
      " 0 0 0 0 0 0 0 0 0 0 0 0 0 0 0 0 0 0 0 0 0 0 0 0 0 0 0 0 0 0 0 0 0 0 0 0 0\n",
      " 0 0 0 0 0 0 0 0 0 0 0 0 0 0 0 0 0 0 0 0 0 0 0 0 0 0 0 0 0 0 0 0 0 0 0 0 0\n",
      " 0 0 0 0 0 0 0 0 0 0 0 0 0 0 0 0 0 0 0 0 0 0 0 0 0 0 0 0 0 0 0 0 0 0 0 0 0\n",
      " 0 0 0 0 0 0 0 0 0 0 0 0 0 0 0 0 0 0 0 0 0 0 0 0 0 0 0 0 0 0 0 0 0 0 0 0 0\n",
      " 0 0 0 0 0 0 0 0 0 0 0 0 0 0 0 0 0 0 0 0 0 0 0 0 0 0 0 0 0 0 0 0 0 0 0 0 0\n",
      " 0 0 0 0 0 0 0 0 0 0 0 0 0 0 0 0 0 0 0 0 0 0 0 0 0 0 0 0 0 0 0 0 0 0 0 0 0\n",
      " 0 0 0 0 0 0 0 0 0 0 0 0 0 0 0 0 0 0 0 0 0 0 0 0 0 0 0 0 0 0 0 0 0 0 0 0 0\n",
      " 0 0 0 0 0 0 0 0 0 0 2 0 0 0 0 0 0 0 0 0 0 0 0 0 0 0 2 0 0 0 0 0 0 0 0 0 0\n",
      " 0 0 0 0 0 0 0 0 0 0 0 0 2 0 0 0 0 0 0 0 0 0 0 0 0 0 0 0 0 0 0 0 0 0 0 0 0\n",
      " 0 0 0 0 0 0 0 0 0 0 0 0 0 0 0 2 4 0 0 0 0 0 2 0 0 0 0 0 0 2 0 0 0 0 0 0 0\n",
      " 0 0 0 0 0 0 2 0 2 0 0 0 0 0 0 0 0 0 0 0 0 0 0 2 0 0 0 0 0 0 0 0 0 0 0 0 0\n",
      " 0 0 0 0 0 0 0 2 0 0 0 0 0 0 0 0 0 0 0 0 0 2 0 0 0 2 0 0 0 0 0 0 0 0 0 0 0\n",
      " 0 0 0 0 0 0 0 0 0 0 0 0 0 2 0 2 0 0 0 0 0 0 0 0 0 0 0 0 0 0 0 0 2 0 0 0 0\n",
      " 0 0 0 0 0 0 0 0 0 0 2 0 0 2 0 0 0 0 0 0 0 0 0 0 0 0 0 0 0 0 0 0 0 0 0 0 0\n",
      " 0 0 0 0 0 0 0 0 0 0 0 0 0 0 0 2 0 0 0 0 0 0 0 0 0 0 2 0 0 0 0 0 0 4 0 0 0\n",
      " 2 0 0 0 0 0 0 0 0 2 0 0 0 0 0 0 0 0 0 0 0 0 0 0 0 0 0 0 0 0 0 0 0 0 0 0 0\n",
      " 2 0 0 0 0 0 2 0 0 0 0 0 0 0 0 4 0 0 0 0 0 0 2 0 0 0 0 2 0 0 0 0 0 2 0 0 0\n",
      " 0 0 0 2 0 0 0 0 0 0 0 0 0 0 0 0 0 0 0 2 0 0 0 0 0 0 0 0 0 0 0 0 0 0 0 0 0\n",
      " 2 0 0 0 0 0 0 0 0 0 2 0 0 0 0 0 0 0 0 0 0 0 0 0 0 0 0 0 0 0 0 0 0 0 0 0 0\n",
      " 0 0 0 0 0 0 0 0 0 0 0 0 0 2 0 0 0 0 0 0 0 0 2 0 0 0 0 0 0 0 0 0 0 0 0 0 0\n",
      " 0 0 2 0 0 0 0 0 2 0 2 0 0 0 0 0 0 0 0 0 0 0 0 0 0 0 0 0 0 0 0 0 0 0 0 0 0\n",
      " 0 0 0 0 0 0 0 2 0 4 0 0 0 0 0 0 0 0 0 0 0 0 0 0 0 0 0 0 0 0 2 0 0 0 2 0 0\n",
      " 0 0 0 0 0 0 2 0 0 0 0 0 0 2 0 0 2 0 0 0 0 0 0 0 2 0 0 0 2 0 0 0 0 0 0 0 0\n",
      " 0 2 0 0 0 0 0 2 0 2 0 0 0 0 0 0 0 0 0 0 0 0 0 0 0 2 0 3 0 0 0 3 0 0 0 0 0\n",
      " 2 0 0 0 2 0 0 0 2 0 0 0 0 0 0 0 0 0 0 0 0 0 0 0 0 0 0 0 0 0 0 0 0 0 0 0 0\n",
      " 0 0 2 0 4 0 0 0 0 0 0 4 0 0 0 0 0 0 0 0 0 0 0 0 0 0 0 0 0 0 2 0 0 4 0 0 0\n",
      " 0 4 0 0 3 0 0 0 4 0 0 0 0 0 0 0 0 0 4 0 4 4 0 0 0 3 0 0 2 0 0 0 0 0 0 0 0\n",
      " 0 0 0 0 0 0 0 0 0 0 0 0 0 0 0 0 0 0 2 0 0 0 2 0 0 0 0 0 0 0 0 0 2 0 0 0 0\n",
      " 0 0 0 2 0 2 0 0 0 0 0 0 0 0 0 0 0 0 0 0 0 0 0 0 2 0 0 0 0 2 0 0 0 2 0 0 0\n",
      " 0 0 0 0 2 0 0 0 0 0 0 2 0 0 0 0 0 0 0 0 0 0 0 0 0 0 0 0 0 2 0 0 0 0 0 0 0\n",
      " 0 0 0 0 0 0 0 2 0 0 2 0 0 0 0 0 0 0 0 0 2 0 0 2 0 2 0 0 0 0 0 0 0 0 0 2 0\n",
      " 0 0 0 2 0 2 0 0 0 2 0 0 0 0 2 4 0 2 0 0 2 0 0 0 2 0 0 0 2 0 0 0 0 0 0 0 0\n",
      " 0 0 0 0 0 0 2 0 0 0 0 0 0 0 2 2 2 0 0 0 0 0 0 0 0 0 2 0 0 0 0 0 0 0 0 0 0\n",
      " 2 0 0 0 0 0 0 0 0 0 0 0 0 2 0 0 0 2 0 2 0 0 0 0 2 0 2 0 0 0 0 0 0 0 0 0 0\n",
      " 0 0 0 0 0 0 0 0 0 2 0 0 0 0 0 0 0 0 0 0 0 0 0 0 0 0 0 0 0 0 0 0 0 0 0 0 0\n",
      " 0 0 0 0 0 0 0 0 0 0 0 0 0 0 0 0 0 0 0 0 0 0 0 0 0 0 0 0 0 0 0 0 0 0 0 0 0\n",
      " 0 0 0 0 0 0 0 0 0 0 0 0 0 0 0 0 0 0 0 0 0 0 0 0 0 0 0 0 0 0 0 0 0 0 0 0 0\n",
      " 0 0 0 0 0 0 0 0 0 0 0 0 0 0 0 0 0 0 0 0 0 0 0 0 0 0 0 0 0 0 0 0 0 0 0 0 0\n",
      " 0 0 0 0 0 0 0 0 0 0 0 0 0 0 0 0 0 0 0 0 0 0 0 0 0 0 0 0 0 0 0 0 0 0 0 0 0\n",
      " 0 0 0 0 0 0 0 0 0 0 0 0 0 0 0 0 0 0 0 0 0 0 0 0 0 0 0 0 0 0 0 0 0 0 0 0 0\n",
      " 4 0 0 3 0 2 3 0 0 0 3 0 0 0 4 2 3 0 0 4 0 0 3 4 4 2 3 0 4 0 0 0 2 4 3 0 3\n",
      " 4 0 4 0 0 2 3 3 0 2 2 0 3 4 0 0 0 0 0 0 0 0 0 0 0 0 0 0 0 0 0 0 0 0 0 0 0\n",
      " 0 0 0 0 0 0 0 0 0 0 0 0 0 0 0 0 0 0 0 0 0 0 0 0 0 0 0 0 0 0 0 0 0 0 0 0 0\n",
      " 0 0 0 0 0 0 0 0 0 0 0 0 0 2 2 0 0 0 0 0 0 0 2 0 0 2 2 0 2 0 0 2 0 0 0 2 0\n",
      " 0 0 2 0 0 2 0 0 2 0 0 0 0 0 2 0 0 0 0 2 0 0 0 0 2 0 0 0 0 0 0 0 0 0 0 0 0\n",
      " 0 0 0 0 0 0 0 0 0 0 0 0 0 0 0 0 0 0 0 0 0 0 0 0 0 0 0 0 0 0 0 0 0 0 0 0 0\n",
      " 0 0 0 0 0 0 0 0 0 0 0 0 0 0 0 0 0 0 0 0 0 0 0 0 0 0 0 0 0 0 0 0 0 0 0 0 0\n",
      " 0 0 0 0 0 0 0 0 0 0 0 0 0 0 0 0 0 0 0 0 0 0 0 0 0 0 0 0 0 0 0 0 0 0 0 0 0\n",
      " 0 0 0 0 0 0 0 0 0 0 0 0 0 0 0 0 0 0 0 0 0 0 0 0 0 0 0 0 0 0 0 0 0 0 0 0 0\n",
      " 0 0 0 0 0 0 0 0 0 0 0 0 0 0 0 0 0 0 0 0 0 0 0 0 0 0 0 0 0 0 0 0 0 0 0 0 0\n",
      " 0 0 0 0 0 0 0 0 0 0 0 0 0 0 0 0 0 0 0 0 0 0 0 0 0 0 0 0 0 0 0 0 0 0 0 0 0\n",
      " 0 0 0 0 0 0 0 0 0 0 0 0 0 0 0 0 0 0 0 0 0 0 0 0 0 0 0 0 0 0 0 0 0 0 0 0 0\n",
      " 0 0 0 0 0 0 0 0 0 0 0 0 0 0 0 0 0 0 0 0 0 0 0 0 0 0 0 0 0 0 0 0 0 0 0 0 0\n",
      " 0 0 0 0 0 0 0 0 0 0 0 0 0 0 0 0 0 0 0 0 0 0 0 0 0 0 0 0 0 0 0 0 0 0 0 0 0\n",
      " 0 0 0 0 0 0 0 0 0 0 0 0 0 0 0 0 0 0 0 0 0 0 0 0 0 0 0 0 0 0 0 0 0 0 0 0 0\n",
      " 0 0 0 0 0 0 0 0 0 0 0 0 0 0 0 0 0 0 0 0 0 0 0 0 0 0 0 0 0 0 0 0 0 0 0 0 0\n",
      " 0 0 0 0 0 0 0 0 2 0 0 0 0 0 0 0 0 0 0 0 0 0 0 0 0 0 0 0 0 0 0 0 0 0 0 0 0\n",
      " 0 0 0 0 2 2 2 0 2 2 2 2 2 2 2 2 0 2 2 2 0 2 2 0 2 2 2 2 2 2 0 2 2 2 2 0 2\n",
      " 3 2 0 2 2 2 0 2 0 2 2 2 2 2 2 2 2 0 2 2 2 2 0 2 2 0 0 2 2 4 0 0 2 0 2 2 0\n",
      " 2 0 2 0 2 0 2 0 2 0 0 4 0 2 2 0 0 2 0 2 2 0 2 0 2 0 2 0 0 0 0 0 2 0 2 0 0\n",
      " 2 0 2 0 0 0 0 0 0 0 2 0 2 2 0 0 2 2 0 0 2 0 0 2 0 2 0 0 0 0 0 2 0 0 2 0 2\n",
      " 0 0 0 0 0 0 0 0 0 0 0 2 0 0 0 2 0 0 2 0 2 0 2 0 2 0 0 0 0 0 0 0 0 0 0 2 0\n",
      " 0 0 0 0 0 0 2 0 0 0 0 0 0 0 0 0 0 0 0 0 0 0 0 0 0 0 0 0 0 0 0 0 0 0 0 0 0\n",
      " 0 0 0 0 0 0 0 0 0 0 0 0 0 0 0 0 0 0 0 0 0 0 0 0 0 0 0 0 0 0 0 0 0 0 0 0 0\n",
      " 0 0 0 0 0 0 0 0 0 0 0 0 0 0 0 0 0 0 0 0 0 0 0 0 0 0 0 0 0 0 0 0 0 0 0 0 0\n",
      " 0 0 0 2 0 0 0 0 0 0 0 0 0 0 0 0 0 0 0 0 0 0 0 0 0 0 0 0 0 0 0 0 0 0 0 0 0\n",
      " 0 0 0 0 0 0 0 0 0 0 0 0 0 0 0 0 0 0 0 0 0 0 0 0 0 0 0 0 0 0 0 0 0 0 0 0 0\n",
      " 0 0 0 0 0 0 0 0 0 0 0 0 0 0 0 0 0 0 0 0 0 0 0 0 0 0 0 0 0 0 0 0 0 0 0 0 0\n",
      " 0 0 0 0 0 0 0 0 0 0 0 0 0 0 0 0 0 0 0 0 0 0 0 0 0 0 0 0 0 0 0 0 0 0 0 0 0\n",
      " 0 0 0 0 0 0 0 0 0 0 0 0 0 0 0 0 0 0 0 0 0 0 0 0 0 0 0 0 0 0 0 0 0 0 0 0 0\n",
      " 0 0 0 0 0 0 0 0 0 0 0 0 0 0 0 0 0 0 0 0 0 0 0 0 0 0 0 0 0 0 0 0 0 0 0 0 0\n",
      " 0 0 0 0 0 0 0 0 0 0 0 0 0 0 0 0 0 0 0 0 0 0 0 0 0 0 0 0 0 0 0 0 0 0 0 0 0\n",
      " 0 0 0 0 0 0 0 0 0 0 0 0 0 0 0 0 0 0 0 0 0 0 0 0 0 0 0 0 0 0 0 0 0 0 2 0 0\n",
      " 0 0 0 0 0 0 0 0 2 0 0 0 0 0 0 0 0 0 0 0 0 0 0 0 0 0 0 0 0 0 0 0 0 0 0 0 0\n",
      " 0 0 0 0 0 0 0 0 0 0 0 0 0 0 0 0 0 0 0 0 0 0 0 2 0 0 0 0 0 0 0 0 0 0 0 0 0\n",
      " 0 0 0 0 0 0 0 0 0 0 0 0 0 0 0 0 0 0 0 0 0 0 0 0 0 0 0 0 0 0 0 0 0 0 0 0 0\n",
      " 0 0 0 0 0 0 0 0 0 0 0 0 0 0 0 0 0 0 0 0 0 0 0 0 0 0 0 0 0 0 0 0 0 0 0 0 0\n",
      " 0 0 0 0 0 0 0 0 0 4 0 0 0 0 0 0 0 0 0 0 0 0 0 0 0 0 0 0 0 0 0 0 0 0 0 0 0\n",
      " 0 0 0 0 0 0 0 0 0 0 0 0 0 0 0 0 0 0 0 0 0 0 0 0 0 0 0 0 0 0 0 2 0 0 0 0 2\n",
      " 0 2 0 0 0 0 0 0 0 0 0 0 0 0 0 0 0 0 0 0 0 0 0 0 0 0 0 0 0 0 0 0 0 0 0 0 0\n",
      " 0 0 0 0 0 0 0 0 0 0 0 0 0 0 0 0 0 0 0 0 0 0 0 0 0 0 0 0 0 0 2 0 0 0 0 0 2\n",
      " 0 0 0 0 0 0 0 0 2 0 0 0 2 0 2 0 0 2 0 2 0 0 0 0 0 2 0 0 0 0 0 2 0 0 0 0 0\n",
      " 0 0 0 0 0 0 0 0 0 0 0 0 2 0 0 0 0 2 0 0 2 2 0 0 0 0 0 2 0 0 0 0 0 0 0 0 0\n",
      " 0 0 0 0 0 0 0 0 0 0 0 0 0 0 0 0 0 0 0 2 0 0 0 0 0 0 0 0 2 0 0 0 0 0 0 0 0\n",
      " 0 0 0 0 0 2 0 2 2 0 2 0 0 0 0 0 0 2 0 0 2 0 2 0 0 0 2 2 2 0 2 0 0 0 0 2 2\n",
      " 0 0 0 0 2 0 0 2 0 2 0 0 2 0 2 0 2 0 2 2 0 2 2 0 2 2 2 0 2 2 0 2 0 0 0 2 2\n",
      " 0 2 0 0 0 2 0 0 2 0 0 2 2 0 0 0 2 0 0 0 0 2 0 2 0 0 0 2 2 0 2 0 0 2 0 0 2\n",
      " 2 0 2 0 0 2 0 2 0 0 2 0 0 2 0 2 2 0 0 0 2 2 0 0 2 2 0 0 0 4 0 0 0 0 0 0 0\n",
      " 2 0 0 0 0 0 2 0 0 0 0 0 0 0 0 0 0 2 0 0 0 2 0 0 0 0 0 0 2 0 0 0 0 0 0 0 0\n",
      " 0 0 2 0 0 0 0 0 0 0 0 0 0 0 0 0 0 2 0 0 0 0 2 0 0 0 0 0 0 0 2 0 0 0 0 0 0\n",
      " 0 2 0 0 0 0 0 0 0 0 0 0 0 0 0 0 0 0 0 0 0 0 0 0 2 0 0 0 0 0 0 0 0 0 0 2 0\n",
      " 0 0 0 0 0 2 0 0 0 0 2 0 0 0 0 0 0 0 4 0 0 0 0 2 0 0 0 0 2 0 0 0 0 0 0 2 0\n",
      " 0 0 0 0 2 0 0 0 0 0 0 0 2 0 2 0 0 0 0 0 0 0 2 0 0 0 4 0 0 0 0 0 0 0 0 2 0\n",
      " 0 2 0 0 0 0 0 0 0 0 0 2 0 0 0 0 0 2 0 0 0 0 0 0 0 0 0 2 0 0 0 2 0 0 2 0 0\n",
      " 2 0 0 0 0 0 0 0 0 0 2 0 0 0 0 0 2 0 0 0 0 0 0 0 0 0 0 0 0 0 0 0 0 2 0 0 2\n",
      " 0 0 0 0 4 0 0 0 2 0 0 2 0 0 0 0 0 2 0 0 0 0 0 0 2 0 0 0 0 2 0 0 0 2 0 0 2\n",
      " 0 0 0 0 0 0 2 0 0 0 2 0 0 0 0 0 2 0 0 0 0 0 0 0 2 0 0 0 2 0 0 0 0 0 0 2 0\n",
      " 0 0 0 2 0 0 0 0 0 0 2 0 0 0 2 0 0 0 0 2 0 0 0 0 0 2 0 0 2 0 0 0 0 0 0 0 0\n",
      " 0 2 0 0 0 0 2 0 2 0 0 0 2 0 0 0 0 2 0 0 0 0 0 0 2 0 0 0 2 0 0 0 0 0 2 0 0\n",
      " 2 0 0 0 0 0 0 0 0 0 0 0 2 0 0 2 0 2 0 0 0 0 0 0 0 0 2 0 0 2 0 0 0 0 2 0 0\n",
      " 0 2 0 0 0 2 0 0 0 0 0 0 0 0 0 2 0 2 0 0 2 0 2 0 0 0 0 0 2 0 2 0 0 2 0 0 0\n",
      " 0 0 0 0 0 0 0 0 0 0 0 2 0 0 0 0 0 2 0 0 0 0 0 2 0 0 0 0 0 0 0 0 2 0 0 0 0\n",
      " 0 2 0 0 0 0 0 0 4 0 0 2 2 0 0 0 0 0 0 2 0 0 0 0 0 2 0 0 0 0 0 0 0 0 0 0 0\n",
      " 0 0 0 0 0 0 0 0 0 0 0 0 0 0 0 0 0 0 0 0 0 0 0 0 0 0 0 0 0 0 0 0 0 0 0 0 0\n",
      " 0 0 0 0 0 0 0 0 0 0 0 0 0 0 0 0 0 0 0 0 0 0 0 0 0 0 0 0 0 0 0 0 0 0 0 0 0\n",
      " 0 0 0 0 0 0 0 0 0 0 0 0 0 0 0 0 0 0 0 0 2 0 0 2 0 0 2 0 2 2 0 0 0 2 2 4 0\n",
      " 0 4 0 0 0 4 4 0 0 2 4 0 0 2 4 0 0 4 4 0 0 3 4 0 0 0 2 4 0 0 0 2 2 0 0 0 2\n",
      " 2 4 0 0 0 0 0 0 4 0 2 0 0 0 0 2 0 0 0 0 0 0 0 2 0 0 0 0 0 0 0 0 0 0 0 0 0\n",
      " 0 0 0 2 0 2 0 2 0 0 0 0 0 0 0 2 2 0 0 0 0 2 2 0 4 0 0 0 2 0 0 0 0 4 4 0 0\n",
      " 0 4 0 2 0 0 0 0 0 0 4 0 0 2 0 0 4 0 0 0 0 0 0 0 0 4 0 0 2 0 0 0 4 0 0 0 0\n",
      " 0 0 0 0 0 0 0 0 0 0 3 0 0 0 0 0 0 0 0 0 0 0 0 0 0 2 0 0 0 0 0 0 0 0 0 0 0\n",
      " 0 0 0 0 0 0 0 0 0 0 0 0 0 0 0 0 0 0 0 0 0 0 0 0 0 0 0 0 0 0 4 0 0 0 0 0 0\n",
      " 0 0 0 0 0 0 0 0 0 0 0 0 0 0 0 0 0 0 0 0 0 2 0 0 0 0 0 0 0 0 0 0 0 0 0 0 0\n",
      " 0 0 0 0 0 0 0 0 0 0 2 0 4 0 0 0 0 2 0 0 0 2 0 0 2 0 0 0 0 0 0 0 0 0 0 0 0\n",
      " 0 2 0 0 0 0 0 0 2 2 0 0 0 0 0 0 2 0 0 0 0 0 0 0 2 0 0 0 0 2 2 0 0 0 0 0 0\n",
      " 0 2 2 0 0 0 0 0 0 0 0 0 4 0 2 2 0 0 3 0 0 0 0 0 0 2 0 2 0 0 0 0 0 0 0 0 3\n",
      " 0 0 0 0 0 0 0 0 0 0 0 0 0 0 0 0 0 0 0 0 0 0 0 0 0 0 0 0 0 0 0 0 0 0 0 0 0\n",
      " 0 0 0 0 4 0 0 0 2 4 0 0 0 0 0 0 0 0 4 0 4 0 0 0 0 4 0 0 0 0 4 0 4 0 0 0 0\n",
      " 0 4 4 3 0 2 0 0 0 0 0 4 0 0 0 4 0 0 4 0 4 0 0 1 0 0 0 0 3 0 4 0 0 3 0 4 4\n",
      " 0 0 0 0 3 0 0 0 0 2 0 0 0 0 2 4 3 0 0 0 0 0 0 0 0 3 0 0 3 4 0 0 0 0 0 0 0\n",
      " 3 0 3 0 0 0 3 0 0 0 0 4 0 0 4 0 0 0 2 3 0 0 0 0 0 2 4 4 0 2 0 4 0 0 0 4 4\n",
      " 0 0 0 4 0 0 4 0 4 2 0 0 0 0 0 0 3 0 0 0 4 0 2 2 2 0 0 0 3 0 0 0 0 0 0 2 0\n",
      " 0 0 2 2 0 0 2 0 0 0 2 0 4 0 0 0 0 0 0 0 0 0 0 0 4 4 0 0 4 0 4 0 0 2 0 0 2\n",
      " 4 0 0 4 2 2 0 0 2 0 0 0 0 4 0 2 4 0 2 0 4 0 0 0 0 4 0 0 2 0 4 0 0 0 0 0 4\n",
      " 0 0 2 2 0 0 2 0 4 0 0 0 0 0 0 0 0 0 4 0 0 4 4 0 0 0 0 0 0 0 0 0 0 0 0 0 0\n",
      " 0 0 0 0 0 0 0 0 0 0 0 0 0 0 0 0 0 0 0 0 0 0 0 0 0 0 0 0 0 0 0 0 0 0 0 0 0\n",
      " 0 0 0 0 0 0 0 0 0 0 0 0 0 0 0 0 0 0 0 0]\n"
     ]
    }
   ],
   "source": [
    "#fitting K-Means to the dataset\n",
    "kmeans = KMeans(n_clusters = 5, init = 'k-means++', random_state = 42)\n",
    "y_kmeans = kmeans.fit_predict(X)\n",
    "print(y_kmeans)"
   ]
  },
  {
   "cell_type": "code",
   "execution_count": 61,
   "id": "f2803823",
   "metadata": {},
   "outputs": [
    {
     "data": {
      "image/png": "[encoded data removed]",
      "text/plain": [
       "<Figure size 864x504 with 1 Axes>"
      ]
     },
     "metadata": {
      "needs_background": "light"
     },
     "output_type": "display_data"
    }
   ],
   "source": [
    "#visualize the clusters\n",
    "plt.figure(figsize = (12,7))\n",
    "sns.scatterplot(X[y_kmeans == 0, 0], X[y_kmeans == 0, 1], color = 'green', label = 'Cluster 1', s = 50)\n",
    "sns.scatterplot(X[y_kmeans == 1, 0], X[y_kmeans == 1, 1], color = 'blue', label = 'Cluster 2', s = 50)\n",
    "sns.scatterplot(X[y_kmeans == 2, 0], X[y_kmeans == 2, 1], color = 'sienna', label = 'Cluster 3', s = 50)\n",
    "sns.scatterplot(X[y_kmeans == 3, 0], X[y_kmeans == 3, 1], color = 'darkviolet', label = 'Cluster 4', s = 50)\n",
    "sns.scatterplot(X[y_kmeans == 4, 0], X[y_kmeans == 4, 1], color = 'orange', label = 'Cluster 5', s = 50)\n",
    "sns.scatterplot(kmeans.cluster_centers_[:, 0], kmeans.cluster_centers_[:, 1], color = 'red', label = 'Centroids', s = 200, \n",
    "                marker = ',')\n",
    "plt.grid(False)\n",
    "plt.title('Clusters of Facebook Live Sellers', fontsize = 15, pad = 12, fontweight = 'bold')\n",
    "plt.grid(color = 'darkgray', linestyle = ':', linewidth = 1)\n",
    "plt.xlabel('Number of Likes', fontsize = 12)\n",
    "plt.ylabel('Number of Reactions', fontsize = 12)\n",
    "plt.legend()\n",
    "plt.show()"
   ]
  },
  {
   "cell_type": "markdown",
   "id": "708c1847",
   "metadata": {},
   "source": [
    "## K-Modes Clustering"
   ]
  },
  {
   "cell_type": "code",
   "execution_count": 62,
   "id": "c2a298d1",
   "metadata": {},
   "outputs": [
    {
     "name": "stdout",
     "output_type": "stream",
     "text": [
      "Init: initializing centroids\n",
      "Init: initializing clusters\n",
      "Starting iterations...\n",
      "Run 1, iteration: 1/100, moves: 38, cost: 29046.0\n"
     ]
    }
   ],
   "source": [
    "#fitting K-Modes to dataset with cao initialization \n",
    "kmodes_cao = KModes(n_clusters = 5, init = 'Cao', n_init = 1, verbose = 1)\n",
    "y_kmodes_cao = kmodes_cao.fit_predict(df_facebook)"
   ]
  },
  {
   "cell_type": "code",
   "execution_count": 63,
   "id": "6140be92",
   "metadata": {},
   "outputs": [
    {
     "name": "stdout",
     "output_type": "stream",
     "text": [
      "[1 0 2 0 0 0 1 2 0 0 2 0 0 0 0 2 1 2 1 0 0 0 0 0 0 0 1 1 0 2 0 4 0 0 0 0 1\n",
      " 0 0 2 2 2 1 1 0 2 0 1 1 1 0 1 0 2 1 2 1 1 1 1 0 2 0 1 0 0 2 1 1 1 0 2 1 2\n",
      " 1 0 1 1 1 0 1 1 1 1 1 0 0 0 0 0 0 0 0 0 0 0 0 1 1 1 0 4 0 0 0 0 0 0 0 0 0\n",
      " 0 0 1 0 0 2 1 1 2 2 1 0 0 1 2 0 2 0 2 0 0 0 0 0 0 0 0 0 0 2 1 0 2 2 1 0 0\n",
      " 1 2 0 1 2 0 1 0 0 0 0 2 0 0 0 0 1 0 0 1 0 0 0 0 0 0 0 0 0 2 0 0 0 1 0 0 0\n",
      " 0 0 2 0 0 2 0 0 0 1 0 0 2 2 0 0 0 0 2 0 0 0 0 1 1 4 1 0 0 1 0 0 2 1 0 0 0\n",
      " 0 0 0 2 0 0 1 0 0 1 0 0 1 0 0 0 1 0 1 0 0 0 0 0 0 0 0 0 0 0 0 0 0 0 0 0 0\n",
      " 0 0 0 0 0 0 2 0 0 0 0 3 0 0 0 4 0 0 0 0 0 1 1 0 1 0 0 1 0 0 0 0 0 1 1 0 2\n",
      " 0 0 0 0 0 0 0 0 0 0 0 0 0 0 0 0 0 0 4 0 0 0 0 0 0 0 0 1 2 0 0 0 0 0 4 1 1\n",
      " 0 0 0 0 1 0 0 0 0 0 1 0 2 0 0 0 0 0 0 0 0 0 0 1 0 0 0 0 2 0 0 0 0 3 0 3 0\n",
      " 0 1 0 1 0 0 2 0 0 0 0 0 0 1 3 0 0 0 4 4 4 4 0 0 0 1 3 1 0 0 1 0 0 0 0 0 0\n",
      " 0 0 0 1 0 2 1 0 0 0 0 0 0 0 2 0 0 0 1 2 1 0 0 0 0 0 0 4 0 0 0 0 0 0 0 3 0\n",
      " 0 2 0 0 0 0 1 0 3 0 0 0 0 2 1 0 0 0 1 1 0 0 0 1 0 0 0 0 0 1 0 2 1 0 0 0 1\n",
      " 0 1 0 1 0 2 0 0 1 1 1 2 0 0 0 0 0 1 0 0 0 0 0 0 0 0 0 0 2 0 0 0 0 0 0 1 0\n",
      " 0 0 0 0 0 0 0 0 0 0 0 0 0 0 0 2 0 0 0 0 0 1 0 1 0 0 0 0 0 0 0 0 0 0 0 0 0\n",
      " 0 0 0 0 0 0 0 0 0 0 0 0 1 0 1 0 0 0 0 0 0 0 1 0 0 0 0 1 4 0 0 0 0 4 1 0 4\n",
      " 4 1 0 1 1 0 1 0 0 1 1 0 3 1 2 0 0 0 2 0 0 0 0 0 0 0 1 0 1 4 0 3 1 1 1 4 0\n",
      " 0 2 3 4 0 1 0 0 0 2 4 1 0 0 0 0 0 0 1 1 1 0 1 4 2 0 1 0 0 0 0 0 0 0 0 0 0\n",
      " 0 0 4 0 1 0 4 0 0 0 0 0 0 0 0 0 0 0 0 0 0 0 0 0 0 0 1 0 0 4 1 1 0 0 1 0 1\n",
      " 0 0 0 0 1 0 0 0 0 0 0 0 0 0 0 0 0 0 0 0 0 0 1 0 0 0 0 0 0 0 0 0 0 0 0 0 0\n",
      " 0 0 1 0 0 0 2 0 0 0 0 0 0 2 0 0 3 0 0 0 2 0 0 0 0 0 0 0 0 0 0 4 0 0 0 0 2\n",
      " 0 0 0 0 0 0 0 0 0 1 0 1 0 3 4 4 0 0 0 1 0 1 0 0 0 0 0 0 1 0 1 0 0 0 0 1 0\n",
      " 1 1 1 4 1 0 0 0 1 0 0 4 4 0 0 0 1 1 0 0 0 1 3 0 1 2 1 0 0 1 0 1 1 0 0 0 3\n",
      " 0 2 0 1 0 0 0 0 0 0 2 2 0 0 0 0 1 1 0 0 0 4 0 0 0 0 1 0 0 0 0 0 0 1 0 2 0\n",
      " 0 0 0 3 0 0 0 4 0 0 0 1 0 0 0 0 3 4 0 0 0 3 0 3 0 0 2 0 0 0 3 0 0 0 0 0 3\n",
      " 0 0 0 0 0 0 0 0 0 0 0 0 0 0 0 0 0 0 0 0 0 0 0 0 0 0 0 0 0 0 0 0 0 0 0 0 0\n",
      " 0 0 0 0 0 0 0 0 0 0 0 0 0 0 0 0 0 0 0 0 0 0 0 0 0 0 0 0 0 0 0 0 0 0 0 0 0\n",
      " 0 0 0 0 0 0 0 3 3 0 0 0 0 0 0 0 0 0 3 0 0 0 0 3 0 0 0 3 0 0 0 0 0 0 0 0 0\n",
      " 0 0 0 0 0 0 0 0 0 0 0 0 0 0 0 0 0 0 0 0 0 0 0 0 0 0 0 0 0 0 0 0 0 0 0 0 0\n",
      " 0 0 0 0 3 1 3 0 3 0 0 0 0 0 0 0 0 0 0 0 0 3 0 3 3 0 0 0 3 0 3 0 0 0 0 0 0\n",
      " 0 0 0 0 0 0 0 0 0 0 3 0 0 0 0 0 0 0 0 0 0 0 0 0 0 0 0 0 0 3 0 0 0 0 0 0 0\n",
      " 0 0 0 0 0 0 0 0 0 3 0 0 0 0 0 3 3 0 0 0 3 0 1 0 0 3 1 3 0 0 0 0 3 3 0 0 1\n",
      " 0 3 0 0 0 3 3 3 0 0 3 0 0 0 0 0 0 0 0 0 3 1 0 3 3 0 0 0 0 3 1 0 0 0 3 0 0\n",
      " 0 0 0 0 0 0 0 0 0 0 0 0 0 0 0 0 1 0 0 0 0 0 0 0 0 0 0 3 0 0 0 0 0 3 0 0 0\n",
      " 0 0 0 0 0 0 0 0 0 0 0 0 0 0 0 0 0 0 0 0 0 0 0 3 1 0 0 3 0 0 0 0 0 0 0 0 0\n",
      " 0 0 0 3 3 0 0 0 1 0 0 0 0 0 0 0 0 3 3 0 0 3 0 3 3 3 0 0 0 0 0 0 0 0 3 2 0\n",
      " 1 0 3 3 3 0 3 3 1 3 1 0 3 1 0 3 3 1 3 1 0 0 1 3 1 1 3 0 4 3 3 0 1 0 3 0 0\n",
      " 4 0 2 0 0 3 0 4 0 0 1 0 3 3 3 3 0 3 0 1 0 1 3 3 1 0 0 0 1 0 3 0 0 1 1 3 2\n",
      " 3 3 0 0 3 0 3 3 3 3 0 3 3 1 3 0 0 3 3 0 2 2 1 3 3 3 1 3 1 0 1 1 4 3 3 0 2\n",
      " 3 3 3 1 3 0 0 1 1 1 0 0 0 0 3 1 0 1 0 1 0 0 4 0 0 0 1 2 3 0 0 0 0 3 3 2 0\n",
      " 0 0 0 0 0 3 1 0 0 3 3 0 3 0 0 0 2 3 0 3 3 3 2 0 0 0 3 3 0 1 0 0 4 0 0 4 3\n",
      " 4 1 0 0 0 0 0 0 1 0 0 1 0 3 0 1 0 3 4 3 2 1 0 0 3 0 1 1 1 0 1 0 4 0 0 0 3\n",
      " 3 0 0 0 0 0 0 0 0 3 0 0 0 0 1 0 0 0 0 0 3 0 3 0 0 0 0 0 0 0 0 0 0 3 0 0 0\n",
      " 0 0 0 0 0 0 0 0 0 0 0 0 0 0 0 0 0 3 0 2 0 0 0 3 0 0 0 0 0 3 0 0 0 0 1 0 0\n",
      " 3 0 2 3 0 2 3 1 3 1 3 3 3 3 3 3 3 3 3 2 3 3 3 3 1 0 0 0 0 0 0 0 0 0 3 3 0\n",
      " 3 0 0 3 1 0 3 0 0 0 3 0 0 3 0 1 2 2 0 0 0 2 3 3 0 0 2 3 0 1 0 4 0 0 0 1 0\n",
      " 0 3 0 3 3 3 0 3 0 0 0 0 0 0 0 0 0 0 0 0 0 0 0 0 0 0 3 0 0 0 0 0 4 0 0 0 0\n",
      " 0 0 0 0 0 0 0 0 0 0 0 0 0 0 0 0 0 0 0 0 0 0 0 0 0 0 0 0 0 0 0 0 0 0 0 0 0\n",
      " 0 0 0 0 0 0 0 0 0 0 0 0 0 0 0 0 0 0 0 0 0 0 0 0 0 0 0 0 0 0 0 0 0 0 0 0 0\n",
      " 0 0 0 0 0 0 0 0 0 0 0 0 0 0 0 0 0 0 0 0 0 0 0 0 0 0 0 0 0 0 0 0 0 0 0 0 0\n",
      " 0 0 0 0 0 0 0 0 0 0 0 0 0 0 0 0 0 0 0 0 0 0 0 0 0 0 0 0 0 0 0 0 0 0 0 0 0\n",
      " 0 0 0 0 0 0 0 0 0 0 0 0 0 0 0 0 0 0 0 0 0 0 0 0 0 0 0 0 0 0 0 0 0 0 0 0 0\n",
      " 0 0 0 0 0 0 0 0 0 0 0 0 0 0 0 0 0 0 0 0 0 0 0 0 0 0 0 0 0 0 0 0 0 0 0 0 0\n",
      " 0 0 0 0 0 0 0 0 0 0 0 0 0 0 0 0 0 0 0 0 0 0 0 0 0 0 0 0 0 0 0 0 0 0 0 0 0\n",
      " 0 0 0 0 0 0 0 0 0 0 0 0 0 0 0 0 0 0 0 0 0 0 0 0 0 0 0 0 0 0 0 0 0 0 0 0 0\n",
      " 0 0 0 0 0 0 0 0 0 0 0 0 0 0 0 0 0 0 0 0 0 0 0 0 0 0 0 0 0 0 0 0 0 0 0 0 0\n",
      " 0 0 0 0 0 0 0 0 0 0 0 0 0 0 0 0 0 0 0 0 0 0 0 0 0 0 0 0 0 0 0 0 0 0 0 0 0\n",
      " 0 0 0 0 0 0 0 0 0 0 0 0 0 0 0 0 0 0 0 0 0 0 0 0 0 3 0 0 0 0 0 0 0 0 0 0 0\n",
      " 0 0 0 0 0 0 0 0 0 0 0 0 0 0 0 0 0 0 0 0 0 0 0 0 0 0 0 0 0 0 0 0 0 0 0 0 0\n",
      " 0 0 0 0 0 0 0 0 0 0 0 0 0 0 0 0 0 0 0 0 0 0 0 0 0 0 0 0 0 0 0 0 0 0 0 0 3\n",
      " 0 0 0 0 0 0 0 0 0 0 0 0 0 0 0 0 0 0 0 0 0 0 0 0 0 0 0 0 0 0 0 0 0 0 0 0 0\n",
      " 0 0 0 0 0 0 0 0 0 0 0 0 0 0 0 0 0 0 0 0 0 0 0 0 0 0 0 0 0 0 0 0 0 0 0 0 0\n",
      " 0 0 0 0 0 0 0 0 0 0 0 0 0 0 0 0 0 0 0 0 0 0 0 0 0 0 0 0 0 0 0 0 0 0 0 0 0\n",
      " 0 0 0 0 0 0 0 0 0 0 0 0 0 0 0 0 0 0 0 0 0 0 0 0 0 3 0 0 0 0 0 0 0 0 0 0 0\n",
      " 0 0 0 0 0 0 0 0 0 0 0 0 0 0 0 0 0 0 0 0 0 0 0 0 0 0 0 0 0 0 0 0 0 0 0 0 0\n",
      " 0 0 0 0 0 0 0 0 0 0 0 0 0 0 0 0 0 0 0 0 0 0 0 0 0 0 0 0 0 0 0 0 0 0 0 0 0\n",
      " 0 0 0 0 0 0 0 0 0 0 0 0 0 0 0 0 0 0 0 0 0 0 0 0 0 0 0 0 0 0 0 0 0 0 0 0 0\n",
      " 0 0 0 0 0 0 0 0 0 0 0 0 0 0 0 0 0 0 0 0 0 0 0 0 0 0 0 0 0 0 0 0 0 0 0 0 0\n",
      " 0 0 0 0 0 0 0 0 0 0 0 0 0 0 0 0 0 0 0 0 0 0 0 0 0 0 0 0 0 0 0 0 0 0 0 0 0\n",
      " 0 0 0 0 0 0 0 0 0 0 0 0 0 0 0 0 0 0 0 0 0 0 0 0 0 0 0 0 0 0 0 0 0 0 0 0 0\n",
      " 0 0 0 0 0 0 0 0 0 0 0 0 0 0 0 0 0 0 0 0 0 0 0 0 0 0 0 0 0 0 0 0 0 0 0 0 0\n",
      " 0 0 0 0 0 0 0 0 0 0 1 0 0 1 0 0 1 0 0 0 0 0 0 0 0 4 1 0 0 1 0 0 1 1 0 0 0\n",
      " 0 0 0 0 0 1 0 0 0 0 0 0 1 0 0 0 0 0 0 0 0 0 0 0 0 0 0 0 0 0 0 0 0 0 0 0 0\n",
      " 0 1 0 0 0 0 0 0 0 0 0 0 0 0 0 1 1 0 0 0 0 0 1 0 0 0 2 3 0 2 0 1 0 0 0 0 1\n",
      " 0 0 1 0 0 0 2 0 1 0 0 0 0 0 0 0 0 0 0 0 0 0 0 1 0 0 0 0 0 0 0 0 1 0 0 0 0\n",
      " 0 0 0 0 0 0 0 1 0 0 0 0 0 4 0 0 0 0 0 0 0 2 0 0 0 2 0 0 0 0 0 0 0 0 0 0 0\n",
      " 0 0 0 0 0 0 0 0 0 1 0 0 0 1 0 1 0 0 0 0 0 0 0 1 0 0 0 0 0 0 0 0 2 0 0 0 0\n",
      " 0 0 0 0 0 0 0 0 0 0 1 0 0 1 0 0 0 0 0 0 1 0 0 0 0 0 0 0 0 0 0 0 0 0 0 0 0\n",
      " 0 0 0 0 1 0 0 0 0 0 0 0 0 0 0 1 0 0 0 0 1 0 0 0 0 0 1 0 0 0 0 0 0 1 0 0 0\n",
      " 1 0 0 0 0 0 0 0 0 1 1 0 0 0 1 0 0 0 0 0 0 0 1 0 0 0 0 0 0 0 0 0 0 0 0 0 0\n",
      " 1 0 0 0 0 0 1 0 0 0 0 0 0 0 0 1 0 0 0 0 0 1 1 0 0 0 0 1 0 0 0 0 0 1 0 3 0\n",
      " 1 0 0 2 0 0 0 0 0 0 0 0 0 0 0 0 0 0 0 1 0 0 0 0 0 3 0 0 0 0 0 1 0 0 0 3 0\n",
      " 1 0 0 0 0 0 0 0 0 0 1 0 0 0 1 0 0 0 0 0 0 0 0 0 0 0 0 0 0 0 0 0 1 0 1 0 0\n",
      " 0 1 0 0 0 0 0 0 0 0 0 0 0 2 0 0 0 0 0 0 0 0 1 0 0 0 0 0 0 0 0 3 0 0 0 4 0\n",
      " 0 0 1 1 0 0 0 0 1 0 1 0 0 0 0 1 0 0 0 0 0 0 0 1 0 0 3 1 0 0 0 0 1 0 0 0 0\n",
      " 0 0 0 0 0 0 0 1 0 1 0 0 0 0 0 0 0 0 0 1 0 1 1 1 2 0 0 0 0 0 1 1 0 0 2 0 0\n",
      " 0 0 1 0 0 0 2 0 0 0 0 0 0 1 0 0 1 0 0 0 1 1 0 0 1 1 0 0 2 0 0 1 1 0 0 0 2\n",
      " 0 1 0 0 0 0 0 1 0 1 0 0 0 1 0 0 1 0 0 0 4 0 1 1 0 1 0 1 0 0 0 1 0 0 1 0 0\n",
      " 1 0 0 0 1 0 0 0 1 0 0 0 0 0 1 0 0 0 0 0 0 0 0 0 0 0 0 0 0 0 0 0 0 0 0 1 0\n",
      " 0 0 2 0 1 0 0 1 0 4 0 2 2 0 0 0 0 0 0 0 0 0 0 0 0 0 0 0 0 0 1 0 0 1 0 0 0\n",
      " 0 1 0 0 2 0 0 0 2 0 1 0 0 3 0 0 2 0 1 0 1 2 0 0 0 1 0 0 1 0 0 3 0 0 4 0 0\n",
      " 0 0 0 0 0 0 0 0 0 0 3 0 0 0 2 1 0 0 2 0 0 1 1 0 0 1 0 0 0 1 1 0 2 0 0 2 0\n",
      " 0 0 0 2 0 1 0 0 0 3 3 0 0 0 0 0 0 0 0 0 0 0 2 0 1 0 0 0 0 1 0 0 0 1 0 0 0\n",
      " 0 2 0 0 1 0 0 0 0 0 0 1 0 0 2 0 0 0 2 0 0 1 0 1 0 0 1 0 0 1 0 0 0 1 4 0 0\n",
      " 0 0 0 0 0 0 0 1 0 0 2 0 0 0 0 0 0 4 0 0 1 0 0 2 0 1 0 0 0 0 0 0 0 0 1 2 2\n",
      " 0 0 0 1 0 2 0 1 0 1 0 0 0 0 1 1 0 2 0 0 1 0 0 1 1 0 0 0 1 0 0 0 0 0 0 1 0\n",
      " 0 2 0 1 0 0 1 0 0 2 0 0 0 0 1 1 1 1 0 0 0 0 0 0 0 0 2 0 1 0 0 0 0 0 0 0 1\n",
      " 1 0 0 0 0 0 1 0 0 2 0 0 0 1 0 0 0 2 0 1 4 0 0 0 2 2 1 0 0 0 1 0 0 0 0 1 0\n",
      " 0 2 0 0 1 0 0 0 0 1 2 0 2 0 0 0 0 2 1 1 0 0 0 1 1 0 1 1 1 0 1 0 0 1 0 3 0\n",
      " 0 0 0 0 2 0 3 0 0 0 0 1 0 0 0 0 0 0 0 0 0 0 0 2 0 0 0 0 0 0 0 2 0 0 1 0 0\n",
      " 0 0 0 0 4 0 0 0 1 0 0 0 0 0 0 1 0 0 0 0 0 0 0 0 3 0 0 0 0 0 0 0 0 0 0 0 0\n",
      " 0 0 0 0 0 0 0 0 0 0 0 0 0 0 0 0 0 0 0 0 0 0 0 0 0 0 0 0 0 0 0 0 0 0 3 0 0\n",
      " 0 0 0 0 0 0 0 0 0 0 0 0 0 0 0 0 0 0 0 0 0 0 0 0 0 0 0 0 0 0 0 0 0 0 0 0 0\n",
      " 0 0 0 0 0 1 0 0 0 0 0 0 0 0 0 0 0 0 0 0 0 0 0 0 0 0 0 0 0 0 0 0 0 0 0 0 0\n",
      " 1 0 1 1 0 1 1 0 1 1 1 0 0 0 1 1 1 0 0 1 1 0 1 1 1 1 1 0 1 0 0 0 2 1 1 0 1\n",
      " 1 0 1 0 0 1 1 1 0 1 1 1 1 1 0 0 0 0 0 0 0 0 0 0 0 0 0 0 0 0 0 0 0 1 0 0 0\n",
      " 1 0 0 0 0 0 0 0 0 0 0 0 0 0 0 0 0 0 0 0 0 0 0 0 0 1 0 0 0 0 0 0 0 0 0 0 0\n",
      " 0 0 0 4 0 0 0 0 0 0 4 1 0 1 2 0 1 0 1 2 0 0 2 0 1 1 1 0 2 1 2 1 0 1 2 1 0\n",
      " 2 1 1 1 1 1 0 1 1 1 1 0 2 0 1 1 1 2 0 1 1 0 3 0 2 0 0 0 0 0 0 0 0 0 0 0 0\n",
      " 0 0 0 2 0 0 0 0 0 0 0 0 0 0 0 0 0 0 0 0 0 0 0 0 0 0 0 0 0 0 0 0 0 0 0 0 0\n",
      " 0 0 0 0 0 0 0 0 0 0 0 0 0 0 0 0 0 0 0 0 0 0 0 0 0 0 0 0 0 0 0 0 0 0 0 1 0\n",
      " 0 0 0 0 0 0 0 0 0 0 0 0 0 0 0 0 0 0 0 0 0 0 0 0 0 0 0 0 0 0 0 0 0 0 0 0 0\n",
      " 0 0 0 0 0 0 0 0 2 0 2 0 0 0 0 0 0 0 0 0 0 0 0 0 0 0 0 0 0 0 0 0 0 0 0 0 0\n",
      " 0 0 0 0 0 0 0 0 0 0 0 0 0 0 0 0 0 0 0 0 0 0 0 0 0 0 0 0 0 0 0 0 0 0 0 0 0\n",
      " 0 0 0 0 0 0 0 0 0 0 0 0 0 0 0 0 0 0 0 0 0 0 0 0 0 0 0 0 0 0 0 0 0 0 0 0 0\n",
      " 0 0 0 0 0 1 0 0 0 0 0 0 0 0 0 0 0 0 0 0 0 0 0 0 1 1 0 0 0 1 0 1 0 0 0 0 0\n",
      " 0 0 0 1 0 0 1 0 0 1 0 1 2 0 0 0 1 0 0 0 1 0 0 2 0 0 0 0 0 0 1 0 0 0 2 0 1\n",
      " 0 2 0 0 0 0 0 0 0 1 0 1 0 0 0 0 0 0 0 0 0 0 0 0 0 0 0 0 0 0 0 0 0 0 0 0 0\n",
      " 0 0 0 0 0 0 0 0 0 0 0 0 0 0 0 0 0 0 0 0 0 0 0 0 0 0 0 0 0 0 0 0 0 0 0 0 0\n",
      " 0 0 0 0 0 0 0 0 0 0 0 0 0 0 0 0 0 0 0 0 0 0 0 0 0 0 0 0 0 0 1 0 0 1 0 0 1\n",
      " 0 0 0 1 0 0 0 0 1 0 0 2 1 1 0 0 0 0 0 1 0 0 0 0 0 0 0 2 0 0 0 1 0 0 2 0 0\n",
      " 1 0 0 0 1 1 1 4 1 1 1 1 1 1 1 1 3 1 1 1 0 1 2 0 1 1 1 1 1 1 0 1 1 1 1 0 1\n",
      " 1 1 2 1 1 1 2 1 4 1 1 1 1 1 1 1 1 0 1 1 1 1 0 1 1 1 4 1 1 1 0 1 1 0 1 1 1\n",
      " 1 3 1 0 1 1 1 1 1 1 0 1 3 1 1 4 3 1 2 1 1 0 1 4 1 4 1 0 0 1 1 4 1 0 1 4 1\n",
      " 1 3 1 2 4 0 0 0 0 1 1 1 1 1 1 1 1 1 0 2 1 0 1 1 0 1 1 1 1 1 1 1 1 1 1 0 1\n",
      " 2 0 0 0 0 0 0 1 4 1 1 1 1 3 3 1 0 1 1 0 1 1 1 2 1 1 0 4 0 0 0 2 1 1 1 1 1\n",
      " 0 0 0 0 0 4 3 3 0 0 0 0 0 0 0 0 0 0 0 1 0 0 0 0 0 0 0 0 0 0 0 0 1 0 0 0 0\n",
      " 0 0 0 0 0 0 0 0 1 0 0 0 0 0 0 0 0 2 0 0 0 0 0 0 0 0 0 0 0 0 0 0 0 1 0 0 0\n",
      " 0 0 0 0 0 0 1 0 0 0 0 1 0 0 0 2 1 0 0 0 0 0 0 0 0 0 0 0 0 0 1 0 0 0 0 0 0\n",
      " 0 0 1 1 0 0 0 0 0 0 0 0 3 2 0 0 0 0 0 0 1 0 0 0 1 0 0 0 0 0 2 0 0 0 0 0 0\n",
      " 0 0 1 0 0 0 0 0 0 0 0 0 0 3 2 0 0 0 0 0 0 2 0 0 0 0 0 0 0 0 0 0 1 0 1 0 0\n",
      " 0 1 0 0 0 0 2 0 0 0 0 0 2 1 0 3 0 0 0 0 0 1 0 0 0 0 0 0 0 0 0 0 2 0 0 0 0\n",
      " 1 0 0 0 2 0 0 0 0 0 2 1 0 3 0 0 0 0 0 0 0 0 0 0 0 0 0 0 1 3 0 0 0 0 0 0 0\n",
      " 0 0 1 0 0 0 0 0 0 0 0 0 0 0 1 0 2 0 0 0 0 0 0 0 0 1 1 0 0 0 0 0 0 0 0 0 0\n",
      " 0 0 0 0 0 0 2 0 0 0 0 0 0 0 1 1 0 1 0 0 3 0 2 0 0 0 0 0 0 0 0 1 0 0 0 0 0\n",
      " 0 0 0 0 0 3 1 0 0 0 0 0 0 0 0 0 0 0 0 0 1 0 0 0 0 0 1 0 0 0 0 0 0 0 0 0 0\n",
      " 0 0 0 1 0 0 0 0 0 1 0 0 3 0 0 0 0 0 0 0 1 0 0 0 0 0 0 0 0 0 0 0 0 0 2 0 3\n",
      " 0 0 0 0 0 0 0 0 2 0 0 0 0 0 0 0 0 0 0 0 1 0 1 0 0 1 1 0 0 0 0 0 0 0 0 0 0\n",
      " 0 0 0 0 0 0 0 0 2 0 2 2 2 0 0 1 1 1 0 0 1 3 0 2 0 2 0 1 0 0 1 1 4 0 0 2 0\n",
      " 2 1 0 0 1 1 2 0 0 2 1 3 0 0 2 0 2 0 1 1 0 0 0 1 0 0 1 1 1 2 1 0 2 1 1 2 2\n",
      " 0 1 0 0 1 1 1 0 1 0 1 1 0 1 0 2 2 0 2 1 0 2 1 1 0 2 0 0 2 2 0 2 1 1 1 2 1\n",
      " 1 0 0 1 2 0 1 2 2 1 0 0 1 1 1 1 2 2 0 0 0 1 0 1 0 0 1 2 0 1 0 1 0 1 1 2 0\n",
      " 1 0 0 2 0 0 2 0 2 1 0 2 1 0 1 0 2 0 1 2 1 0 2 0 2 0 0 0 1 1 1 1 1 1 1 1 1\n",
      " 2 1 0 1 0 1 0 0 1 0 1 0 0 1 2 0 0 1 0 2 0 0 1 0 1 1 1 1 1 1 1 0 0 1 1 0 1\n",
      " 0 1 0 1 2 0 2 1 1 2 0 0 0 1 1 0 0 1 1 0 0 1 0 1 0 1 1 1 0 1 1 1 0 1 1 0 2\n",
      " 0 1 0 1 0 0 2 0 2 2 0 0 2 1 1 2 0 2 0 1 1 0 1 1 2 1 0 1 0 0 0 1 0 1 0 0 1\n",
      " 2 0 0 1 0 2 0 1 2 4 0 0 1 2 1 0 2 1 0 0 2 1 0 0 1 0 0 1 0 0 1 1 0 0 1 0 0\n",
      " 1 0 0 0 0 2 0 0 2 0 0 0 1 2 0 1 0 0 0 1 0 1 1 1 0 2 2 1 1 0 0 0 1 0 0 0 1\n",
      " 1 0 1 1 0 1 1 1 1 0 2 0 1 0 1 0 0 2 0 0 1 1 1 2 1 0 2 2 1 4 1 0 1 0 0 1 1\n",
      " 0 0 0 0 1 0 0 1 0 1 0 0 1 0 1 0 1 0 1 2 0 1 2 0 2 1 2 0 2 1 0 2 0 0 0 1 2\n",
      " 0 1 0 0 0 2 0 0 2 0 0 2 1 0 0 1 2 0 1 0 2 1 0 1 0 0 0 1 2 0 1 0 0 1 0 1 2\n",
      " 1 0 1 0 0 2 0 2 0 1 1 0 0 1 0 1 2 0 0 0 1 1 0 0 1 2 0 0 0 1 0 0 0 0 0 0 0\n",
      " 1 0 0 0 0 0 1 0 0 0 0 0 1 0 0 0 0 1 0 0 0 2 0 0 0 0 0 0 1 0 0 0 0 0 0 0 0\n",
      " 0 0 2 0 0 0 1 0 0 1 0 0 0 0 0 0 0 1 0 0 0 4 1 0 0 0 0 0 0 0 1 0 0 2 0 0 0\n",
      " 2 2 0 0 0 0 0 2 0 0 0 2 0 0 3 1 0 0 1 0 0 0 0 0 1 0 0 0 0 2 0 0 2 0 0 2 0\n",
      " 0 0 0 0 0 1 0 0 0 2 1 0 0 0 0 0 0 0 1 0 0 0 0 1 0 0 0 0 2 0 0 0 0 0 0 1 0\n",
      " 0 0 0 0 1 0 0 0 0 0 0 0 2 0 1 0 1 1 0 0 0 0 2 0 0 0 1 0 0 0 2 0 0 0 0 2 0\n",
      " 0 2 0 0 0 2 0 1 0 4 0 2 0 0 1 0 0 1 0 0 0 0 0 1 0 0 0 1 0 0 0 2 0 0 1 0 0\n",
      " 1 0 0 0 1 0 0 0 0 0 2 0 0 0 1 0 1 0 0 1 0 1 0 0 1 2 0 0 1 0 0 0 0 2 0 1 1\n",
      " 0 1 0 0 1 0 0 0 1 1 0 1 0 1 0 0 0 2 0 0 0 1 0 0 1 0 1 0 0 2 2 0 0 1 0 0 2\n",
      " 0 1 0 0 2 0 2 0 0 0 1 0 0 2 0 0 1 0 0 1 0 0 0 3 1 0 0 0 1 0 2 0 0 0 0 1 0\n",
      " 0 0 0 1 0 0 0 0 0 0 1 0 0 0 2 0 0 3 0 2 0 1 0 0 0 1 0 1 1 0 0 0 1 0 0 0 0\n",
      " 0 1 0 0 0 1 1 0 1 0 0 0 2 1 0 0 0 1 0 0 0 1 0 0 1 0 0 0 1 0 0 1 0 0 2 0 0\n",
      " 1 0 0 0 1 0 0 3 2 0 0 1 1 0 0 2 0 2 0 1 0 0 0 0 1 0 1 0 0 1 0 1 0 0 1 0 0\n",
      " 0 1 0 0 0 1 0 2 0 0 0 0 1 0 0 2 0 2 1 0 1 0 2 0 0 1 0 0 2 0 1 0 0 1 0 0 0\n",
      " 2 0 0 2 1 0 0 0 1 0 0 1 0 0 0 0 0 1 0 1 1 0 0 1 0 0 0 1 0 0 0 0 2 1 0 0 0\n",
      " 0 2 0 0 1 0 0 0 1 0 3 2 1 0 1 0 0 0 0 2 0 0 0 2 0 1 1 0 2 0 0 0 0 1 0 0 1\n",
      " 0 3 0 0 0 0 0 0 0 0 0 1 0 0 0 0 0 0 0 0 3 0 0 0 0 0 0 0 0 0 0 0 4 0 0 0 0\n",
      " 0 0 0 0 0 2 0 0 0 0 1 0 0 1 0 3 0 0 0 0 0 0 0 0 0 1 0 0 0 0 0 0 0 0 3 0 0\n",
      " 0 0 0 0 0 0 0 0 0 4 0 0 0 0 0 0 0 0 0 0 1 0 0 1 0 0 1 0 1 2 0 0 0 2 1 2 0\n",
      " 0 1 0 0 0 1 1 1 0 2 1 4 1 2 2 1 0 1 1 0 0 1 1 1 0 0 1 1 0 0 1 1 1 0 0 0 1\n",
      " 1 1 0 0 0 0 0 0 2 0 2 0 0 1 0 1 0 2 0 0 0 0 0 1 0 0 4 0 1 0 1 1 0 0 0 0 0\n",
      " 2 0 1 1 0 1 1 2 0 0 4 0 0 1 0 2 1 4 0 0 0 2 2 0 2 0 0 0 1 0 0 0 0 1 2 1 0\n",
      " 0 2 0 2 0 0 4 0 0 1 2 0 0 1 0 0 1 0 0 0 0 1 0 0 0 2 1 0 1 0 0 0 1 0 0 0 0\n",
      " 0 0 0 0 0 0 0 0 1 0 1 0 0 0 0 0 0 0 0 0 0 0 2 0 0 1 0 0 0 0 0 1 0 1 0 0 0\n",
      " 0 0 0 0 0 0 0 0 0 0 0 0 0 0 0 0 0 0 0 0 1 0 1 2 2 0 1 0 0 0 1 0 1 0 2 0 0\n",
      " 0 1 0 0 0 0 0 0 0 0 0 0 0 0 0 0 0 0 0 1 0 2 0 0 0 0 0 0 0 0 1 0 0 0 0 0 0\n",
      " 0 0 1 0 0 0 0 0 0 0 2 0 2 0 0 0 0 1 0 0 0 1 0 0 2 0 0 0 2 0 1 1 0 0 0 0 0\n",
      " 0 2 1 0 0 1 2 1 2 1 0 0 0 0 0 1 2 0 1 0 4 4 0 0 2 1 0 0 0 1 1 0 0 0 0 0 0\n",
      " 0 1 2 0 0 0 0 0 3 1 0 0 1 0 1 1 0 0 1 0 0 1 0 0 0 1 0 2 0 0 0 0 0 0 0 0 0\n",
      " 0 0 0 0 0 0 0 0 0 0 0 0 0 0 0 0 0 0 0 0 0 0 0 0 4 0 4 0 0 0 0 0 0 0 0 0 0\n",
      " 0 0 0 0 1 0 0 0 1 1 0 0 0 1 0 1 0 1 2 4 1 3 0 1 0 1 0 0 0 1 1 2 2 0 1 0 0\n",
      " 1 1 1 1 0 1 0 0 0 2 1 2 0 0 0 2 0 1 2 0 1 0 0 1 0 0 0 0 1 0 1 1 0 1 3 1 1\n",
      " 0 0 1 0 1 0 0 0 0 1 0 0 0 0 1 1 1 1 1 0 0 0 0 1 0 1 0 1 1 1 0 0 0 0 0 0 0\n",
      " 1 0 1 2 0 0 1 0 0 0 0 1 0 0 1 0 0 0 1 1 0 2 0 0 0 1 1 1 0 1 0 1 0 0 1 1 1\n",
      " 0 0 1 1 0 1 1 0 1 1 0 0 0 0 0 0 1 0 0 2 1 0 1 1 1 0 0 4 2 0 3 0 0 0 0 1 0\n",
      " 0 1 1 1 0 1 1 0 0 0 2 3 2 0 0 0 0 0 0 0 2 0 0 0 1 2 0 0 1 0 1 0 0 2 0 0 1\n",
      " 1 0 0 2 2 1 0 0 1 0 0 4 0 1 0 1 1 0 2 0 1 0 0 0 0 1 0 0 1 0 2 0 0 0 0 0 1\n",
      " 1 0 2 1 0 0 2 0 2 1 3 0 0 0 0 0 0 1 2 0 0 1 1 0 0 0 0 0 0 0 0 1 0 0 0 0 4\n",
      " 0 0 0 0 0 0 0 0 0 0 0 0 0 0 0 0 0 0 0 0 0 0 1 0 0 0 0 0 0 0 0 0 0 0 0 0 0\n",
      " 0 0 0 0 0 0 0 0 0 0 0 0 0 0 0 0 0 0 0 0]\n"
     ]
    }
   ],
   "source": [
    "#prediction\n",
    "print(y_kmodes_cao)"
   ]
  },
  {
   "cell_type": "code",
   "execution_count": 64,
   "id": "4528ff86",
   "metadata": {},
   "outputs": [
    {
     "data": {
      "text/html": [
       "<div>\n",
       "<style scoped>\n",
       "    .dataframe tbody tr th:only-of-type {\n",
       "        vertical-align: middle;\n",
       "    }\n",
       "\n",
       "    .dataframe tbody tr th {\n",
       "        vertical-align: top;\n",
       "    }\n",
       "\n",
       "    .dataframe thead th {\n",
       "        text-align: right;\n",
       "    }\n",
       "</style>\n",
       "<table border=\"1\" class=\"dataframe\">\n",
       "  <thead>\n",
       "    <tr style=\"text-align: right;\">\n",
       "      <th></th>\n",
       "      <th>status_type</th>\n",
       "      <th>num_reactions</th>\n",
       "      <th>num_comments</th>\n",
       "      <th>num_shares</th>\n",
       "      <th>num_likes</th>\n",
       "      <th>num_loves</th>\n",
       "      <th>num_wows</th>\n",
       "      <th>num_hahas</th>\n",
       "      <th>num_sads</th>\n",
       "      <th>num_angrys</th>\n",
       "    </tr>\n",
       "  </thead>\n",
       "  <tbody>\n",
       "    <tr>\n",
       "      <th>0</th>\n",
       "      <td>1</td>\n",
       "      <td>1</td>\n",
       "      <td>0</td>\n",
       "      <td>0</td>\n",
       "      <td>1</td>\n",
       "      <td>0</td>\n",
       "      <td>0</td>\n",
       "      <td>0</td>\n",
       "      <td>0</td>\n",
       "      <td>0</td>\n",
       "    </tr>\n",
       "    <tr>\n",
       "      <th>1</th>\n",
       "      <td>3</td>\n",
       "      <td>135</td>\n",
       "      <td>1</td>\n",
       "      <td>1</td>\n",
       "      <td>98</td>\n",
       "      <td>1</td>\n",
       "      <td>0</td>\n",
       "      <td>0</td>\n",
       "      <td>0</td>\n",
       "      <td>0</td>\n",
       "    </tr>\n",
       "    <tr>\n",
       "      <th>2</th>\n",
       "      <td>3</td>\n",
       "      <td>212</td>\n",
       "      <td>0</td>\n",
       "      <td>3</td>\n",
       "      <td>106</td>\n",
       "      <td>0</td>\n",
       "      <td>1</td>\n",
       "      <td>0</td>\n",
       "      <td>0</td>\n",
       "      <td>0</td>\n",
       "    </tr>\n",
       "    <tr>\n",
       "      <th>3</th>\n",
       "      <td>3</td>\n",
       "      <td>23</td>\n",
       "      <td>3</td>\n",
       "      <td>2</td>\n",
       "      <td>23</td>\n",
       "      <td>0</td>\n",
       "      <td>0</td>\n",
       "      <td>0</td>\n",
       "      <td>0</td>\n",
       "      <td>0</td>\n",
       "    </tr>\n",
       "    <tr>\n",
       "      <th>4</th>\n",
       "      <td>3</td>\n",
       "      <td>36</td>\n",
       "      <td>5</td>\n",
       "      <td>0</td>\n",
       "      <td>34</td>\n",
       "      <td>2</td>\n",
       "      <td>0</td>\n",
       "      <td>0</td>\n",
       "      <td>0</td>\n",
       "      <td>0</td>\n",
       "    </tr>\n",
       "  </tbody>\n",
       "</table>\n",
       "</div>"
      ],
      "text/plain": [
       "   status_type  num_reactions  num_comments  num_shares  num_likes  num_loves  \\\n",
       "0            1              1             0           0          1          0   \n",
       "1            3            135             1           1         98          1   \n",
       "2            3            212             0           3        106          0   \n",
       "3            3             23             3           2         23          0   \n",
       "4            3             36             5           0         34          2   \n",
       "\n",
       "   num_wows  num_hahas  num_sads  num_angrys  \n",
       "0         0          0         0           0  \n",
       "1         0          0         0           0  \n",
       "2         1          0         0           0  \n",
       "3         0          0         0           0  \n",
       "4         0          0         0           0  "
      ]
     },
     "execution_count": 64,
     "metadata": {},
     "output_type": "execute_result"
    }
   ],
   "source": [
    "#create dataframe for build clusters\n",
    "cluster = pd.DataFrame(kmodes_cao.cluster_centroids_)\n",
    "cluster.columns = df_facebook.columns\n",
    "cluster "
   ]
  },
  {
   "cell_type": "code",
   "execution_count": 65,
   "id": "1086b5d3",
   "metadata": {},
   "outputs": [
    {
     "name": "stdout",
     "output_type": "stream",
     "text": [
      "Init: initializing centroids\n",
      "Init: initializing clusters\n",
      "Starting iterations...\n",
      "Run 1, iteration: 1/100, moves: 1733, cost: 27673.0\n",
      "Run 1, iteration: 2/100, moves: 161, cost: 27673.0\n"
     ]
    }
   ],
   "source": [
    "#fitting K-Modes to dataset with huang initialization \n",
    "kmodes_huang = KModes(n_clusters = 5, init = 'Huang', n_init = 1, verbose = 1)\n",
    "y_kmodes_huang = kmodes_huang.fit_predict(df_facebook)"
   ]
  },
  {
   "cell_type": "code",
   "execution_count": 66,
   "id": "9172e6fa",
   "metadata": {},
   "outputs": [
    {
     "name": "stdout",
     "output_type": "stream",
     "text": [
      "[0 1 0 1 1 1 0 0 4 2 1 1 1 1 1 0 0 0 0 1 2 2 1 0 1 0 0 0 1 0 1 0 1 4 1 1 0\n",
      " 1 1 0 0 0 0 0 1 0 1 0 0 0 1 0 1 0 0 0 0 0 0 0 1 0 2 0 1 1 0 0 0 0 0 0 0 0\n",
      " 0 0 0 0 0 0 0 0 0 0 0 1 2 1 1 1 0 3 1 1 1 1 1 0 0 0 1 1 1 1 1 4 1 1 1 1 1\n",
      " 1 2 0 1 1 0 0 0 0 0 0 2 1 0 0 1 0 0 0 1 1 1 1 1 0 1 1 1 1 0 0 1 0 0 0 1 1\n",
      " 0 0 1 0 0 1 0 1 1 1 1 0 1 1 1 0 0 2 1 0 1 2 1 1 0 1 2 2 1 0 1 1 1 0 1 1 1\n",
      " 1 1 0 2 1 0 1 4 1 0 1 1 0 0 1 1 1 1 0 1 1 1 1 0 0 3 0 1 1 0 1 1 0 2 1 1 1\n",
      " 1 1 1 0 1 1 0 2 1 2 1 1 0 2 2 1 0 2 2 1 2 2 1 1 1 1 1 4 1 1 4 1 1 1 1 2 1\n",
      " 1 1 1 2 1 1 1 1 1 0 1 0 1 1 0 0 0 0 1 1 1 2 0 1 0 2 1 3 1 1 1 2 1 0 0 1 0\n",
      " 1 1 1 1 1 4 1 1 1 1 1 1 1 1 4 1 1 1 0 1 4 1 4 1 1 1 1 2 0 1 1 1 1 1 1 2 0\n",
      " 3 4 1 1 0 1 4 2 1 1 0 2 0 1 1 1 1 1 1 1 1 1 2 0 2 1 1 1 0 1 2 1 4 2 1 0 1\n",
      " 1 2 1 0 1 1 0 4 2 1 1 1 1 0 0 1 1 1 1 0 0 0 1 1 1 0 0 0 1 1 0 1 1 1 1 1 1\n",
      " 1 1 1 0 1 0 0 4 1 1 1 1 1 2 0 1 1 2 0 0 0 1 1 1 1 1 1 1 1 1 1 1 1 2 1 0 1\n",
      " 1 0 1 1 1 1 0 1 0 1 2 1 4 1 0 1 1 1 0 2 1 1 1 0 1 1 1 4 2 0 1 0 0 2 2 1 0\n",
      " 0 0 1 0 1 0 1 1 2 0 0 0 1 1 1 1 1 0 2 1 1 1 1 1 1 0 1 1 0 1 4 0 0 0 1 0 4\n",
      " 2 1 1 1 2 2 0 0 1 1 1 2 1 0 1 0 1 1 1 1 1 0 2 2 1 0 4 1 4 1 1 1 1 1 1 0 1\n",
      " 4 1 1 4 1 1 2 1 1 1 2 2 4 1 2 1 4 1 1 2 1 1 4 2 0 1 1 0 0 1 1 1 1 0 0 1 0\n",
      " 0 0 1 2 0 2 3 2 4 2 0 1 0 0 1 1 1 1 0 1 1 0 1 2 4 1 0 1 2 0 4 0 0 4 2 0 1\n",
      " 1 0 0 0 2 0 2 1 2 0 1 2 4 0 1 1 1 2 0 4 4 2 2 0 0 1 0 1 1 1 4 1 1 2 1 1 1\n",
      " 1 1 0 1 2 0 0 0 1 1 4 1 1 1 1 4 1 0 1 1 1 1 1 0 1 1 0 2 1 0 2 2 1 0 2 1 0\n",
      " 2 1 1 1 0 0 1 1 4 1 0 1 0 1 1 1 0 2 4 1 1 1 0 1 1 1 2 4 1 1 2 1 1 1 0 1 1\n",
      " 4 2 2 1 1 0 0 1 1 2 1 1 1 0 1 0 0 1 1 1 0 1 0 1 0 4 1 2 4 2 1 0 1 1 1 1 0\n",
      " 1 4 4 4 1 1 1 1 1 0 1 0 1 0 0 0 2 1 1 2 2 0 1 0 1 1 1 1 0 0 0 1 0 1 1 2 1\n",
      " 0 2 2 0 0 4 1 1 0 1 0 0 0 0 1 1 0 0 0 2 1 0 0 1 0 0 0 0 0 0 2 0 0 1 1 1 0\n",
      " 4 0 0 0 0 0 0 1 1 1 0 0 0 0 0 0 0 0 0 1 1 0 1 1 0 2 0 1 1 1 0 1 0 4 1 0 4\n",
      " 1 4 1 1 2 0 1 0 0 0 0 0 2 0 1 2 0 0 1 1 1 0 1 0 2 1 0 1 2 0 0 0 1 1 0 4 0\n",
      " 0 1 1 2 1 2 1 1 1 1 0 1 1 1 1 1 1 1 1 1 1 2 1 1 1 1 1 1 4 2 1 0 1 1 1 1 0\n",
      " 2 1 0 1 1 1 1 2 2 1 1 0 1 1 2 2 1 1 1 1 1 2 1 1 1 1 1 1 2 1 1 1 1 1 1 1 0\n",
      " 1 2 1 0 1 0 2 0 0 1 0 0 1 1 2 0 0 0 0 2 2 0 2 0 4 1 1 0 1 2 0 1 0 2 0 1 0\n",
      " 1 0 0 2 1 1 2 0 2 1 1 1 0 2 0 0 0 0 1 0 0 2 4 0 1 2 1 0 1 1 2 1 1 2 1 2 0\n",
      " 0 1 0 2 0 0 0 0 0 0 1 0 1 4 1 0 1 1 1 0 2 0 1 0 0 1 0 0 0 1 0 1 1 0 1 1 2\n",
      " 1 1 1 2 2 2 1 0 2 1 0 1 1 1 1 1 0 1 1 1 1 1 1 0 1 0 1 4 1 0 2 1 1 1 1 0 1\n",
      " 1 1 1 1 1 1 0 1 1 0 2 1 4 1 0 0 0 0 0 0 0 1 0 2 1 0 0 0 0 1 1 1 0 0 1 1 0\n",
      " 2 0 1 2 2 0 0 0 2 0 0 0 1 1 1 2 1 1 1 1 0 0 1 0 0 1 0 1 2 0 0 1 1 0 0 1 2\n",
      " 1 1 1 2 1 1 1 1 2 1 2 1 1 2 1 1 0 0 1 1 2 1 2 1 1 1 1 0 1 1 1 1 0 0 0 1 0\n",
      " 1 2 2 1 1 0 2 1 1 2 2 1 2 0 1 1 1 1 1 1 1 0 1 0 0 1 0 0 0 2 2 1 1 2 2 1 0\n",
      " 1 1 1 0 0 1 0 1 2 0 1 2 1 2 0 1 1 0 0 1 1 0 1 0 0 0 0 0 2 1 1 1 1 0 0 0 0\n",
      " 0 0 0 0 0 0 0 0 0 0 0 4 0 0 0 0 0 0 0 0 0 0 0 0 0 0 0 1 0 0 0 0 0 0 0 0 1\n",
      " 0 0 0 0 0 0 0 0 0 0 0 0 0 0 0 0 1 0 4 0 0 0 0 0 0 0 1 0 0 0 0 0 0 0 0 0 0\n",
      " 0 0 2 0 0 0 0 0 0 0 0 0 0 0 0 0 0 0 0 0 0 0 0 0 0 0 0 0 0 0 0 0 0 0 0 0 0\n",
      " 0 0 0 0 0 0 0 0 0 0 0 0 0 0 0 0 0 0 0 0 0 0 0 1 0 0 0 0 0 0 0 0 0 0 0 0 0\n",
      " 1 0 1 1 1 0 0 0 1 0 0 0 0 0 0 0 0 0 0 0 0 0 0 0 1 0 0 0 0 0 0 0 0 0 0 0 0\n",
      " 0 0 0 0 0 0 0 0 0 0 0 0 1 0 0 0 0 0 0 0 0 0 4 0 0 0 0 0 0 0 0 0 0 1 1 1 0\n",
      " 0 0 0 1 4 2 4 1 0 0 1 4 1 1 0 1 1 1 0 0 0 1 0 1 0 0 0 4 1 1 0 1 1 0 0 1 1\n",
      " 1 0 0 1 1 1 1 1 1 1 1 1 1 1 1 1 4 0 0 0 1 2 0 0 1 0 1 1 0 0 1 0 0 1 0 1 0\n",
      " 0 1 0 0 1 0 0 0 0 0 0 0 0 0 0 0 0 0 0 0 0 0 0 0 0 1 1 1 1 4 1 1 1 0 0 0 0\n",
      " 0 0 0 0 0 0 0 1 1 0 0 4 1 0 1 0 0 0 4 1 1 0 0 0 1 1 0 0 1 0 4 0 1 1 0 0 0\n",
      " 4 0 0 0 0 0 4 0 1 1 1 1 1 4 1 2 2 1 1 1 1 1 1 1 1 1 0 2 2 0 4 1 0 1 1 4 1\n",
      " 1 4 4 4 4 2 1 1 1 4 1 1 2 1 1 1 2 4 1 2 1 1 2 1 1 2 2 1 1 2 2 2 1 1 1 1 1\n",
      " 1 4 2 1 2 1 4 1 1 4 1 1 1 2 4 1 1 1 1 1 1 1 4 1 1 1 4 1 2 1 1 1 2 1 1 1 2\n",
      " 2 4 1 1 1 1 1 1 1 1 1 4 4 1 1 1 1 2 4 1 3 1 1 1 1 4 1 1 1 1 1 2 1 1 2 1 1\n",
      " 0 1 4 1 1 1 0 1 4 1 1 1 1 2 4 1 1 1 1 1 1 1 1 1 1 1 2 1 1 1 1 1 1 1 1 2 1\n",
      " 4 1 1 1 1 2 1 4 1 1 1 1 1 1 1 4 1 1 1 1 2 2 1 1 1 1 1 1 1 1 1 4 1 1 1 1 1\n",
      " 1 1 1 1 4 1 1 4 4 1 1 4 1 1 1 1 1 1 1 1 1 1 1 1 1 4 1 1 1 1 2 1 1 4 1 3 1\n",
      " 1 1 1 1 1 4 1 1 1 1 1 1 2 1 1 1 3 1 1 1 1 1 1 2 1 1 1 1 1 1 1 1 2 1 1 1 1\n",
      " 1 1 1 1 1 1 1 2 4 4 1 1 4 1 2 1 1 1 1 1 1 1 4 1 4 1 2 1 1 1 1 1 1 1 1 1 1\n",
      " 1 1 1 1 1 1 1 1 4 0 2 0 2 1 2 4 1 1 1 1 4 1 1 1 1 1 4 1 1 3 1 1 1 1 1 1 1\n",
      " 1 1 1 1 3 1 1 1 1 1 4 1 4 1 1 1 1 1 1 1 1 1 1 1 2 1 1 4 1 1 1 4 1 1 1 1 1\n",
      " 4 1 1 1 1 1 1 1 1 1 1 1 1 1 1 1 1 1 2 1 1 1 3 1 1 2 1 1 1 1 1 1 1 1 1 2 2\n",
      " 1 1 1 1 1 4 1 1 1 1 1 1 4 2 4 1 1 1 0 1 1 1 1 2 1 3 1 1 1 1 1 1 2 2 1 1 2\n",
      " 1 4 1 1 1 1 1 1 2 1 1 1 1 1 1 1 1 4 1 4 1 1 2 1 1 1 1 1 1 4 2 1 1 1 1 1 1\n",
      " 1 1 1 4 1 1 1 1 1 1 1 4 4 4 4 1 1 1 1 4 1 4 1 4 1 1 2 1 1 1 1 1 1 1 1 1 1\n",
      " 2 1 1 1 2 2 3 1 1 1 1 1 1 2 1 1 1 1 1 1 2 1 1 1 1 1 1 1 1 1 4 1 1 1 1 1 1\n",
      " 4 1 4 1 1 1 1 1 1 1 1 1 1 1 1 1 1 1 1 1 4 2 1 1 1 1 1 1 1 1 1 1 1 1 1 1 1\n",
      " 1 1 1 1 1 1 1 1 4 1 4 1 1 1 1 1 1 1 2 1 1 1 1 1 1 1 1 1 1 1 1 1 1 1 1 1 1\n",
      " 4 1 1 1 1 4 1 1 1 1 1 1 4 1 1 1 1 1 2 1 4 4 1 1 1 1 1 1 1 1 1 1 1 1 1 1 1\n",
      " 1 1 1 1 1 1 1 1 1 1 1 1 1 1 1 4 1 1 1 2 1 1 1 1 1 1 1 2 1 1 2 1 2 1 4 1 1\n",
      " 1 1 1 1 1 1 1 1 1 1 1 1 1 1 1 1 1 1 1 1 1 1 4 1 1 1 1 1 2 1 1 1 1 1 1 1 1\n",
      " 1 1 1 1 4 1 1 1 1 2 1 1 1 1 4 1 1 1 1 1 1 1 1 1 1 1 1 1 1 1 1 2 1 1 2 1 1\n",
      " 1 1 1 1 1 1 1 1 1 1 1 2 1 1 1 1 1 1 1 2 3 1 1 1 1 4 1 2 4 1 1 1 1 1 1 4 1\n",
      " 1 1 1 1 1 1 4 1 4 1 2 1 1 2 1 1 1 2 1 1 3 1 1 1 1 1 1 2 2 1 1 1 1 4 1 1 1\n",
      " 1 4 1 1 1 1 1 1 1 1 1 1 1 1 1 1 1 1 1 1 1 1 1 1 1 1 1 4 1 1 1 1 1 1 1 4 1\n",
      " 1 1 1 1 1 4 1 1 1 4 0 4 1 2 2 1 0 1 1 2 2 4 2 1 1 0 0 0 2 2 1 4 0 0 1 1 1\n",
      " 1 1 2 1 1 0 1 2 1 1 2 1 0 1 2 1 4 1 2 1 1 1 2 1 1 4 1 1 2 1 1 1 1 1 1 1 1\n",
      " 1 2 1 4 1 1 1 4 2 1 4 1 2 1 1 0 0 1 2 2 2 1 0 1 2 1 1 1 1 0 1 2 1 0 1 4 2\n",
      " 1 4 2 1 1 4 0 1 0 2 1 2 1 4 2 2 1 1 1 1 4 4 1 0 4 4 1 1 1 1 1 1 2 4 4 2 1\n",
      " 2 4 1 1 2 1 1 0 1 1 1 1 1 0 1 1 4 1 1 1 2 0 1 4 1 0 1 2 2 1 1 4 1 1 2 1 2\n",
      " 1 1 1 1 1 2 1 1 4 0 1 1 2 0 1 0 2 1 4 2 1 1 1 0 4 0 1 1 1 1 2 1 0 1 4 1 1\n",
      " 1 1 4 0 1 1 1 1 1 4 0 4 1 0 1 1 2 1 1 1 4 2 2 1 1 1 2 1 2 1 2 0 1 1 1 1 1\n",
      " 2 2 1 1 2 1 0 4 1 1 1 4 0 1 1 0 1 1 1 1 0 1 1 1 2 1 0 1 4 1 1 1 1 0 1 4 1\n",
      " 0 1 1 1 1 1 1 1 1 0 2 1 1 1 2 2 1 1 1 1 1 2 2 1 1 0 1 1 1 1 4 4 1 4 1 4 1\n",
      " 0 1 1 1 1 2 0 2 1 1 1 1 1 1 1 0 1 1 4 2 1 2 0 1 1 1 4 0 1 2 1 2 1 0 1 1 1\n",
      " 4 1 1 0 1 1 1 1 1 1 1 1 1 2 1 1 1 1 2 0 2 1 1 1 1 0 2 1 1 1 1 2 1 1 1 1 2\n",
      " 0 1 1 1 1 1 1 0 1 1 0 2 1 1 0 4 1 1 1 1 1 1 1 1 1 2 2 1 1 4 4 1 3 4 2 1 1\n",
      " 1 2 1 1 1 1 1 1 1 4 1 1 2 0 1 1 1 1 0 1 2 1 0 1 1 2 2 1 1 1 1 2 1 1 1 0 1\n",
      " 1 1 0 2 1 4 1 2 0 0 0 1 2 2 1 2 2 1 2 2 1 2 1 2 2 2 0 4 1 2 2 4 2 1 1 2 4\n",
      " 1 1 2 1 2 1 1 0 2 0 1 1 1 1 1 4 1 4 1 0 1 0 0 0 0 1 1 4 2 1 0 0 1 1 0 4 1\n",
      " 1 1 2 1 2 4 0 1 1 1 4 1 1 0 1 1 0 4 4 1 0 0 4 1 0 1 1 1 0 2 1 0 0 1 1 4 0\n",
      " 1 0 1 4 1 1 4 0 1 0 1 2 0 0 4 1 0 1 1 1 1 2 0 2 2 0 4 0 1 1 1 0 1 2 0 1 1\n",
      " 0 1 2 1 0 1 1 1 0 1 2 1 2 1 4 1 1 2 1 4 2 2 2 1 0 1 1 1 3 4 1 1 1 2 1 0 1\n",
      " 1 1 0 1 0 1 1 0 4 0 4 0 1 2 1 4 0 2 1 1 1 1 1 1 2 1 0 1 1 1 0 1 1 0 2 1 2\n",
      " 1 0 2 1 0 1 4 1 0 2 2 2 1 0 0 1 0 1 0 2 0 0 2 1 2 0 1 1 0 1 1 1 1 1 2 1 1\n",
      " 2 2 1 2 2 0 1 1 2 2 1 2 1 0 1 0 1 2 0 2 2 2 0 0 1 0 1 2 1 2 2 2 0 2 2 0 1\n",
      " 0 2 0 0 1 0 1 2 4 1 1 1 2 1 2 1 2 2 2 1 4 1 0 4 0 1 1 1 1 0 4 1 1 0 1 1 1\n",
      " 1 0 2 1 0 1 4 1 4 1 4 0 1 1 1 2 2 1 0 1 1 0 1 2 1 2 2 1 4 0 4 1 1 0 0 1 2\n",
      " 1 2 2 1 1 2 2 0 2 1 0 4 1 0 1 3 1 0 1 1 0 1 1 0 0 0 0 1 1 1 1 1 1 1 0 0 1\n",
      " 1 1 1 0 2 0 1 0 0 0 1 1 1 1 0 0 1 0 0 1 0 1 1 0 0 1 2 2 0 2 2 1 1 1 1 0 1\n",
      " 1 0 1 0 4 1 0 1 2 0 1 1 1 2 0 0 0 2 4 1 1 3 1 2 1 1 0 1 2 1 1 1 4 2 1 1 0\n",
      " 0 1 1 2 1 4 0 1 4 0 1 0 1 0 1 1 1 0 4 0 0 1 1 1 0 0 0 1 1 1 2 1 0 1 2 0 1\n",
      " 1 0 4 1 0 2 0 1 1 0 0 1 0 1 1 4 1 0 0 0 1 4 2 0 0 2 0 0 0 1 0 2 1 0 4 0 1\n",
      " 1 4 1 1 0 1 0 1 0 4 1 0 1 0 4 1 1 4 1 0 2 0 4 0 1 1 1 4 1 1 0 0 1 0 0 1 1\n",
      " 2 1 1 1 0 1 1 0 0 0 1 2 1 1 1 0 1 1 1 1 4 4 2 1 0 4 2 0 1 0 4 1 4 1 1 2 0\n",
      " 1 0 0 2 1 4 1 1 1 4 1 2 1 1 0 4 1 1 1 1 1 1 1 2 2 0 0 1 1 1 1 1 2 1 0 1 4\n",
      " 2 1 0 1 1 1 1 1 0 0 2 1 1 1 4 1 1 1 1 1 0 0 4 1 1 4 4 4 1 1 1 4 4 1 4 2 4\n",
      " 1 1 1 4 0 0 1 4 2 1 4 4 0 4 1 1 1 4 1 1 1 2 4 1 0 4 4 0 1 4 4 1 1 1 1 2 1\n",
      " 0 2 0 0 2 0 0 1 0 0 0 1 1 2 0 0 0 1 1 0 0 0 0 0 0 0 0 1 0 1 1 1 0 0 0 1 0\n",
      " 0 1 0 1 1 0 0 0 1 0 0 0 0 0 1 1 2 1 1 0 1 1 1 1 1 1 2 1 1 1 2 1 1 2 2 1 1\n",
      " 2 1 1 1 1 1 1 1 2 1 1 2 2 1 2 1 1 1 1 1 2 1 2 1 1 2 1 1 1 2 2 1 2 1 1 2 1\n",
      " 0 2 1 0 1 1 1 0 0 1 1 2 0 0 0 0 0 0 0 0 0 0 0 0 0 0 0 0 0 0 0 0 0 0 0 0 2\n",
      " 0 0 0 0 0 0 1 0 0 0 0 0 0 1 0 0 0 0 0 0 0 4 0 0 0 1 1 1 1 1 4 2 0 1 0 0 0\n",
      " 1 0 0 2 0 0 0 0 1 0 0 1 0 0 0 0 0 0 0 0 0 1 0 0 0 1 1 0 0 1 0 0 0 0 0 0 1\n",
      " 0 1 1 0 0 1 1 0 0 0 0 2 0 0 1 0 0 0 0 0 0 0 0 0 1 0 0 1 0 0 0 0 0 0 1 0 0\n",
      " 0 1 0 0 0 0 0 0 0 0 1 0 1 0 0 0 0 1 0 0 0 0 0 0 1 0 0 0 0 1 0 0 0 0 1 0 1\n",
      " 2 0 1 1 0 0 0 0 0 1 0 0 0 0 2 0 0 0 1 0 0 0 1 1 0 0 0 2 0 0 0 0 1 1 0 1 0\n",
      " 0 0 0 0 0 0 1 1 0 0 0 0 1 0 0 0 0 1 0 0 0 1 1 1 0 0 1 0 0 0 0 0 0 1 1 0 0\n",
      " 0 0 0 0 0 0 0 0 0 0 0 0 0 0 0 0 1 0 0 0 0 0 0 0 0 0 0 1 0 0 0 0 0 0 1 0 0\n",
      " 0 1 0 0 0 0 0 1 1 0 1 0 0 1 1 0 0 0 1 0 0 0 0 0 0 0 0 0 1 0 0 0 1 0 0 0 1\n",
      " 0 0 0 0 0 0 0 0 0 0 0 0 0 0 0 0 0 1 0 0 0 0 0 0 0 0 0 0 0 1 0 1 0 1 0 0 0\n",
      " 4 0 4 0 0 1 1 1 4 0 0 0 0 0 0 1 0 0 1 0 0 1 0 1 0 0 0 0 0 0 0 0 0 0 0 0 0\n",
      " 0 0 0 0 0 0 1 0 0 0 0 0 0 0 0 0 0 0 0 0 0 0 0 0 0 0 0 0 0 1 0 0 0 0 0 0 1\n",
      " 0 0 0 0 0 0 0 0 1 1 0 0 0 0 0 0 0 0 0 0 0 0 0 0 0 0 1 1 0 0 0 0 0 0 1 0 0\n",
      " 1 0 0 0 0 0 0 0 0 0 0 0 0 0 0 1 0 0 4 0 0 0 0 1 0 0 1 0 4 1 0 0 0 1 0 0 0\n",
      " 0 1 0 1 0 0 0 0 0 0 0 0 0 0 0 0 0 0 0 0 1 0 0 0 0 0 0 0 0 0 1 0 0 0 0 0 0\n",
      " 0 0 0 0 0 0 0 0 0 0 0 0 0 0 0 0 0 1 0 0 0 0 0 0 0 0 0 0 0 0 0 0 0 1 0 0 0\n",
      " 0 0 0 0 0 0 0 0 0 2 0 0 0 0 0 0 0 0 0 0 0 0 0 0 0 0 0 2 0 0 0 0 0 0 0 0 0\n",
      " 0 0 0 0 1 1 1 1 1 0 0 0 0 0 0 0 0 0 1 0 0 0 0 0 0 0 0 0 0 0 0 0 0 0 0 0 0\n",
      " 1 0 1 1 1 2 1 2 0 0 0 0 0 0 0 0 0 0 0 1 0 0 0 0 0 0 0 0 0 4 2 0 0 0 0 0 2\n",
      " 1 4 1 1 1 0 0 0 0 0 0 2 0 0 1 1 1 1 0 2 0 0 0 1 0 2 2 2 0 0 0 2 2 1 1 1 1\n",
      " 1 1 0 1 1 1 0 1 2 1 0 1 0 0 0 2 0 1 0 0 0 0 2 0 0 0 1 2 0 0 0 4 0 0 4 2 2\n",
      " 0 1 2 1 1 3 0 0 4 4 0 0 1 1 1 0 0 1 1 1 1 1 1 0 0 1 1 4 1 0 0 4 0 1 1 1 1\n",
      " 1 1 0 0 1 1 1 4 0 1 1 1 0 0 1 1 4 1 2 0 0 4 1 1 0 2 1 1 1 0 0 1 0 1 1 4 1\n",
      " 1 0 0 1 1 3 1 0 3 1 4 1 0 0 0 2 4 2 1 2 0 0 1 4 2 1 0 1 4 1 1 0 0 1 0 1 1\n",
      " 1 2 4 1 0 2 0 1 1 4 1 4 0 0 1 0 4 1 1 1 0 0 2 1 1 1 0 4 1 2 2 0 0 1 4 1 0\n",
      " 0 4 1 4 0 2 4 1 1 0 0 0 4 0 3 4 2 1 1 1 4 1 1 0 1 1 1 0 0 0 4 4 1 1 1 2 2\n",
      " 1 0 0 1 1 1 1 1 1 1 3 1 2 1 4 0 0 1 4 1 1 0 2 2 1 0 0 1 1 1 4 1 1 1 0 2 1\n",
      " 3 1 4 1 4 0 0 1 4 1 1 1 1 4 0 0 1 4 1 3 0 1 0 0 1 2 1 1 1 1 1 0 1 1 2 1 2\n",
      " 2 2 1 1 2 0 0 1 1 4 1 1 1 1 3 4 2 1 4 0 0 1 2 2 4 0 0 4 1 0 1 4 1 1 1 2 1\n",
      " 1 1 4 0 2 1 1 2 0 2 1 2 0 2 2 2 1 1 0 0 0 1 1 1 0 2 1 1 1 2 2 2 0 0 0 1 0\n",
      " 1 2 1 1 2 0 0 0 0 1 1 1 1 0 1 4 2 1 2 0 0 3 0 4 1 2 0 2 1 1 1 1 1 0 1 4 1\n",
      " 1 1 1 0 1 2 2 1 0 2 0 0 0 2 1 0 0 0 0 2 0 1 0 0 1 0 2 0 0 0 0 0 0 2 2 0 1\n",
      " 0 0 1 1 0 0 0 2 2 0 0 0 1 4 0 4 0 1 0 0 4 4 4 0 1 4 0 0 0 0 0 0 0 0 0 0 0\n",
      " 1 0 1 1 0 0 0 1 0 1 0 2 4 0 1 0 0 1 0 0 1 0 0 0 1 0 1 1 0 0 1 0 0 0 0 0 0\n",
      " 0 1 0 0 0 1 0 0 0 0 1 0 0 0 0 0 0 0 1 4 2 0 1 0 1 4 0 0 4 0 1 0 1 0 0 0 1\n",
      " 0 1 1 0 1 1 0 2 0 0 1 0 0 1 0 0 0 2 0 0 0 1 0 1 0 1 1 1 0 0 0 0 0 0 0 0 0\n",
      " 0 0 2 0 2 0 1 1 0 0 0 1 2 0 0 1 1 0 2 0 1 1 0 0 0 0 0 0 0 0 0 4 0 0 0 1 0\n",
      " 1 0 1 0 0 0 0 0 0 0 1 4 1 0 0 1 1 0 0 4 4 0 4 0 4 0 0 0 4 0 0 0 2 0 0 0 0\n",
      " 1 0 0 0 1 4 0 1 0 0 1 4 0 0 0 0 1 0 1 0 0 0 0 0 0 0 1 0 1 0 2 0 4 0 1 0 0\n",
      " 0 2 1 0 1 0 2 0 0 1 1 1 0 0 0 4 0 0 4 0 0 0 1 0 0 0 2 0 1 2 0 0 1 1 0 1 1\n",
      " 0 1 0 1 1 0 1 1 0 0 1 0 0 0 2 0 1 2 1 0 2 0 0 0 0 0 0 0 0 1 4 1 0 1 1 1 0\n",
      " 0 1 0 0 3 0 0 0 0 1 0 1 0 1 0 1 1 0 1 4 0 0 0 0 0 0 0 0 0 0 0 4 0 2 0 0 0\n",
      " 2 1 1 0 0 2 4 0 2 0 1 2 0 1 0 1 0 1 0 0 4 0 0 1 0 0 0 0 0 0 4 0 1 1 1 0 0\n",
      " 3 0 4 1 1 0 1 1 0 1 1 0 0 1 4 0 0 4 0 1 0 0 1 0 1 4 4 0 0 1 0 1 1 0 4 0 0\n",
      " 0 2 0 1 2 0 1 0 1 0 0 1 4 0 1 0 0 1 1 1 0 0 1 1 0 0 1 2 1 0 4 1 1 1 4 1 0\n",
      " 0 2 1 2 0 0 0 1 2 1 1 1 0 2 1 1 1 0 2 1 2 0 1 4 1 1 1 1 0 4 1 4 1 1 2 1 4\n",
      " 1 0 0 1 1 4 2 0 0 0 1 1 1 3 1 1 1 0 2 1 2 0 0 0 2 1 1 1 1 1 0 1 1 0 1 1 1\n",
      " 0 0 1 2 1 1 0 0 1 1 0 0 1 1 0 0 1 1 0 4 1 4 0 0 0 1 1 0 0 0 1 1 0 1 4 0 1\n",
      " 1 1 1 1 1 0 1 1 1 0 0 1 1 1 1 1 2 0 0 1 1 1 4 0 1 2 1 0 0 1 1 1 1 2 0 0 1\n",
      " 2 1 1 1 0 4 1 3 1 0 0 0 0 1 0 1 0 0 1 1 1 0 0 2 2 0 0 1 0 0 0 2 1 2 0 0 4\n",
      " 0 0 1 1 1 0 1 2 1 0 0 0 1 1 0 1 0 0 1 1 1 4 0 0 1 2 0 0 1 1 0 0 1 1 0 2 0\n",
      " 0 4 1 0 0 1 4 1 1 0 0 1 1 0 0 1 0 4 4 0 0 0 1 4 0 0 1 0 0 1 1 0 0 0 2 2 0\n",
      " 1 0 1 1 0 1 4 1 0 0 1 0 0 0 1 1 4 0 0 0 0 0 1 0 0 0 0 1 0 0 0 4 1 0 2 1 0\n",
      " 1 0 1 0 0 0 0 1 2 0 0 1 0 0 1 1 0 1 1 0 1 1 2 0 0 1 2 2 0 0 0 1 1 4 0 0 1\n",
      " 0 2 4 0 2 1 1 1 2 0 0 2 1 0 0 1 1 2 1 0 3 0 0 1 0 0 2 0 0 4 2 0 0 2 2 2 1\n",
      " 0 0 1 2 1 0 0 0 0 4 1 1 0 0 1 1 0 0 1 4 0 0 1 1 0 4 0 0 0 4 1 0 1 1 0 1 0\n",
      " 0 4 1 0 0 1 1 0 0 0 1 0 0 1 1 0 0 0 4 0 4 1 2 0 0 1 0 2 3 0 0 0 4 1 0 1 1\n",
      " 1 0 4 4 0 0 1 0 1 1 3 1 0 4 1 0 0 0 0 0 0 1 0 4 0 0 1 1 0 1 0 1 0 0 1 1 1\n",
      " 0 2 0 0 0 1 1 0 0 1 0 0 2 0 2 0 0 0 1 0 0 3 1 0 4 4 1 0 1 1 1 0 0 0 1 1 1\n",
      " 0 0 1 1 0 1 1 0 0 4 1 0 0 1 0 1 1 1 0 0 1 4 2 0 0 0 0 4 0 1 1 0 1 2 1 1 2\n",
      " 1 0 1 1 1 1 1 0 1 1 1 2 1 1 1 1 1 2 1 1 1 1 1 1 1 1 1 1 1 1 1 1 1 1 1 1 1\n",
      " 1 2 2 1 1 0 1 1 0 1 2 1 1 2 1 0 1 1 1 1 1 0 1 1 1 2 1 1 1 1 1 2 1 1 1 1 1\n",
      " 1 1 1 1 1 1 1 1 1 1 1 1 1 1 1 2 2 1 1 4 0 0 0 0 1 1 0 0 0 0 0 1 1 0 0 0 1\n",
      " 2 0 4 4 1 0 0 0 0 0 0 0 2 0 0 0 1 0 0 4 1 0 0 2 1 1 0 0 1 1 2 0 0 1 4 0 0\n",
      " 0 0 1 1 1 1 0 0 0 1 0 3 0 2 1 0 3 0 1 1 1 1 1 0 1 1 0 4 0 1 0 0 2 1 1 2 1\n",
      " 0 1 0 0 1 0 0 0 1 1 0 2 1 0 1 0 0 0 1 2 2 0 0 1 0 1 1 1 0 2 4 1 1 0 0 2 1\n",
      " 0 0 1 0 1 1 0 1 4 0 0 1 1 0 1 0 0 1 1 1 1 0 0 0 0 0 2 0 0 1 0 0 0 1 1 0 1\n",
      " 0 1 1 1 1 0 1 1 2 1 0 1 0 1 0 1 0 1 1 1 1 1 1 1 1 0 1 1 1 1 1 2 1 4 3 1 1\n",
      " 2 0 0 1 1 2 0 1 1 1 1 1 1 1 1 0 2 0 1 0 0 1 0 0 0 1 0 0 1 1 0 1 0 1 0 4 2\n",
      " 1 0 1 3 2 1 1 1 0 1 1 2 1 2 1 1 0 4 0 0 1 0 1 1 2 2 2 2 2 1 2 0 1 0 1 1 1\n",
      " 4 4 0 1 1 0 2 1 0 1 0 1 0 1 1 0 0 0 1 1 0 0 1 4 0 1 1 1 0 1 0 0 1 1 1 1 0\n",
      " 0 0 0 1 0 0 0 0 0 0 1 0 0 1 0 0 0 1 0 1 1 1 1 1 0 2 0 1 1 0 0 2 4 1 0 0 1\n",
      " 1 0 0 1 0 1 1 1 0 0 1 0 0 0 0 0 2 1 0 2 2 0 1 1 1 0 2 0 2 1 1 0 1 1 4 1 1\n",
      " 4 0 1 1 0 1 1 0 1 0 1 1 1 1 1 1 1 1 1 1 4 1 1 1 0 0 0 1 4 1 1 2 0 1 0 4 1\n",
      " 1 1 4 1 0 1 1 1 0 0 1 1 1 0 1 2 0 0 0 0 0 0 1 0 1 0 1 0 1 2 0 1 0 1 2 0 1\n",
      " 0 0 0 0 1 0 1 1 2 1 0 0 1 1 1 0 1 0 0 0 0 1 0 0 1 1 1 0 0 0 0 2 1 0 0 0 0\n",
      " 1 1 0 0 0 1 2 1 2 0 1 0 0 1 0 0 0 2 0 1 1 1 0 0 0 0 1 2 0 0 1 1 1 1 1 1 2\n",
      " 0 0 0 0 1 1 0 1 1 1 0 0 0 0 0 1 1 1 0 0 0 0 0 0 1 0 0 0 1 0 4 0 1 0 2 0 0\n",
      " 1 1 2 0 0 0 0 1 0 0 1 1 1 1 1 1 0 1 0 0 0 1 0 0 0 1 4 0 0 0 0 1 1 1 1 0 1\n",
      " 1 0 0 0 0 0 0 0 1 3 0 0 0 0 4 0 0 2 2 1 4 3 1 0 0 0 1 0 0 0 0 2 0 0 1 0 0\n",
      " 0 1 0 0 0 0 4 0 0 2 1 0 0 0 1 0 0 1 0 0 0 2 1 1 0 0 0 4 0 0 0 1 1 4 1 0 0\n",
      " 0 2 0 0 1 0 0 0 0 2 0 2 4 1 0 1 2 0 0 2 1 0 0 1 2 2 0 0 0 1 4 0 1 0 1 2 0\n",
      " 1 1 4 1 1 1 1 1 1 2 1 1 2 1 1 1 2 1 1 1 4 1 2 0 1 1 1 1 4 1 1 1 4 1 1 4 1\n",
      " 1 1 4 1 0 1 1 2 1 1 1 1 2 1 1 1 1 1 1 1]\n"
     ]
    }
   ],
   "source": [
    "#prediction\n",
    "print(y_kmodes_huang)"
   ]
  },
  {
   "cell_type": "code",
   "execution_count": 67,
   "id": "af19a3fc",
   "metadata": {},
   "outputs": [
    {
     "name": "stdout",
     "output_type": "stream",
     "text": [
      "Init: initializing centroids\n",
      "Init: initializing clusters\n",
      "Starting iterations...\n",
      "Run 1, iteration: 1/100, moves: 0, cost: 31399.0\n",
      "Init: initializing centroids\n",
      "Init: initializing clusters\n",
      "Starting iterations...\n",
      "Run 1, iteration: 1/100, moves: 2, cost: 29828.0\n",
      "Init: initializing centroids\n",
      "Init: initializing clusters\n",
      "Starting iterations...\n",
      "Run 1, iteration: 1/100, moves: 22, cost: 29419.0\n",
      "Init: initializing centroids\n",
      "Init: initializing clusters\n",
      "Starting iterations...\n",
      "Run 1, iteration: 1/100, moves: 38, cost: 29143.0\n"
     ]
    }
   ],
   "source": [
    "#append list cost of kmodes with cao initialization\n",
    "cost = []\n",
    "for num_clusters in list(range(1,5)):\n",
    "    kmode = KModes(n_clusters = num_clusters, init = 'Cao', n_init = 1, verbose = 1)\n",
    "    kmode.fit_predict(df_facebook)\n",
    "    cost.append(kmode.cost_)"
   ]
  },
  {
   "cell_type": "code",
   "execution_count": 68,
   "id": "aeb1657b",
   "metadata": {},
   "outputs": [
    {
     "data": {
      "image/png": "[encoded data removed]",
      "text/plain": [
       "<Figure size 432x288 with 1 Axes>"
      ]
     },
     "metadata": {
      "needs_background": "light"
     },
     "output_type": "display_data"
    }
   ],
   "source": [
    "#plotting dataframe based on cost\n",
    "y = np.array([i for i in range(1,5,1)])\n",
    "plt.plot(y, cost, color = 'darkorange')\n",
    "plt.grid(color = 'darkgray', linestyle = ':', linewidth = 1)\n",
    "plt.title('Dataframe based on Cost Value', fontsize = 15, pad = 12, fontweight = 'bold')\n",
    "plt.xlabel('Number of Clusters', fontsize = 12)\n",
    "plt.ylabel('Cost Value', fontsize = 12)\n",
    "plt.show()"
   ]
  },
  {
   "cell_type": "code",
   "execution_count": 69,
   "id": "6a069751",
   "metadata": {},
   "outputs": [
    {
     "data": {
      "text/html": [
       "<div>\n",
       "<style scoped>\n",
       "    .dataframe tbody tr th:only-of-type {\n",
       "        vertical-align: middle;\n",
       "    }\n",
       "\n",
       "    .dataframe tbody tr th {\n",
       "        vertical-align: top;\n",
       "    }\n",
       "\n",
       "    .dataframe thead th {\n",
       "        text-align: right;\n",
       "    }\n",
       "</style>\n",
       "<table border=\"1\" class=\"dataframe\">\n",
       "  <thead>\n",
       "    <tr style=\"text-align: right;\">\n",
       "      <th></th>\n",
       "      <th>status_type</th>\n",
       "      <th>num_reactions</th>\n",
       "      <th>num_comments</th>\n",
       "      <th>num_shares</th>\n",
       "      <th>num_likes</th>\n",
       "      <th>num_loves</th>\n",
       "      <th>num_wows</th>\n",
       "      <th>num_hahas</th>\n",
       "      <th>num_sads</th>\n",
       "      <th>num_angrys</th>\n",
       "      <th>cluster_predicted</th>\n",
       "    </tr>\n",
       "  </thead>\n",
       "  <tbody>\n",
       "    <tr>\n",
       "      <th>0</th>\n",
       "      <td>3</td>\n",
       "      <td>529</td>\n",
       "      <td>512</td>\n",
       "      <td>262</td>\n",
       "      <td>432</td>\n",
       "      <td>92</td>\n",
       "      <td>3</td>\n",
       "      <td>1</td>\n",
       "      <td>1</td>\n",
       "      <td>0</td>\n",
       "      <td>1</td>\n",
       "    </tr>\n",
       "    <tr>\n",
       "      <th>1</th>\n",
       "      <td>1</td>\n",
       "      <td>150</td>\n",
       "      <td>0</td>\n",
       "      <td>0</td>\n",
       "      <td>150</td>\n",
       "      <td>0</td>\n",
       "      <td>0</td>\n",
       "      <td>0</td>\n",
       "      <td>0</td>\n",
       "      <td>0</td>\n",
       "      <td>0</td>\n",
       "    </tr>\n",
       "    <tr>\n",
       "      <th>2</th>\n",
       "      <td>3</td>\n",
       "      <td>227</td>\n",
       "      <td>236</td>\n",
       "      <td>57</td>\n",
       "      <td>204</td>\n",
       "      <td>21</td>\n",
       "      <td>1</td>\n",
       "      <td>1</td>\n",
       "      <td>0</td>\n",
       "      <td>0</td>\n",
       "      <td>2</td>\n",
       "    </tr>\n",
       "    <tr>\n",
       "      <th>3</th>\n",
       "      <td>1</td>\n",
       "      <td>111</td>\n",
       "      <td>0</td>\n",
       "      <td>0</td>\n",
       "      <td>111</td>\n",
       "      <td>0</td>\n",
       "      <td>0</td>\n",
       "      <td>0</td>\n",
       "      <td>0</td>\n",
       "      <td>0</td>\n",
       "      <td>0</td>\n",
       "    </tr>\n",
       "    <tr>\n",
       "      <th>4</th>\n",
       "      <td>1</td>\n",
       "      <td>213</td>\n",
       "      <td>0</td>\n",
       "      <td>0</td>\n",
       "      <td>204</td>\n",
       "      <td>9</td>\n",
       "      <td>0</td>\n",
       "      <td>0</td>\n",
       "      <td>0</td>\n",
       "      <td>0</td>\n",
       "      <td>0</td>\n",
       "    </tr>\n",
       "  </tbody>\n",
       "</table>\n",
       "</div>"
      ],
      "text/plain": [
       "   status_type  num_reactions  num_comments  num_shares  num_likes  num_loves  \\\n",
       "0            3            529           512         262        432         92   \n",
       "1            1            150             0           0        150          0   \n",
       "2            3            227           236          57        204         21   \n",
       "3            1            111             0           0        111          0   \n",
       "4            1            213             0           0        204          9   \n",
       "\n",
       "   num_wows  num_hahas  num_sads  num_angrys  cluster_predicted  \n",
       "0         3          1         1           0                  1  \n",
       "1         0          0         0           0                  0  \n",
       "2         1          1         0           0                  2  \n",
       "3         0          0         0           0                  0  \n",
       "4         0          0         0           0                  0  "
      ]
     },
     "execution_count": 69,
     "metadata": {},
     "output_type": "execute_result"
    }
   ],
   "source": [
    "#combining prediction of cluster with original dataframe\n",
    "df_facebook_copy = df_facebook.copy()\n",
    "df_facebook = df_facebook_copy.reset_index()\n",
    "\n",
    "cluster_df = pd.DataFrame(y_kmodes_cao)\n",
    "cluster_df.columns = ['cluster_predicted']\n",
    "combine_df = pd.concat([df_facebook, cluster_df], axis = 1).reset_index()\n",
    "combine_df = combine_df.drop(columns = ['index', 'level_0'], axis = 1)\n",
    "combine_df.head()"
   ]
  },
  {
   "cell_type": "code",
   "execution_count": 70,
   "id": "0bb11079",
   "metadata": {},
   "outputs": [
    {
     "data": {
      "image/png": "[encoded data removed]",
      "text/plain": [
       "<Figure size 576x288 with 1 Axes>"
      ]
     },
     "metadata": {
      "needs_background": "light"
     },
     "output_type": "display_data"
    }
   ],
   "source": [
    "#visualize the result based on attribute\n",
    "plt.figure(figsize = (8,4))\n",
    "sns.countplot(x = combine_df['status_type'], order = combine_df['status_type'].value_counts().index, \n",
    "              hue = combine_df['cluster_predicted'])\n",
    "plt.grid(color = 'darkgray', linestyle = ':', linewidth = 1)\n",
    "plt.title('Cluster Prediction based on Status Type', fontsize = 15, pad = 12, fontweight = 'bold')\n",
    "plt.xlabel('Status Type', fontsize = 12)\n",
    "plt.ylabel('Count', fontsize = 12)\n",
    "plt.legend(loc = 'right', bbox_to_anchor = (1.17, 0.81), ncol = 1)\n",
    "plt.show()"
   ]
  },
  {
   "cell_type": "markdown",
   "id": "86d3e75b",
   "metadata": {},
   "source": [
    "## K-Medoids Clustering"
   ]
  },
  {
   "cell_type": "code",
   "execution_count": 71,
   "id": "210b9258",
   "metadata": {},
   "outputs": [
    {
     "name": "stdout",
     "output_type": "stream",
     "text": [
      "      status_type  num_reactions  num_comments  num_shares  num_likes  \\\n",
      "3446     0.333333       0.028875      0.001286    0.001168   0.028025   \n",
      "3757     0.333333       0.003185      0.000000    0.000000   0.003185   \n",
      "2801     0.333333       0.001062      0.000000    0.000000   0.001062   \n",
      "\n",
      "      num_loves  num_wows  num_hahas  num_sads  num_angrys  \n",
      "3446   0.004566  0.003597        0.0       0.0         0.0  \n",
      "3757   0.000000  0.000000        0.0       0.0         0.0  \n",
      "2801   0.000000  0.000000        0.0       0.0         0.0  \n"
     ]
    }
   ],
   "source": [
    "#define function for initialization of medoids\n",
    "def init_medoids(X, k):\n",
    "    samples = choice(len(X), size = k, replace = False)\n",
    "    return X.iloc[samples, :]\n",
    "\n",
    "medoids_initial = init_medoids(df_norm, 3)\n",
    "print(medoids_initial)"
   ]
  },
  {
   "cell_type": "code",
   "execution_count": 72,
   "id": "2fa96c0b",
   "metadata": {},
   "outputs": [
    {
     "name": "stdout",
     "output_type": "stream",
     "text": [
      "==========EUCLIDEAN DISTANCE==========\n",
      "\n",
      "[[6.93182874e-01 7.00565678e-01 7.01170896e-01]\n",
      " [7.76203320e-03 4.05347836e-02 4.35373602e-02]\n",
      " [6.67968063e-01 6.70491852e-01 6.70768112e-01]\n",
      " ...\n",
      " [4.01024446e-02 4.33242688e-03 1.85570213e-03]\n",
      " [6.51900975e-02 1.00839348e-01 1.03834608e-01]\n",
      " [3.56552480e-02 6.00515313e-04 3.60309188e-03]]\n"
     ]
    }
   ],
   "source": [
    "#define function for distances of medoids\n",
    "def distance(X, medoids):\n",
    "    m = len(X)\n",
    "    X = X.values\n",
    "    medoids_shape = medoids.shape\n",
    "    \n",
    "    if len(medoids_shape) == 1: \n",
    "        medoids = medoids.reshape((1, len(medoids)))\n",
    "    k = len(medoids)\n",
    "    S = np.empty((m, k))\n",
    "    \n",
    "    for i in range(m):\n",
    "        S[i, :] = np.linalg.norm(medoids - X[i, :], axis = 1).reshape(1, len(medoids))\n",
    "    return S\n",
    "\n",
    "print('==========EUCLIDEAN DISTANCE==========\\n')\n",
    "first_distance = distance(df_norm, medoids_initial)\n",
    "np.set_printoptions(threshold = 5)\n",
    "print(first_distance)"
   ]
  },
  {
   "cell_type": "code",
   "execution_count": 73,
   "id": "dc29de85",
   "metadata": {
    "scrolled": true
   },
   "outputs": [
    {
     "name": "stdout",
     "output_type": "stream",
     "text": [
      "===========================RESULT FIRST CLUSTERING==========================\n",
      "\n",
      "[0 0 0 0 0 0 0 0 0 0 0 0 0 0 0 0 0 0 0 0 0 0 0 1 0 1 0 0 0 0 0 1 0 0 0 0 0\n",
      " 0 1 0 0 0 0 0 0 0 0 0 0 0 0 0 0 0 0 0 0 0 0 0 0 0 0 0 1 0 0 0 0 0 1 0 0 0\n",
      " 0 1 0 0 0 1 0 0 0 0 0 1 0 0 0 1 1 1 0 0 0 1 0 0 0 0 1 1 1 1 0 0 0 0 0 0 0\n",
      " 0 0 0 0 0 0 0 0 0 0 0 0 0 0 0 1 0 0 0 0 1 1 1 1 1 2 2 1 1 0 0 0 0 0 0 0 0\n",
      " 0 0 0 0 0 0 0 0 1 1 1 0 0 0 1 0 0 0 0 0 0 0 1 0 1 0 0 1 1 0 0 0 1 0 1 0 1\n",
      " 0 0 0 0 1 0 1 1 0 0 1 0 0 0 1 1 1 1 0 1 0 0 0 0 1 1 1 1 1 0 1 0 0 0 0 0 0\n",
      " 0 0 0 0 0 1 0 0 0 0 0 0 0 0 0 1 0 0 0 0 0 0 0 0 0 0 0 0 0 0 0 0 0 0 0 0 0\n",
      " 0 0 0 0 1 0 1 0 0 1 0 1 0 0 1 1 1 1 0 0 0 0 0 0 0 0 1 1 0 0 0 0 1 0 0 0 0\n",
      " 0 0 0 0 1 0 0 0 0 0 0 0 0 0 0 0 0 0 2 1 0 0 0 0 0 1 1 1 0 0 0 0 0 0 0 0 0\n",
      " 1 1 0 0 0 0 0 0 0 0 0 0 1 0 0 0 0 0 0 0 0 0 0 0 0 0 1 0 0 0 0 0 1 1 0 1 0\n",
      " 0 0 0 0 0 0 0 0 0 0 1 0 0 0 0 0 0 0 0 0 0 0 0 0 0 0 0 0 0 0 0 0 0 0 0 0 0\n",
      " 0 0 0 0 0 0 0 0 0 0 0 0 0 0 0 0 0 0 0 0 0 0 0 0 0 0 0 0 0 0 0 0 0 0 0 0 0\n",
      " 0 0 0 0 0 0 0 0 0 0 0 0 0 0 0 0 0 0 0 0 0 0 0 0 0 0 0 0 0 0 0 0 1 0 0 0 0\n",
      " 0 0 0 0 0 0 0 0 0 1 0 0 0 0 0 0 0 0 0 0 0 0 0 0 0 1 0 0 0 0 0 0 0 0 1 1 2\n",
      " 0 0 0 0 0 1 0 0 0 0 0 0 0 0 0 0 2 2 0 0 1 1 1 0 0 1 0 0 0 1 1 1 1 0 0 1 1\n",
      " 1 0 0 0 0 0 1 0 0 0 2 1 0 0 1 1 0 0 0 0 1 1 0 0 1 0 0 0 0 0 0 0 0 0 0 0 0\n",
      " 1 0 0 1 0 0 1 0 0 0 1 0 1 1 0 0 0 0 0 1 0 0 0 0 1 0 0 0 1 0 0 0 0 0 0 0 0\n",
      " 0 0 0 0 0 0 0 0 0 0 0 1 0 1 0 1 0 0 0 1 1 0 0 0 0 0 0 0 0 0 0 0 0 0 0 0 0\n",
      " 0 0 0 0 1 1 0 0 0 0 0 0 0 0 1 1 0 1 0 1 0 0 0 0 0 0 0 0 0 0 0 0 0 2 0 0 0\n",
      " 0 1 0 0 0 0 0 0 0 0 1 0 2 0 0 1 1 1 0 0 1 1 0 0 1 1 0 0 0 0 0 1 1 1 0 1 0\n",
      " 0 0 0 0 0 1 0 1 0 0 0 0 0 0 0 0 0 0 1 0 1 0 1 1 1 0 0 0 0 0 0 0 0 0 0 0 0\n",
      " 0 0 0 0 0 0 0 0 0 0 0 0 0 0 0 0 1 1 1 1 0 1 0 0 0 0 0 0 0 1 0 1 0 0 0 0 1\n",
      " 0 0 0 0 0 1 0 0 0 0 0 0 0 0 0 0 0 0 0 1 0 0 0 0 0 0 0 0 0 0 0 0 0 0 0 1 1\n",
      " 0 0 0 0 0 0 0 0 1 1 0 0 0 0 0 0 0 0 0 0 0 0 1 0 1 0 1 1 0 1 1 0 0 0 0 0 1\n",
      " 0 0 0 0 0 1 0 1 1 1 1 1 1 1 0 0 1 1 0 0 0 1 0 1 0 0 1 0 1 0 1 1 1 2 1 1 1\n",
      " 2 0 0 1 0 0 0 0 0 0 1 0 0 0 0 0 0 0 0 0 0 0 0 0 0 0 0 0 0 0 1 0 0 0 0 0 0\n",
      " 0 0 1 0 0 0 0 0 0 0 0 0 1 1 0 0 1 1 1 0 0 0 0 0 0 0 1 0 0 0 0 0 0 0 0 0 0\n",
      " 0 0 0 0 0 0 1 0 0 0 1 0 0 0 0 0 0 0 0 0 0 0 0 0 0 0 0 0 0 0 0 0 0 0 0 0 0\n",
      " 0 0 0 0 0 0 0 0 0 0 2 0 0 0 0 0 0 0 0 0 0 0 0 0 0 0 0 0 0 0 0 0 0 0 0 0 0\n",
      " 0 0 0 0 0 0 0 0 0 0 0 0 0 0 0 0 0 0 0 0 0 0 0 0 0 0 0 0 0 0 0 0 0 0 0 0 0\n",
      " 0 0 0 0 0 0 0 0 0 0 0 0 0 0 0 0 0 0 0 0 0 0 0 0 0 0 0 0 0 0 0 0 0 0 0 0 0\n",
      " 0 0 0 0 0 0 0 0 0 0 0 2 1 2 0 0 0 0 0 0 0 0 0 0 0 0 0 0 0 0 0 0 0 1 0 0 0\n",
      " 2 0 0 0 0 0 0 0 0 0 0 0 0 0 0 0 0 0 0 0 0 0 0 0 0 0 0 0 0 0 0 0 0 0 0 0 0\n",
      " 0 0 0 0 0 0 0 0 0 0 0 0 0 0 0 0 0 0 0 0 0 0 0 0 0 0 0 0 0 0 0 0 0 0 0 0 0\n",
      " 0 0 0 0 0 0 0 0 0 0 0 0 0 0 0 0 0 0 0 0 0 0 0 0 0 0 0 0 0 0 0 0 0 0 0 0 0\n",
      " 0 0 0 0 0 0 0 0 0 0 0 0 0 0 0 0 0 0 0 1 1 0 0 0 0 0 2 0 2 2 2 1 1 0 0 0 0\n",
      " 0 0 0 0 0 0 0 0 0 0 0 0 0 0 0 0 0 0 0 0 0 0 0 0 0 0 0 0 0 0 0 0 0 0 0 0 0\n",
      " 0 0 0 0 0 0 0 0 0 0 0 0 0 0 0 0 0 0 1 0 0 0 0 0 0 0 0 0 0 0 0 0 0 0 0 0 0\n",
      " 0 0 0 0 0 0 0 0 0 0 0 0 0 0 0 0 0 0 0 0 0 0 0 0 0 0 0 0 0 1 0 0 0 0 0 0 0\n",
      " 0 0 0 0 0 0 0 0 0 0 0 0 0 0 0 0 0 0 0 0 0 0 0 0 0 0 0 0 0 0 0 0 0 0 0 0 0\n",
      " 1 0 1 2 0 0 0 0 0 0 0 0 0 0 0 0 0 0 0 0 0 0 0 0 0 0 0 0 0 0 0 0 0 0 0 0 0\n",
      " 0 0 0 0 0 0 0 0 0 0 0 0 2 0 0 0 0 0 0 0 0 0 1 0 0 0 0 0 0 0 0 0 0 0 1 1 0\n",
      " 0 0 1 1 1 0 1 1 0 0 1 0 1 0 0 2 0 1 0 0 0 0 0 0 0 0 0 0 0 0 0 0 0 0 1 0 0\n",
      " 0 1 0 0 0 1 1 0 0 1 0 0 0 0 1 1 1 0 0 0 1 1 0 0 1 0 0 0 0 0 0 1 0 0 0 1 1\n",
      " 0 1 0 0 1 0 0 0 0 0 0 0 0 0 0 1 0 0 0 0 0 0 0 0 0 0 0 0 1 0 1 0 0 0 0 0 0\n",
      " 1 0 0 0 0 0 1 2 1 1 0 1 0 1 0 0 1 1 1 0 0 0 0 0 1 0 0 0 1 0 1 0 1 0 0 0 0\n",
      " 1 0 0 0 0 0 1 1 0 1 1 1 1 1 1 1 1 1 1 1 0 1 1 1 1 0 0 0 1 0 1 2 0 1 2 1 1\n",
      " 0 1 1 1 1 1 1 1 2 2 0 1 1 0 0 2 0 1 0 1 1 0 0 1 1 0 1 1 1 1 0 0 1 1 1 1 1\n",
      " 1 1 2 1 2 1 1 1 1 1 1 1 1 1 1 1 1 1 1 1 1 1 1 1 1 1 1 0 1 1 1 2 1 0 1 1 1\n",
      " 2 1 1 1 0 1 1 0 1 1 1 0 1 1 2 2 2 2 1 1 1 0 0 1 1 2 1 0 1 1 0 1 1 0 2 1 1\n",
      " 1 1 1 1 1 2 2 1 2 0 1 1 1 1 0 2 1 0 1 0 0 0 0 1 1 1 1 2 1 1 0 0 1 1 1 0 1\n",
      " 1 1 1 1 1 1 1 1 1 1 0 1 1 2 1 1 1 1 1 1 2 2 1 1 1 1 1 1 1 1 1 1 1 1 1 1 0\n",
      " 1 1 1 1 1 1 1 1 1 1 1 1 1 0 1 1 1 2 1 1 1 1 1 1 1 1 2 1 1 1 1 1 1 0 1 1 0\n",
      " 0 1 1 0 1 1 1 1 1 1 1 1 1 1 1 0 1 1 1 1 1 1 1 1 1 1 1 1 1 0 1 1 1 0 1 1 1\n",
      " 1 1 0 1 1 2 1 1 2 1 1 1 2 1 1 1 1 1 2 1 1 1 1 1 1 0 0 1 1 1 1 1 2 1 1 1 1\n",
      " 1 1 1 1 1 1 1 1 1 1 1 2 2 2 2 2 1 1 1 1 1 1 1 1 1 1 1 1 1 1 1 1 1 1 1 1 1\n",
      " 1 1 1 1 1 1 1 1 1 1 1 1 1 1 1 1 1 1 1 1 1 1 1 1 1 1 1 1 1 1 1 1 1 1 1 2 1\n",
      " 1 1 1 1 1 1 1 1 1 1 1 1 1 1 1 1 1 1 1 1 1 1 1 1 1 1 1 1 1 1 1 1 1 1 1 1 1\n",
      " 1 1 1 1 1 1 1 1 1 1 1 1 1 1 1 1 1 1 2 1 1 1 1 1 2 1 1 1 1 1 1 1 1 1 1 1 2\n",
      " 1 1 1 1 1 1 1 1 2 1 1 1 1 1 1 1 1 1 1 1 1 1 1 1 1 1 1 1 1 1 1 1 1 1 1 2 1\n",
      " 1 2 1 1 1 1 1 1 1 1 1 2 1 1 2 1 2 1 1 1 1 1 2 2 1 1 2 1 1 2 1 1 2 1 1 1 1\n",
      " 1 2 1 1 1 1 1 1 1 1 1 1 2 1 0 1 1 1 1 1 1 1 1 1 1 1 1 1 1 1 1 1 1 1 1 2 1\n",
      " 1 1 1 1 1 1 1 1 1 1 1 1 1 1 1 1 1 1 1 1 1 1 1 1 1 1 1 1 1 2 1 1 1 1 1 1 1\n",
      " 1 1 1 1 1 1 1 1 1 1 1 1 1 1 1 1 1 1 1 1 1 1 1 1 1 1 1 1 1 1 1 1 1 1 1 1 1\n",
      " 1 1 1 1 1 1 2 2 1 1 1 1 1 1 1 1 1 1 1 1 1 1 1 1 1 1 1 1 1 1 1 1 1 1 1 1 2\n",
      " 1 1 1 1 1 1 1 1 1 1 1 1 1 1 1 1 1 2 1 1 1 2 1 1 1 1 1 1 1 1 1 1 1 1 1 1 1\n",
      " 2 1 1 1 1 1 1 1 1 1 1 1 1 1 1 1 1 1 1 1 1 1 1 1 1 1 1 1 1 1 1 1 1 1 1 1 1\n",
      " 1 1 1 1 1 1 1 1 1 1 1 1 1 1 1 1 1 1 1 1 2 1 1 1 1 1 1 1 1 1 1 1 1 1 1 1 1\n",
      " 1 1 1 1 1 1 1 1 1 1 1 1 1 1 2 1 1 1 2 1 1 1 2 1 1 1 1 1 1 1 1 1 1 1 1 1 1\n",
      " 1 1 1 1 1 1 1 1 1 1 1 1 1 1 1 1 1 1 1 1 1 1 1 1 1 1 1 1 1 1 1 1 1 1 1 1 1\n",
      " 1 1 1 1 1 1 1 1 2 1 1 1 1 1 1 1 1 1 1 1 1 1 1 1 1 1 1 1 1 1 1 1 2 1 1 1 1\n",
      " 1 1 1 1 1 1 1 1 2 1 0 1 2 0 1 1 0 2 0 1 1 1 1 2 1 1 0 0 2 1 0 1 0 0 2 1 1\n",
      " 0 2 0 2 1 0 0 1 1 1 2 1 0 0 0 1 2 0 1 1 1 1 0 2 0 1 1 1 1 2 1 1 1 1 1 0 1\n",
      " 1 1 1 2 1 1 1 1 1 2 1 2 0 2 2 0 0 2 1 1 1 1 0 2 1 1 0 0 1 0 0 0 2 0 0 1 1\n",
      " 0 1 0 1 0 1 0 2 0 1 2 1 1 1 1 0 2 1 2 1 2 2 1 0 2 1 1 1 1 1 2 2 1 2 1 0 2\n",
      " 0 1 2 1 0 2 2 0 2 0 1 0 2 0 0 0 2 2 1 2 1 0 2 2 2 0 2 0 1 1 1 2 2 2 0 1 2\n",
      " 1 1 1 2 1 1 2 1 1 1 1 2 2 0 1 0 0 2 0 0 1 1 1 0 2 0 2 2 2 0 0 1 0 1 2 2 1\n",
      " 1 1 2 1 0 2 1 0 2 1 0 1 2 0 2 1 1 1 2 2 0 1 0 2 2 0 1 0 1 0 0 0 0 1 1 1 0\n",
      " 1 0 1 2 0 2 0 0 1 1 1 1 0 1 1 0 2 1 0 1 0 1 1 2 2 1 0 0 1 1 2 1 1 0 0 1 1\n",
      " 0 2 2 1 1 1 2 1 1 0 0 1 2 1 1 1 2 1 1 2 1 0 1 2 1 0 1 1 1 2 1 1 1 2 0 2 2\n",
      " 0 1 0 1 1 1 0 0 1 1 0 0 1 0 1 0 0 1 1 2 0 1 0 2 0 1 2 0 2 1 0 1 1 0 2 1 0\n",
      " 1 1 1 0 0 1 1 0 1 1 1 1 1 1 0 2 2 2 1 0 2 1 0 1 1 1 1 1 1 0 0 0 1 0 0 1 1\n",
      " 0 1 2 1 0 1 1 0 1 0 0 0 2 0 0 1 0 2 0 1 2 2 0 0 2 1 0 0 1 2 1 2 1 1 0 0 0\n",
      " 1 0 0 0 1 2 0 0 0 2 0 0 1 0 2 0 2 2 0 0 0 0 0 0 1 0 1 0 2 0 1 1 1 1 0 0 0\n",
      " 0 2 0 0 2 2 0 1 0 2 0 1 2 1 0 1 1 0 2 2 0 1 0 1 1 1 0 1 1 1 0 1 0 1 0 1 2\n",
      " 0 0 0 1 1 0 1 0 1 0 0 0 1 0 2 1 0 1 2 0 0 0 0 0 0 0 0 2 1 1 0 0 1 1 0 2 1\n",
      " 0 0 1 1 1 2 0 1 2 1 2 2 2 0 2 1 0 2 2 2 0 0 2 1 0 0 0 2 0 1 1 0 0 2 1 1 0\n",
      " 2 0 0 2 2 0 2 0 2 0 2 1 1 0 2 2 0 1 1 1 0 2 0 2 1 0 1 0 0 1 2 0 0 2 0 0 1\n",
      " 0 0 1 1 0 2 2 0 0 1 1 1 0 1 1 1 1 1 0 1 1 1 1 2 1 2 1 0 1 0 0 1 1 1 2 0 1\n",
      " 0 2 0 1 0 1 0 0 1 1 1 0 0 1 1 1 1 1 2 2 0 2 2 1 1 1 1 1 1 0 0 1 1 0 1 0 2\n",
      " 1 0 0 0 0 1 2 1 0 1 1 0 1 0 1 1 0 1 0 2 0 0 0 0 1 0 0 1 0 0 0 1 1 2 1 2 0\n",
      " 0 1 0 1 2 0 0 1 2 2 1 2 0 1 0 0 0 1 0 2 0 0 0 2 0 0 0 2 1 1 0 1 0 0 1 0 1\n",
      " 0 1 1 0 2 0 0 1 1 1 1 1 1 2 1 2 1 1 2 1 1 1 0 2 0 0 2 1 2 0 1 1 2 0 1 0 2\n",
      " 2 0 2 0 0 0 0 2 2 1 2 0 2 0 1 1 2 1 1 1 2 0 0 1 1 2 1 1 2 0 2 1 0 0 1 2 1\n",
      " 0 1 1 2 0 0 1 0 0 0 0 2 1 1 1 1 1 0 2 0 0 1 2 0 1 0 1 2 0 2 0 2 2 1 0 0 0\n",
      " 0 2 2 0 2 0 2 0 1 0 1 0 0 1 0 0 1 0 0 2 0 2 2 0 0 1 1 2 0 0 1 2 2 0 2 0 0\n",
      " 1 0 1 0 1 2 0 1 1 0 2 1 0 2 0 0 0 1 1 1 1 1 1 2 1 1 0 0 1 1 1 1 2 1 1 1 0\n",
      " 0 1 1 0 1 2 0 0 1 0 0 1 1 0 0 1 1 0 1 0 0 1 0 0 0 0 0 0 1 0 0 0 1 1 1 0 1\n",
      " 2 0 1 0 0 1 1 0 1 0 0 1 0 1 2 1 2 0 1 1 1 2 1 0 1 1 1 1 1 1 1 1 1 1 1 1 2\n",
      " 2 2 2 1 1 1 1 1 1 2 2 1 1 2 2 2 2 2 2 2 2 2 2 1 1 2 2 2 1 2 2 1 1 2 1 1 1\n",
      " 2 1 2 1 1 1 1 2 1 2 1 1 2 2 1 1 1 2 0 2 2 2 2 1 2 2 2 2 2 2 2 2 2 2 2 2 2\n",
      " 2 2 2 2 2 2 2 2 2 2 0 2 1 2 2 2 2 2 2 2 1 2 2 2 2 2 2 2 2 2 2 2 2 2 1 2 2\n",
      " 2 2 2 2 2 2 2 1 2 1 2 2 2 2 2 2 2 2 2 2 2 2 2 2 2 2 2 2 2 2 2 2 2 2 2 2 2\n",
      " 2 2 2 2 2 0 2 2 2 2 2 2 2 2 2 2 2 2 2 2 2 2 2 2 2 2 2 2 2 2 2 2 2 2 2 2 0\n",
      " 0 0 0 0 0 0 0 0 0 0 0 0 0 0 0 0 0 0 0 0 0 0 0 0 0 0 0 0 0 0 0 0 0 0 0 0 0\n",
      " 0 0 0 0 0 0 0 0 0 0 0 0 0 0 0 0 0 0 0 0 0 0 0 0 0 0 0 0 0 0 0 0 0 0 0 0 0\n",
      " 0 0 0 0 0 0 0 0 0 0 0 0 0 0 0 0 1 0 0 0 0 0 0 0 0 0 0 0 0 0 0 0 0 0 1 0 1\n",
      " 0 0 0 0 0 0 0 0 0 0 0 0 1 0 0 2 1 2 0 0 1 1 0 1 1 0 0 1 0 0 0 0 2 0 0 0 0\n",
      " 0 1 0 0 0 0 1 1 0 0 0 1 0 1 0 1 1 0 1 0 0 1 1 1 0 0 1 1 2 2 2 1 2 2 2 2 2\n",
      " 2 2 2 2 2 2 2 2 2 2 2 2 2 2 2 2 2 2 2 2 2 2 2 2 2 2 2 2 2 2 2 2 2 2 2 2 2\n",
      " 2 2 2 2 2 2 2 2 2 2 2 2 2 2 2 2 2 2 2 2 2 2 2 2 2 2 2 2 2 2 2 2 2 2 2 1 2\n",
      " 1 2 1 1 1 2 2 2 2 2 2 2 2 2 2 2 2 2 2 2 2 2 2 2 2 2 2 2 2 2 2 2 2 2 2 2 2\n",
      " 2 2 2 2 2 2 2 2 1 2 1 2 2 2 2 2 2 2 2 2 2 2 2 2 2 2 2 2 2 2 2 2 2 2 2 2 2\n",
      " 2 2 2 2 2 2 2 2 2 1 2 2 2 2 2 2 2 2 2 2 2 2 2 2 2 2 2 2 2 2 2 2 2 2 2 2 2\n",
      " 2 2 2 2 2 2 2 2 2 2 2 2 2 2 2 2 2 2 2 2 2 2 2 2 2 2 2 2 2 2 2 2 2 2 2 2 2\n",
      " 2 2 1 2 1 0 2 2 2 2 2 2 2 2 2 2 2 2 2 2 2 2 2 2 1 1 2 2 2 0 2 0 2 2 2 2 2\n",
      " 2 2 2 0 2 1 1 2 2 0 2 1 0 2 2 2 1 2 2 2 0 2 2 0 2 2 2 2 2 2 0 2 2 2 0 2 0\n",
      " 2 0 2 2 2 2 2 2 2 0 2 1 2 2 2 2 2 2 2 2 2 2 2 2 2 2 2 2 2 2 2 2 2 2 2 2 2\n",
      " 2 2 2 2 2 2 2 2 2 2 2 2 2 2 2 2 2 2 2 2 2 2 2 2 2 2 1 1 2 2 2 2 2 2 2 2 2\n",
      " 2 2 2 2 2 1 2 2 2 2 2 2 2 2 2 2 2 2 2 2 2 2 2 2 2 2 2 2 1 2 0 2 2 0 2 2 0\n",
      " 2 2 2 0 2 2 2 2 0 2 2 0 0 0 2 2 2 2 2 0 2 2 2 2 2 2 2 0 2 2 2 1 2 2 0 2 2\n",
      " 0 0 0 1 0 0 0 0 0 0 0 0 0 0 0 0 0 0 0 0 0 0 0 0 0 0 0 0 0 0 0 0 0 0 0 0 0\n",
      " 0 0 0 0 0 0 0 0 0 0 0 0 0 0 0 0 0 0 0 0 0 0 0 0 0 0 0 0 0 0 0 0 0 0 0 0 0\n",
      " 0 0 0 0 0 0 0 0 0 0 0 0 0 0 0 0 0 0 0 0 0 0 0 0 0 0 0 0 0 0 0 0 0 0 0 0 0\n",
      " 0 0 0 0 0 0 0 0 0 0 0 0 0 0 0 0 0 0 0 0 0 0 0 0 0 0 0 1 0 0 0 0 0 0 0 0 0\n",
      " 0 0 0 0 0 0 0 0 0 0 0 0 0 0 0 0 0 0 0 0 0 0 0 0 0 0 0 0 0 0 0 0 1 1 0 0 0\n",
      " 0 0 0 0 0 0 0 0 0 0 0 0 0 0 0 0 0 0 0 0 0 0 0 0 0 0 0 0 0 0 0 0 0 0 0 0 0\n",
      " 0 0 0 0 0 0 0 0 0 0 0 0 0 0 0 0 0 0 0 0 0 0 0 1 1 1 0 1 1 0 0 2 1 0 2 2 1\n",
      " 1 1 1 1 1 1 0 1 1 1 1 0 1 1 1 1 0 1 1 2 1 2 1 1 1 1 1 1 1 1 0 1 1 1 2 2 1\n",
      " 1 1 1 0 1 1 1 1 1 1 1 1 1 1 1 1 1 1 1 1 0 1 1 1 1 1 1 1 1 1 0 2 1 1 1 1 1\n",
      " 1 1 0 1 1 1 1 1 1 1 1 1 1 2 0 1 1 1 1 1 1 0 1 1 1 1 1 2 1 1 1 1 0 2 1 1 1\n",
      " 1 1 1 1 1 2 0 1 1 1 1 1 1 0 1 1 1 1 1 2 1 0 1 1 1 1 1 1 1 1 1 1 0 1 1 1 1\n",
      " 0 1 1 1 1 1 1 1 1 1 0 1 1 1 1 1 1 1 1 1 1 2 1 1 1 1 2 1 0 1 1 1 1 1 2 1 1\n",
      " 1 1 0 1 1 1 1 1 1 1 1 1 1 1 1 1 0 1 1 1 1 1 1 1 2 1 0 1 2 1 2 2 1 2 1 1 2\n",
      " 1 1 1 1 1 1 0 1 1 2 1 1 1 1 0 0 1 1 1 1 1 2 0 1 1 1 1 1 1 2 2 1 0 1 1 2 1\n",
      " 1 1 1 1 1 1 0 1 2 1 1 1 1 1 1 1 1 1 1 1 0 1 1 1 1 1 0 1 1 1 1 1 1 1 1 1 1\n",
      " 2 1 1 1 1 1 1 2 1 1 1 1 1 2 1 1 1 1 1 2 0 1 1 2 1 1 1 1 1 1 2 1 1 2 0 1 1\n",
      " 1 1 1 2 1 1 2 2 0 1 1 2 1 1 0 1 1 1 1 1 0 1 1 1 1 1 0 2 2 2 1 1 1 1 1 1 1\n",
      " 1 1 1 1 1 1 1 2 0 2 0 0 1 1 1 0 1 0 1 1 0 1 1 0 1 1 1 0 1 2 2 0 1 2 1 0 1\n",
      " 0 0 1 1 0 0 0 1 1 0 0 1 1 1 0 1 1 1 0 0 1 1 1 0 1 1 0 0 0 0 0 1 0 1 0 1 0\n",
      " 1 0 1 1 0 0 0 1 0 1 0 1 1 0 1 0 0 1 0 0 1 0 0 0 1 0 1 1 0 0 1 0 0 0 0 0 1\n",
      " 0 1 1 0 0 1 0 0 0 0 2 1 0 0 1 0 0 0 1 1 1 0 1 0 0 1 0 0 1 0 1 0 1 0 1 0 1\n",
      " 0 2 1 0 1 1 0 1 0 0 1 0 0 1 0 1 0 1 0 0 0 1 0 2 0 1 1 1 0 0 1 0 0 0 0 0 0\n",
      " 0 0 1 0 1 0 1 2 0 1 0 1 2 0 0 2 1 0 1 0 2 1 0 1 0 0 0 0 1 0 0 1 1 0 0 1 0\n",
      " 1 0 1 0 0 1 0 0 0 0 1 1 1 0 0 1 1 0 0 1 1 0 1 0 1 0 0 0 1 0 0 0 1 0 0 1 0\n",
      " 1 0 1 0 2 1 0 1 0 0 1 1 0 0 0 0 1 0 1 0 0 1 0 0 0 0 1 1 2 2 1 0 1 0 1 1 1\n",
      " 0 1 1 0 1 0 1 0 0 1 1 1 0 0 0 1 1 0 1 1 0 0 1 2 0 1 1 0 1 1 1 0 1 1 0 2 1\n",
      " 0 1 1 1 1 0 1 1 0 2 1 1 0 0 1 0 1 1 1 0 1 0 0 0 2 0 1 0 0 1 1 1 0 1 1 1 0\n",
      " 1 2 0 0 1 0 0 0 0 0 0 0 0 2 0 1 0 0 2 0 0 0 0 0 0 1 0 0 0 1 0 1 0 1 2 0 0\n",
      " 1 1 1 1 0 0 1 0 1 0 1 0 0 1 0 1 0 2 0 0 2 0 0 1 0 0 0 1 0 0 1 0 1 1 1 0 0\n",
      " 1 0 1 1 0 0 1 1 0 1 1 0 0 1 1 0 0 1 0 1 0 0 1 0 1 2 1 0 0 1 0 1 1 0 1 0 0\n",
      " 0 1 0 1 1 0 2 0 1 1 0 1 2 0 2 0 0 1 1 1 0 0 2 1 0 0 1 1 2 0 1 2 1 1 1 1 1\n",
      " 0 1 1 2 1 1 0 1 1 2 2 1 0 1 1 1 1 0 1 1 1 0 1 2 2 1 2 1 0 1 2 1 2 1 2 2 2\n",
      " 2 1 0 2 2 2 1 1 1 0 1 1 1 1 1 1 1 0 2 2 1 1 0 0 2 1 0 2 1 1 0 1 2 0 1 1 1\n",
      " 1 0 1 2 1 1 1 0 1 2 1 0 2 1 1 0 2 1 0 1 1 1 1 2 0 1 1 1 2 0 1 2 0 2 1 0 2\n",
      " 2 1 1 1 1 0 1 1 1 1 0 1 1 1 1 1 1 1 0 1 1 1 1 0 2 1 1 1 0 1 1 0 1 1 1 0 1\n",
      " 1 1 1 1 0 1 2 1 1 1 2 1 0 1 0 1 0 0 1 1 1 1 0 1 1 1 0 1 1 1 0 1 1 1 1 0 1\n",
      " 1 0 1 1 1 0 2 1 1 1 2 0 1 1 0 1 1 0 1 1 1 1 2 0 1 1 1 0 1 1 1 0 2 1 0 1 1\n",
      " 0 1 1 2 0 1 1 1 1 0 0 1 1 0 0 1 0 1 1 0 1 0 1 1 0 0 1 2 1 2 1 1 2 0 1 1 0\n",
      " 1 0 1 1 0 1 1 1 0 0 1 0 1 0 1 1 1 0 1 2 2 0 2 2 0 1 0 1 1 0 0 1 2 0 1 1 0\n",
      " 1 0 1 1 0 1 0 1 1 1 0 1 1 0 2 1 0 1 1 0 1 1 1 1 0 1 1 1 0 1 0 1 1 1 1 0 1\n",
      " 2 1 1 0 1 1 1 1 1 1 0 2 1 1 0 1 1 1 1 0 1 0 1 1 1 0 1 0 0 2 1 1 0 1 1 1 1\n",
      " 1 0 1 1 2 0 0 1 0 2 1 1 0 0 1 1 1 0 1 2 1 0 2 1 0 1 2 1 0 2 1 0 1 1 0 1 1\n",
      " 0 1 2 1 0 1 1 1 0 1 1 1 0 2 1 0 1 0 2 0 1 1 1 1 0 2 0 1 1 0 1 0 1 1 0 1 1\n",
      " 1 0 1 1 1 0 1 0 1 1 1 2 0 2 1 0 1 0 0 1 0 1 0 1 1 0 1 1 0 2 0 1 1 0 1 2 2\n",
      " 0 1 1 0 0 2 1 1 0 1 1 0 1 2 1 2 2 0 1 0 0 1 1 0 1 1 1 0 1 2 2 1 0 0 2 2 2\n",
      " 1 0 1 2 0 1 1 1 0 1 1 0 0 2 0 1 1 1 1 0 1 1 2 0 1 0 0 1 0 0 0 0 0 0 0 0 0\n",
      " 0 0 0 0 0 0 0 0 0 0 0 0 0 0 0 0 0 0 0 0 0 0 0 0 0 0 0 1 0 0 0 0 0 0 0 0 0\n",
      " 0 0 0 0 0 0 0 0 0 0 0 0 0 0 0 0 0 0 0 0 0 0 0 0 0 0 0 0 0 0 0 0 0 0 0 0 0\n",
      " 0 0 0 0 1 0 0 0 0 0 0 0 0 0 0 0 0 0 0 0 0 2 2 0 0 1 0 2 0 0 1 1 1 0 0 0 0\n",
      " 2 0 1 1 1 0 0 0 2 0 0 1 1 0 0 0 1 0 0 1 1 0 0 1 1 1 0 0 0 1 1 0 0 1 1 1 0\n",
      " 0 0 1 0 0 1 1 1 0 0 0 1 1 1 0 0 1 1 0 1 1 1 0 0 0 0 0 1 1 1 1 1 1 0 1 1 1\n",
      " 0 0 1 0 1 0 0 0 0 1 1 1 1 1 1 0 0 1 0 1 2 0 0 1 0 0 1 1 0 0 1 1 1 0 0 1 1\n",
      " 2 0 0 0 1 0 1 1 2 0 0 0 0 0 1 2 0 0 0 0 1 1 1 1 2 0 0 1 0 0 1 1 0 1 0 1 0\n",
      " 1 0 1 0 1 2 1 1 0 0 0 0 2 2 0 1 1 0 0 0 0 1 0 0 1 0 0 0 1 1 0 1 0 1 1 1 0\n",
      " 0 1 0 0 1 0 1 0 1 1 0 0 1 1 1 1 0 1 0 2 2 1 1 1 1 1 1 1 0 1 0 1 1 0 0 1 1\n",
      " 0 1 1 1 1 0 0 0 1 1 0 0 1 1 1 1 1 1 1 1 1 1 1 1 1 2 2 1 1 2 1 1 1 1 1 1 1\n",
      " 1 1 0 1 0 0 1 2 1 1 0 1 0 0 1 1 1 0 1 0 1 0 1 1 0 1 1 1 1 0 1 1 1 1 1 1 1\n",
      " 2 1 1 1 1 1 1 1 0 0 1 1 1 1 1 0 0 1 1 1 1 1 0 0 0 1 1 0 1 0 0 0 1 0 0 1 0\n",
      " 1 0 0 0 0 0 1 1 1 0 1 1 0 1 1 0 0 0 0 1 1 0 0 0 1 0 1 0 1 1 0 0 0 1 0 0 0\n",
      " 1 0 1 1 0 0 1 1 0 0 0 0 0 0 0 0 0 0 0 1 0 0 0 0 1 1 0 1 1 1 1 1 1 0 1 1 0\n",
      " 0 0 0 0 0 0 1 0 0 0 0 0 0 0 0 0 0 0 0 1 0 0 0 0 0 0 0 1 0 0 0 1 0 0 0 0 0\n",
      " 1 0 0 0 0 0 1 1 1 1 0 0 1 0 0 0 0 0 0 0 0 0 1 0 0 0 1 0 0 0 0 0 1 0 0 0 0\n",
      " 0 0 0 1 0 0 1 0 0 0 0 0 0 1 0 0 0 0 0 0 0 0 0 0 1 0 0 0 0 0 0 1 1 1 1 0 0\n",
      " 0 0 0 0 0 0 0 0 0 0 0 0 1 1 0 1 0 0 0 0 1 0 1 1 1 0 0 0 0 0 1 0 0 1 1 0 0\n",
      " 0 1 0 0 1 1 0 0 0 0 0 1 1 2 1 1 0 1 1 1 0 0 0 0 0 0 1 1 0 1 1 1 1 1 1 0 1\n",
      " 1 1 0 0 1 1 0 1 0 1 0 1 0 1 1 1 1 1 0 1 1 1 0 1 0 0 1 1 0 1 0 0 2 0 1 1 0\n",
      " 0 0 1 0 0 0 1 1 0 1 0 1 2 0 1 0 0 1 0 2 0 1 1 1 1 0 1 1 0 1 0 1 2 1 1 1 0\n",
      " 1 1 0 0 0 1 0 1 0 1 1 1 1 1 1 1 2 1 0 1 1 0 0 0 0 2 2 2 2 0 2 0 2 2 0 2 1\n",
      " 2 0 0 0 1 2 0 0 0 1 0 0 1 0 0 0 0 2 0 1 2 0 1 2 0 1 0 0 1 2 0 1 1 2 2 2 1\n",
      " 0 1 2 2 2 2 0 1 2 2 0 2 2 0 0 0 1 2 0 1]\n"
     ]
    }
   ],
   "source": [
    "#define function for result of first clustering\n",
    "def clustering(S):\n",
    "    return np.argmin(S, axis = 1)\n",
    "\n",
    "first_cluster = clustering(first_distance)\n",
    "print('===========================RESULT FIRST CLUSTERING==========================\\n')\n",
    "np.set_printoptions(threshold = np.inf)\n",
    "print(first_cluster)"
   ]
  },
  {
   "cell_type": "code",
   "execution_count": 74,
   "id": "72a05f95",
   "metadata": {},
   "outputs": [
    {
     "name": "stdout",
     "output_type": "stream",
     "text": [
      "Silhouette Score :  0.030899748535512802\n"
     ]
    }
   ],
   "source": [
    "#check silhouette coefficient\n",
    "silhouette_avg = silhouette_score(df_norm, first_cluster)\n",
    "print('Silhouette Score : ', silhouette_avg)"
   ]
  },
  {
   "cell_type": "code",
   "execution_count": 75,
   "id": "a5022129",
   "metadata": {},
   "outputs": [
    {
     "data": {
      "text/html": [
       "<div>\n",
       "<style scoped>\n",
       "    .dataframe tbody tr th:only-of-type {\n",
       "        vertical-align: middle;\n",
       "    }\n",
       "\n",
       "    .dataframe tbody tr th {\n",
       "        vertical-align: top;\n",
       "    }\n",
       "\n",
       "    .dataframe thead th {\n",
       "        text-align: right;\n",
       "    }\n",
       "</style>\n",
       "<table border=\"1\" class=\"dataframe\">\n",
       "  <thead>\n",
       "    <tr style=\"text-align: right;\">\n",
       "      <th></th>\n",
       "      <th>principal component I</th>\n",
       "      <th>principal component II</th>\n",
       "      <th>principal component III</th>\n",
       "    </tr>\n",
       "  </thead>\n",
       "  <tbody>\n",
       "    <tr>\n",
       "      <th>0</th>\n",
       "      <td>0.446218</td>\n",
       "      <td>0.068944</td>\n",
       "      <td>0.069631</td>\n",
       "    </tr>\n",
       "    <tr>\n",
       "      <th>1</th>\n",
       "      <td>-0.237240</td>\n",
       "      <td>-0.010435</td>\n",
       "      <td>0.000432</td>\n",
       "    </tr>\n",
       "    <tr>\n",
       "      <th>2</th>\n",
       "      <td>0.429787</td>\n",
       "      <td>-0.028372</td>\n",
       "      <td>-0.030774</td>\n",
       "    </tr>\n",
       "    <tr>\n",
       "      <th>3</th>\n",
       "      <td>-0.237808</td>\n",
       "      <td>-0.021956</td>\n",
       "      <td>0.002411</td>\n",
       "    </tr>\n",
       "    <tr>\n",
       "      <th>4</th>\n",
       "      <td>-0.235285</td>\n",
       "      <td>0.008596</td>\n",
       "      <td>0.007529</td>\n",
       "    </tr>\n",
       "  </tbody>\n",
       "</table>\n",
       "</div>"
      ],
      "text/plain": [
       "   principal component I  principal component II  principal component III\n",
       "0               0.446218                0.068944                 0.069631\n",
       "1              -0.237240               -0.010435                 0.000432\n",
       "2               0.429787               -0.028372                -0.030774\n",
       "3              -0.237808               -0.021956                 0.002411\n",
       "4              -0.235285                0.008596                 0.007529"
      ]
     },
     "execution_count": 75,
     "metadata": {},
     "output_type": "execute_result"
    }
   ],
   "source": [
    "#PCA transformation\n",
    "pca = PCA(n_components = 3)\n",
    "principalComponents = pca.fit_transform(df_norm)\n",
    "PCAdf = pd.DataFrame(data = principalComponents , columns = ['principal component I', 'principal component II', \n",
    "                                                             'principal component III'])\n",
    "\n",
    "datapoints = PCAdf.values\n",
    "PCAdf.head()"
   ]
  },
  {
   "cell_type": "code",
   "execution_count": 76,
   "id": "92ebd873",
   "metadata": {},
   "outputs": [
    {
     "data": {
      "image/png": "[encoded data removed]",
      "text/plain": [
       "<Figure size 576x432 with 1 Axes>"
      ]
     },
     "metadata": {
      "needs_background": "light"
     },
     "output_type": "display_data"
    }
   ],
   "source": [
    "#visualize PCA transformation\n",
    "fig = plt.figure(1, figsize=(8, 6))\n",
    "ax = Axes3D(fig, elev = 200, azim = 110)\n",
    "X_reduced = datapoints\n",
    "ax.scatter(X_reduced[:, 0], X_reduced[:, 1], X_reduced[:, 2], c = first_cluster, cmap = plt.cm.Set1, edgecolor = 'k', s = 40)\n",
    "ax.set_title('First Three PCA Direction', fontsize = 15, pad = 12, fontweight = 'bold')\n",
    "ax.set_xlabel('Principal Component I', fontsize = 12)\n",
    "ax.w_xaxis.set_ticklabels([])\n",
    "ax.set_ylabel('principal Component II', fontsize = 12)\n",
    "ax.w_yaxis.set_ticklabels([])\n",
    "ax.set_zlabel('Principal Component III', fontsize = 12)\n",
    "ax.w_zaxis.set_ticklabels([])\n",
    "plt.show()"
   ]
  },
  {
   "cell_type": "code",
   "execution_count": 77,
   "id": "338c5227",
   "metadata": {},
   "outputs": [
    {
     "data": {
      "text/html": [
       "<div>\n",
       "<style scoped>\n",
       "    .dataframe tbody tr th:only-of-type {\n",
       "        vertical-align: middle;\n",
       "    }\n",
       "\n",
       "    .dataframe tbody tr th {\n",
       "        vertical-align: top;\n",
       "    }\n",
       "\n",
       "    .dataframe thead th {\n",
       "        text-align: right;\n",
       "    }\n",
       "</style>\n",
       "<table border=\"1\" class=\"dataframe\">\n",
       "  <thead>\n",
       "    <tr style=\"text-align: right;\">\n",
       "      <th></th>\n",
       "      <th>status_type</th>\n",
       "      <th>num_reactions</th>\n",
       "      <th>num_comments</th>\n",
       "      <th>num_shares</th>\n",
       "      <th>num_likes</th>\n",
       "      <th>num_loves</th>\n",
       "      <th>num_wows</th>\n",
       "      <th>num_hahas</th>\n",
       "      <th>num_sads</th>\n",
       "      <th>num_angrys</th>\n",
       "      <th>Cluster</th>\n",
       "    </tr>\n",
       "  </thead>\n",
       "  <tbody>\n",
       "    <tr>\n",
       "      <th>0</th>\n",
       "      <td>3</td>\n",
       "      <td>529</td>\n",
       "      <td>512</td>\n",
       "      <td>262</td>\n",
       "      <td>432</td>\n",
       "      <td>92</td>\n",
       "      <td>3</td>\n",
       "      <td>1</td>\n",
       "      <td>1</td>\n",
       "      <td>0</td>\n",
       "      <td>0</td>\n",
       "    </tr>\n",
       "    <tr>\n",
       "      <th>1</th>\n",
       "      <td>1</td>\n",
       "      <td>150</td>\n",
       "      <td>0</td>\n",
       "      <td>0</td>\n",
       "      <td>150</td>\n",
       "      <td>0</td>\n",
       "      <td>0</td>\n",
       "      <td>0</td>\n",
       "      <td>0</td>\n",
       "      <td>0</td>\n",
       "      <td>0</td>\n",
       "    </tr>\n",
       "    <tr>\n",
       "      <th>2</th>\n",
       "      <td>3</td>\n",
       "      <td>227</td>\n",
       "      <td>236</td>\n",
       "      <td>57</td>\n",
       "      <td>204</td>\n",
       "      <td>21</td>\n",
       "      <td>1</td>\n",
       "      <td>1</td>\n",
       "      <td>0</td>\n",
       "      <td>0</td>\n",
       "      <td>0</td>\n",
       "    </tr>\n",
       "    <tr>\n",
       "      <th>3</th>\n",
       "      <td>1</td>\n",
       "      <td>111</td>\n",
       "      <td>0</td>\n",
       "      <td>0</td>\n",
       "      <td>111</td>\n",
       "      <td>0</td>\n",
       "      <td>0</td>\n",
       "      <td>0</td>\n",
       "      <td>0</td>\n",
       "      <td>0</td>\n",
       "      <td>0</td>\n",
       "    </tr>\n",
       "    <tr>\n",
       "      <th>4</th>\n",
       "      <td>1</td>\n",
       "      <td>213</td>\n",
       "      <td>0</td>\n",
       "      <td>0</td>\n",
       "      <td>204</td>\n",
       "      <td>9</td>\n",
       "      <td>0</td>\n",
       "      <td>0</td>\n",
       "      <td>0</td>\n",
       "      <td>0</td>\n",
       "      <td>0</td>\n",
       "    </tr>\n",
       "  </tbody>\n",
       "</table>\n",
       "</div>"
      ],
      "text/plain": [
       "   status_type  num_reactions  num_comments  num_shares  num_likes  num_loves  \\\n",
       "0            3            529           512         262        432         92   \n",
       "1            1            150             0           0        150          0   \n",
       "2            3            227           236          57        204         21   \n",
       "3            1            111             0           0        111          0   \n",
       "4            1            213             0           0        204          9   \n",
       "\n",
       "   num_wows  num_hahas  num_sads  num_angrys  Cluster  \n",
       "0         3          1         1           0        0  \n",
       "1         0          0         0           0        0  \n",
       "2         1          1         0           0        0  \n",
       "3         0          0         0           0        0  \n",
       "4         0          0         0           0        0  "
      ]
     },
     "execution_count": 77,
     "metadata": {},
     "output_type": "execute_result"
    }
   ],
   "source": [
    "#adding result cluster to original dataframe\n",
    "df_facebook['Cluster'] = first_cluster\n",
    "df_facebook = df_facebook.drop('index', axis = 1)\n",
    "df_facebook.head()"
   ]
  }
 ],
 "metadata": {
  "kernelspec": {
   "display_name": "Python 3 (ipykernel)",
   "language": "python",
   "name": "python3"
  },
  "language_info": {
   "codemirror_mode": {
    "name": "ipython",
    "version": 3
   },
   "file_extension": ".py",
   "mimetype": "text/x-python",
   "name": "python",
   "nbconvert_exporter": "python",
   "pygments_lexer": "ipython3",
   "version": "3.9.6"
  }
 },
 "nbformat": 4,
 "nbformat_minor": 5
}
